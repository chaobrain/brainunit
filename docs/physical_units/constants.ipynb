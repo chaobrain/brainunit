{
 "cells": [
  {
   "cell_type": "markdown",
   "metadata": {},
   "source": [
    "# Constants\n",
    "\n",
    "[![Colab](https://colab.research.google.com/assets/colab-badge.svg)](https://colab.research.google.com/github/chaoming0625/brainunit/blob/master/docs/physical_units/constants.ipynb)\n",
    "[![Open in Kaggle](https://kaggle.com/static/images/open-in-kaggle.svg)](https://kaggle.com/kernels/welcome?src=https://github.com/chaoming0625/brainunit/blob/master/docs/physical_units/constants.ipynb)"
   ]
  },
  {
   "cell_type": "markdown",
   "metadata": {},
   "source": [
    "`brainunit` contains a number of physical constants."
   ]
  },
  {
   "cell_type": "markdown",
   "metadata": {},
   "source": [
    "You can import a Constant directly from the `brainunit` package:"
   ]
  },
  {
   "cell_type": "code",
   "metadata": {
    "ExecuteTime": {
     "end_time": "2024-08-29T13:27:30.134246Z",
     "start_time": "2024-08-29T13:27:29.540907Z"
    }
   },
   "source": "import brainunit as u",
   "outputs": [],
   "execution_count": 1
  },
  {
   "cell_type": "markdown",
   "metadata": {},
   "source": [
    "## Avogadro Number\n",
    "\n",
    "Avogadro’s number, number of units in one mole of any substance (defined as its molecular weight in grams), equal to $6.02214076 × 10^{23}$. The units may be electrons, atoms, ions, or molecules, depending on the nature of the substance and the character of the reaction (if any).See also [Avogadro’s law](https://www.britannica.com/science/Avogadros-law)."
   ]
  },
  {
   "cell_type": "code",
   "metadata": {
    "ExecuteTime": {
     "end_time": "2024-08-29T13:27:30.260850Z",
     "start_time": "2024-08-29T13:27:30.134246Z"
    }
   },
   "source": "u.avogadro_constant",
   "outputs": [
    {
     "data": {
      "text/plain": [
       "6.022141e+23 * mole"
      ]
     },
     "execution_count": 2,
     "metadata": {},
     "output_type": "execute_result"
    }
   ],
   "execution_count": 2
  },
  {
   "cell_type": "markdown",
   "metadata": {},
   "source": [
    "## Boltzmann constant\n",
    "\n",
    "Boltzmann constant, (symbol $k$), a fundamental constant of physics occurring in nearly every statistical formulation of both classical and quantum physics. The constant is named after Ludwig Boltzmann, a 19th-century Austrian physicist, who substantially contributed to the foundation and development of statistical mechanics, a branch of theoretical physics. Having dimensions of energy per degree of temperature, the Boltzmann constant has a defined value of $1.380649 × 10^{−23}$ joule per kelvin (K), or $1.380649 × 10^{−16}$ erg per kelvin. The molar gas constant $R$ is defined as Avogadro’s number times the Boltzmann constant."
   ]
  },
  {
   "cell_type": "code",
   "metadata": {
    "ExecuteTime": {
     "end_time": "2024-08-29T13:27:30.267112Z",
     "start_time": "2024-08-29T13:27:30.260850Z"
    }
   },
   "source": "u.boltzmann_constant",
   "outputs": [
    {
     "data": {
      "text/plain": [
       "1.3806486e-23 * joule / kelvin"
      ]
     },
     "execution_count": 3,
     "metadata": {},
     "output_type": "execute_result"
    }
   ],
   "execution_count": 3
  },
  {
   "cell_type": "markdown",
   "metadata": {},
   "source": [
    "# Electric constant\n",
    "\n",
    "The electric constant, also known as the vacuum permittivity, permittivity of free space, or the Dielectric constant of free space, is an ideal, (baseline) physical constant, which is the value of the absolute dielectric permittivity of classical vacuum. Its value is: $ε_0 = 8.8541878188(14)×10^{−12}$ farads per metre."
   ]
  },
  {
   "cell_type": "code",
   "metadata": {
    "ExecuteTime": {
     "end_time": "2024-08-29T13:27:30.275338Z",
     "start_time": "2024-08-29T13:27:30.267112Z"
    }
   },
   "source": "u.electric_constant",
   "outputs": [
    {
     "data": {
      "text/plain": [
       "8.854188e-12 * farad / meter"
      ]
     },
     "execution_count": 4,
     "metadata": {},
     "output_type": "execute_result"
    }
   ],
   "execution_count": 4
  },
  {
   "cell_type": "markdown",
   "metadata": {},
   "source": [
    "## Electron mass\n",
    "\n",
    "The electron mass is the mass of a subatomic particle with a negative elementary electric charge. The value is $9.1093837015 × 10^{−31}$ kg"
   ]
  },
  {
   "cell_type": "code",
   "metadata": {
    "ExecuteTime": {
     "end_time": "2024-08-29T13:27:30.281684Z",
     "start_time": "2024-08-29T13:27:30.275338Z"
    }
   },
   "source": "u.electron_mass",
   "outputs": [
    {
     "data": {
      "text/plain": [
       "9.109383e-31 * kilogram"
      ]
     },
     "execution_count": 5,
     "metadata": {},
     "output_type": "execute_result"
    }
   ],
   "execution_count": 5
  },
  {
   "cell_type": "markdown",
   "metadata": {},
   "source": [
    "## Elementary charge\n",
    "\n",
    "The elementary charge, usually denoted as $e$ or sometimes $q_e$, is the electric charge carried by a single proton or, equivalently, the absolute value of the electric charge carried by a single electron, equal to $1.602176634 × 10^{−19}$ coulomb. "
   ]
  },
  {
   "cell_type": "code",
   "metadata": {
    "ExecuteTime": {
     "end_time": "2024-08-29T13:27:30.287901Z",
     "start_time": "2024-08-29T13:27:30.281684Z"
    }
   },
   "source": "u.elementary_charge",
   "outputs": [
    {
     "data": {
      "text/plain": [
       "1.6021766e-19 * coulomb"
      ]
     },
     "execution_count": 6,
     "metadata": {},
     "output_type": "execute_result"
    }
   ],
   "execution_count": 6
  },
  {
   "cell_type": "markdown",
   "metadata": {},
   "source": [
    "## Faraday constant\n",
    "\n",
    "Faraday, unit of electricity, used in the study of electrochemical reactions and equal to the amount of electric charge that liberates one gram equivalent of any ion from an electrolytic solution. It was named in honour of the 19th-century English scientist Michael Faraday and equals $9.648533289 × 10^4$ coulombs, or $6.022140857 × 10^{23}$ electrons (see also [Avogadro’s law](https://www.britannica.com/science/Avogadros-law))."
   ]
  },
  {
   "cell_type": "code",
   "metadata": {
    "ExecuteTime": {
     "end_time": "2024-08-29T13:27:30.294257Z",
     "start_time": "2024-08-29T13:27:30.287901Z"
    }
   },
   "source": "u.faraday_constant",
   "outputs": [
    {
     "data": {
      "text/plain": [
       "96485.3359375 * coulomb / mole"
      ]
     },
     "execution_count": 7,
     "metadata": {},
     "output_type": "execute_result"
    }
   ],
   "execution_count": 7
  },
  {
   "cell_type": "markdown",
   "metadata": {},
   "source": [
    "## Gas constant\n",
    "\n",
    "Universal gas constant, (symbol $R$), fundamental physical constant arising in the formulation of the ideal gas law. For an ideal gas (approximated by most real gases that are not highly compressed or not near the point of liquefaction), the pressure $P$ times the volume $V$ of the gas divided by its absolute temperature $T$ is a constant. When one of these three is altered for a given mass of gas, at least one of the other two undergoes a change so that the expression $PV/T$ remains constant. The constant, further, is the same for all gases, provided that the mass of gas being compared is one mole, or one molecular weight in grams. For one mole, therefore, $PV/T = R$.\n",
    "\n",
    "The dimensions of the universal gas constant $R$ are energy per degree per mole. In the metre-kilogram-second system, the value of $R$ is $8.31446261815324$ joules per kelvin ($K$) per mole. The universal gas constant is defined as Avogadro’s number $N_A$ times the Boltzmann constant $k$."
   ]
  },
  {
   "cell_type": "code",
   "metadata": {
    "ExecuteTime": {
     "end_time": "2024-08-29T13:27:30.300366Z",
     "start_time": "2024-08-29T13:27:30.294257Z"
    }
   },
   "source": "u.gas_constant",
   "outputs": [
    {
     "data": {
      "text/plain": [
       "8.3144598 * (joule / mole) / kelvin"
      ]
     },
     "execution_count": 8,
     "metadata": {},
     "output_type": "execute_result"
    }
   ],
   "execution_count": 8
  },
  {
   "cell_type": "markdown",
   "metadata": {},
   "source": [
    "## Magnetic constant\n",
    "\n",
    "The magnetic constant $μ_0$ (also known as vacuum permeability or permeability of free space) is a universal physical constant, an electromagnetic property of classical vacuum, relating mechanical and electromagnetic units of measurement. In the International System of Units (SI), its value is exactly expressed by:\n",
    "\n",
    "$μ0 = 4π × 10^{−7}$ N/A² = $4π×10^{−7}$ henry/metre (H/m) , or approximately $1.2566×10^{−6}$ H/m."
   ]
  },
  {
   "cell_type": "code",
   "metadata": {
    "ExecuteTime": {
     "end_time": "2024-08-29T13:27:30.305691Z",
     "start_time": "2024-08-29T13:27:30.300366Z"
    }
   },
   "source": "u.magnetic_constant",
   "outputs": [
    {
     "data": {
      "text/plain": [
       "1.256637e-06 * newton / ampere2"
      ]
     },
     "execution_count": 9,
     "metadata": {},
     "output_type": "execute_result"
    }
   ],
   "execution_count": 9
  },
  {
   "cell_type": "markdown",
   "metadata": {},
   "source": [
    "## Molar mass constant\n",
    "\n",
    "The molar mass constant, usually denoted by Mu, is a physical constant defined as one twelfth of the molar mass of carbon-12: $M_u = M(^{12}C)/12$. The molar mass of any element or compound is its relative atomic mass (atomic weight) or relative molecular mass (molecular weight) multiplied by the molar mass constant."
   ]
  },
  {
   "cell_type": "code",
   "metadata": {
    "ExecuteTime": {
     "end_time": "2024-08-29T13:27:30.311134Z",
     "start_time": "2024-08-29T13:27:30.306697Z"
    }
   },
   "source": "u.molar_mass_constant",
   "outputs": [
    {
     "data": {
      "text/plain": [
       "1. * gram / mole"
      ]
     },
     "execution_count": 10,
     "metadata": {},
     "output_type": "execute_result"
    }
   ],
   "execution_count": 10
  },
  {
   "cell_type": "markdown",
   "metadata": {},
   "source": [
    "## Zero Celsius\n",
    "\n",
    "Zero Celsius is the temperature at which the Celsius scale sets the freezing point of water at 0 degrees, equal to 273.15 kelvins."
   ]
  },
  {
   "cell_type": "code",
   "metadata": {
    "ExecuteTime": {
     "end_time": "2024-08-29T13:27:30.316981Z",
     "start_time": "2024-08-29T13:27:30.311134Z"
    }
   },
   "source": "u.zero_celsius",
   "outputs": [
    {
     "data": {
      "text/plain": [
       "273.1499939 * kelvin"
      ]
     },
     "execution_count": 11,
     "metadata": {},
     "output_type": "execute_result"
    }
   ],
   "execution_count": 11
  }
 ],
 "metadata": {
  "kernelspec": {
   "display_name": "brainpy-dev",
   "language": "python",
   "name": "python3"
  },
  "language_info": {
   "codemirror_mode": {
    "name": "ipython",
    "version": 3
   },
   "file_extension": ".py",
   "mimetype": "text/x-python",
   "name": "python",
   "nbconvert_exporter": "python",
   "pygments_lexer": "ipython3",
   "version": "3.10.13"
  }
 },
 "nbformat": 4,
 "nbformat_minor": 2
}
