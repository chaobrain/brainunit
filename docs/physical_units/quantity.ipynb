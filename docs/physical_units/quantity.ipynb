{
 "cells": [
  {
   "cell_type": "markdown",
   "metadata": {},
   "source": [
    "# Quantity\n",
    "\n",
    "[![Colab](https://colab.research.google.com/assets/colab-badge.svg)](https://colab.research.google.com/github/chaoming0625/brainunit/blob/master/docs/physical_units/quantity.ipynb)\n",
    "[![Open in Kaggle](https://kaggle.com/static/images/open-in-kaggle.svg)](https://kaggle.com/kernels/welcome?src=https://github.com/chaoming0625/brainunit/blob/master/docs/physical_units/quantity.ipynb)"
   ]
  },
  {
   "cell_type": "markdown",
   "metadata": {},
   "source": [
    "Brainunit generates standard names for units, combining the unit name (e.g. “siemens”) with a prefixes (e.g. “m”), and also generates squared and cubed versions by appending a number. For example, the units “msiemens”, “siemens2”, “usiemens3” are all predefined. You can import these units from the package `brianunit` – accordingly, an `from brainunit import *` will result in everything being imported.\n",
    "\n",
    "We recommend importing only the units you need, to have a cleaner namespace. For example, `import brainunit as u` and then using `u.msiemens` instead of `msiemens`."
   ]
  },
  {
   "cell_type": "code",
   "execution_count": 74,
   "metadata": {
    "ExecuteTime": {
     "end_time": "2024-08-29T13:22:03.776368Z",
     "start_time": "2024-08-29T13:22:03.770531Z"
    }
   },
   "outputs": [],
   "source": [
    "import brainunit as u"
   ]
  },
  {
   "cell_type": "markdown",
   "metadata": {},
   "source": [
    "In the underlying design, Quantity consists of two attributes (mantissa and unit), and the specific value it represents is calculated by the formula below:\n",
    "\n",
    "$$\n",
    "\\mathrm{value} = \\mathrm{mantissa} \\times \\mathrm{unit.base} ^ \\mathrm{unit.scale} * \\text{dimension}, \n",
    "$$\n",
    "\n",
    "where `unit.base` is the base for this unit (as the base of the exponent) and `unit.scale` is the scale for this unit (as the integer exponent of base)\n",
    "\n",
    "\n",
    "A quantity is equivalent to the scientific notation of \n",
    "\n",
    "$$\n",
    "\\mathrm{mantissa} \\times \\mathrm{base}^\\mathrm{scale}\n",
    "$$\n",
    "\n",
    "For example, ``5 * ms`` is equivalent to ``5 * 10^-3 * s = 5 * 0.001 * s = 0.005 * s``.   \n"
   ]
  },
  {
   "cell_type": "markdown",
   "metadata": {},
   "source": [
    "You can generate a physical quantity by multiplying a scalar or ndarray with its physical unit:"
   ]
  },
  {
   "cell_type": "code",
   "execution_count": 75,
   "metadata": {
    "ExecuteTime": {
     "end_time": "2024-08-29T13:22:04.421647Z",
     "start_time": "2024-08-29T13:22:04.414800Z"
    }
   },
   "outputs": [
    {
     "data": {
      "text/plain": [
       "20 * msecond"
      ]
     },
     "execution_count": 75,
     "metadata": {},
     "output_type": "execute_result"
    }
   ],
   "source": [
    "tau = 20 * u.ms\n",
    "tau"
   ]
  },
  {
   "cell_type": "code",
   "execution_count": 76,
   "metadata": {
    "ExecuteTime": {
     "end_time": "2024-08-29T13:22:04.444327Z",
     "start_time": "2024-08-29T13:22:04.437332Z"
    }
   },
   "outputs": [
    {
     "data": {
      "text/plain": [
       "ArrayImpl([10, 20, 30]) * hertz"
      ]
     },
     "execution_count": 76,
     "metadata": {},
     "output_type": "execute_result"
    }
   ],
   "source": [
    "rates = [10, 20, 30] * u.Hz\n",
    "rates"
   ]
  },
  {
   "cell_type": "code",
   "execution_count": 77,
   "metadata": {
    "ExecuteTime": {
     "end_time": "2024-08-29T13:22:04.510939Z",
     "start_time": "2024-08-29T13:22:04.496555Z"
    }
   },
   "outputs": [
    {
     "data": {
      "text/plain": [
       "ArrayImpl([[10, 20, 30],\n",
       "           [20, 30, 40]]) * hertz"
      ]
     },
     "execution_count": 77,
     "metadata": {},
     "output_type": "execute_result"
    }
   ],
   "source": [
    "rates = [[10, 20, 30], [20, 30, 40]] * u.Hz\n",
    "rates"
   ]
  },
  {
   "cell_type": "markdown",
   "metadata": {},
   "source": [
    "Brainunit will check the consistency of operations on units and raise an error for dimensionality mismatches:"
   ]
  },
  {
   "cell_type": "code",
   "execution_count": 78,
   "metadata": {
    "ExecuteTime": {
     "end_time": "2024-08-29T13:22:04.546181Z",
     "start_time": "2024-08-29T13:22:04.542115Z"
    }
   },
   "outputs": [
    {
     "name": "stdout",
     "output_type": "stream",
     "text": [
      "Cannot calculate ... += 1, units do not match (units are ms and Unit(10.0^0)).\n"
     ]
    }
   ],
   "source": [
    "try:\n",
    "    tau += 1  # ms? second?\n",
    "except Exception as e:\n",
    "    print(e)"
   ]
  },
  {
   "cell_type": "code",
   "execution_count": 79,
   "metadata": {
    "ExecuteTime": {
     "end_time": "2024-08-29T13:22:04.609980Z",
     "start_time": "2024-08-29T13:22:04.605347Z"
    }
   },
   "outputs": [
    {
     "name": "stdout",
     "output_type": "stream",
     "text": [
      "Cannot calculate 3 + 3, units do not match (units are kg and A).\n"
     ]
    }
   ],
   "source": [
    "try:\n",
    "    3 * u.kgram + 3 * u.amp\n",
    "except Exception as e:\n",
    "    print(e)"
   ]
  },
  {
   "cell_type": "markdown",
   "metadata": {},
   "source": [
    "## Creating Quantity Instances"
   ]
  },
  {
   "cell_type": "markdown",
   "metadata": {},
   "source": [
    "Creating a Quantity object can be accomplished in several ways, categorized based on the type of input used. Here, we present the methods grouped by their input types and characteristics for better clarity."
   ]
  },
  {
   "cell_type": "code",
   "execution_count": 80,
   "metadata": {
    "ExecuteTime": {
     "end_time": "2024-08-29T13:22:04.665988Z",
     "start_time": "2024-08-29T13:22:04.657072Z"
    }
   },
   "outputs": [],
   "source": [
    "import jax.numpy as jnp"
   ]
  },
  {
   "cell_type": "markdown",
   "metadata": {},
   "source": [
    "### Scalar and Array Multiplication\n",
    "- Multiplying a Scalar with a Unit"
   ]
  },
  {
   "cell_type": "code",
   "execution_count": 81,
   "metadata": {
    "ExecuteTime": {
     "end_time": "2024-08-29T13:22:04.771292Z",
     "start_time": "2024-08-29T13:22:04.764092Z"
    }
   },
   "outputs": [
    {
     "data": {
      "text/plain": [
       "5 * msecond"
      ]
     },
     "execution_count": 81,
     "metadata": {},
     "output_type": "execute_result"
    }
   ],
   "source": [
    "5 * u.ms"
   ]
  },
  {
   "cell_type": "markdown",
   "metadata": {},
   "source": [
    "- Multiplying a Jax nunmpy value type with a Unit:"
   ]
  },
  {
   "cell_type": "code",
   "execution_count": 82,
   "metadata": {
    "ExecuteTime": {
     "end_time": "2024-08-29T13:22:04.788281Z",
     "start_time": "2024-08-29T13:22:04.780639Z"
    }
   },
   "outputs": [
    {
     "name": "stderr",
     "output_type": "stream",
     "text": [
      "C:\\Users\\adadu\\miniconda3\\envs\\brainpy\\Lib\\site-packages\\jax\\_src\\numpy\\lax_numpy.py:195: UserWarning: Explicitly requested dtype float64 requested in asarray is not available, and will be truncated to dtype float32. To enable more dtypes, set the jax_enable_x64 configuration option or the JAX_ENABLE_X64 shell environment variable. See https://github.com/google/jax#current-gotchas for more.\n",
      "  return asarray(x, dtype=self.dtype)\n"
     ]
    },
    {
     "data": {
      "text/plain": [
       "5. * msecond"
      ]
     },
     "execution_count": 82,
     "metadata": {},
     "output_type": "execute_result"
    }
   ],
   "source": [
    "jnp.float64(5) * u.ms"
   ]
  },
  {
   "cell_type": "markdown",
   "metadata": {},
   "source": [
    "- Multiplying a Jax numpy array with a Unit:"
   ]
  },
  {
   "cell_type": "code",
   "execution_count": 83,
   "metadata": {
    "ExecuteTime": {
     "end_time": "2024-08-29T13:22:04.811813Z",
     "start_time": "2024-08-29T13:22:04.805751Z"
    }
   },
   "outputs": [
    {
     "data": {
      "text/plain": [
       "ArrayImpl([1, 2, 3]) * msecond"
      ]
     },
     "execution_count": 83,
     "metadata": {},
     "output_type": "execute_result"
    }
   ],
   "source": [
    "jnp.array([1, 2, 3]) * u.ms"
   ]
  },
  {
   "cell_type": "markdown",
   "metadata": {},
   "source": [
    "- Multiplying a List with a Unit:"
   ]
  },
  {
   "cell_type": "code",
   "execution_count": 84,
   "metadata": {
    "ExecuteTime": {
     "end_time": "2024-08-29T13:22:04.930511Z",
     "start_time": "2024-08-29T13:22:04.915258Z"
    }
   },
   "outputs": [
    {
     "data": {
      "text/plain": [
       "ArrayImpl([1, 2, 3]) * msecond"
      ]
     },
     "execution_count": 84,
     "metadata": {},
     "output_type": "execute_result"
    }
   ],
   "source": [
    "[1, 2, 3] * u.ms"
   ]
  },
  {
   "cell_type": "markdown",
   "metadata": {},
   "source": [
    "### Direct Quantity Creation"
   ]
  },
  {
   "cell_type": "markdown",
   "metadata": {},
   "source": [
    "- Creating a Quantity Directly with a Value"
   ]
  },
  {
   "cell_type": "code",
   "execution_count": 85,
   "metadata": {
    "ExecuteTime": {
     "end_time": "2024-08-29T13:22:04.958600Z",
     "start_time": "2024-08-29T13:22:04.943241Z"
    }
   },
   "outputs": [
    {
     "data": {
      "text/plain": [
       "Quantity(5)"
      ]
     },
     "execution_count": 85,
     "metadata": {},
     "output_type": "execute_result"
    }
   ],
   "source": [
    "u.Quantity(5)"
   ]
  },
  {
   "cell_type": "markdown",
   "metadata": {},
   "source": [
    "- Creating a Quantity Directly with a Value and Unit"
   ]
  },
  {
   "cell_type": "code",
   "execution_count": 86,
   "metadata": {
    "ExecuteTime": {
     "end_time": "2024-08-29T13:22:05.034283Z",
     "start_time": "2024-08-29T13:22:05.014270Z"
    }
   },
   "outputs": [
    {
     "data": {
      "text/plain": [
       "5 * msecond"
      ]
     },
     "execution_count": 86,
     "metadata": {},
     "output_type": "execute_result"
    }
   ],
   "source": [
    "u.Quantity(5, unit=u.ms)"
   ]
  },
  {
   "cell_type": "markdown",
   "metadata": {},
   "source": [
    "- Creating a Quantity with a Jax numpy Array of Values and a Unit"
   ]
  },
  {
   "cell_type": "code",
   "execution_count": 87,
   "metadata": {
    "ExecuteTime": {
     "end_time": "2024-08-29T13:22:05.081681Z",
     "start_time": "2024-08-29T13:22:05.073144Z"
    }
   },
   "outputs": [
    {
     "data": {
      "text/plain": [
       "ArrayImpl([1, 2, 3]) * msecond"
      ]
     },
     "execution_count": 87,
     "metadata": {},
     "output_type": "execute_result"
    }
   ],
   "source": [
    "u.Quantity(jnp.array([1, 2, 3]), unit=u.ms)"
   ]
  },
  {
   "cell_type": "markdown",
   "metadata": {},
   "source": [
    "- Creating a Quantity with a List of Values and a Unit"
   ]
  },
  {
   "cell_type": "code",
   "execution_count": 88,
   "metadata": {
    "ExecuteTime": {
     "end_time": "2024-08-29T13:22:05.164119Z",
     "start_time": "2024-08-29T13:22:05.156563Z"
    }
   },
   "outputs": [
    {
     "data": {
      "text/plain": [
       "ArrayImpl([1, 2, 3]) * msecond"
      ]
     },
     "execution_count": 88,
     "metadata": {},
     "output_type": "execute_result"
    }
   ],
   "source": [
    "u.Quantity([1, 2, 3], unit=u.ms)"
   ]
  },
  {
   "cell_type": "markdown",
   "metadata": {},
   "source": [
    "- Creating a Quantity with a List of Quantities"
   ]
  },
  {
   "cell_type": "code",
   "execution_count": 89,
   "metadata": {
    "ExecuteTime": {
     "end_time": "2024-08-29T13:22:05.194055Z",
     "start_time": "2024-08-29T13:22:05.181169Z"
    }
   },
   "outputs": [
    {
     "data": {
      "text/plain": [
       "ArrayImpl([ 500., 1000.], dtype=float32) * msecond"
      ]
     },
     "execution_count": 89,
     "metadata": {},
     "output_type": "execute_result"
    }
   ],
   "source": [
    "u.Quantity([500 * u.ms, 1 * u.second])"
   ]
  },
  {
   "cell_type": "markdown",
   "metadata": {},
   "source": [
    "- Using the with_units Method"
   ]
  },
  {
   "cell_type": "code",
   "execution_count": 90,
   "metadata": {
    "ExecuteTime": {
     "end_time": "2024-08-29T13:22:05.224542Z",
     "start_time": "2024-08-29T13:22:05.203657Z"
    }
   },
   "outputs": [
    {
     "data": {
      "text/plain": [
       "ArrayImpl([0.5, 1. ], dtype=float32) * second"
      ]
     },
     "execution_count": 90,
     "metadata": {},
     "output_type": "execute_result"
    }
   ],
   "source": [
    "u.Quantity.with_unit(jnp.array([0.5, 1]), unit=u.second)"
   ]
  },
  {
   "cell_type": "markdown",
   "metadata": {},
   "source": [
    "### Unitless Quantity\n",
    "Quantities can be unitless, which means they have no units. If there is no unit provided, the quantity is assumed to be unitless. The following are examples of creating unitless quantities:"
   ]
  },
  {
   "cell_type": "code",
   "execution_count": 91,
   "metadata": {
    "ExecuteTime": {
     "end_time": "2024-08-29T13:22:05.323743Z",
     "start_time": "2024-08-29T13:22:05.314519Z"
    }
   },
   "outputs": [
    {
     "data": {
      "text/plain": [
       "Quantity(ArrayImpl([1, 2, 3]))"
      ]
     },
     "execution_count": 91,
     "metadata": {},
     "output_type": "execute_result"
    }
   ],
   "source": [
    "u.Quantity([1, 2, 3])"
   ]
  },
  {
   "cell_type": "code",
   "execution_count": 92,
   "metadata": {
    "ExecuteTime": {
     "end_time": "2024-08-29T13:22:05.396388Z",
     "start_time": "2024-08-29T13:22:05.381651Z"
    }
   },
   "outputs": [
    {
     "data": {
      "text/plain": [
       "Quantity(ArrayImpl([1, 2, 3]))"
      ]
     },
     "execution_count": 92,
     "metadata": {},
     "output_type": "execute_result"
    }
   ],
   "source": [
    "u.Quantity(jnp.array([1, 2, 3]))"
   ]
  },
  {
   "cell_type": "code",
   "execution_count": 93,
   "metadata": {
    "ExecuteTime": {
     "end_time": "2024-08-29T13:22:05.439467Z",
     "start_time": "2024-08-29T13:22:05.431205Z"
    }
   },
   "outputs": [
    {
     "data": {
      "text/plain": [
       "Quantity(ArrayImpl([], dtype=float32))"
      ]
     },
     "execution_count": 93,
     "metadata": {},
     "output_type": "execute_result"
    }
   ],
   "source": [
    "u.Quantity([])"
   ]
  },
  {
   "cell_type": "markdown",
   "metadata": {},
   "source": [
    "### Illegal Quantity Creation\n",
    "The following are examples of illegal quantity creation:"
   ]
  },
  {
   "cell_type": "code",
   "execution_count": 94,
   "metadata": {
    "ExecuteTime": {
     "end_time": "2024-08-29T13:22:05.539334Z",
     "start_time": "2024-08-29T13:22:05.535507Z"
    }
   },
   "outputs": [
    {
     "name": "stdout",
     "output_type": "stream",
     "text": [
      "All elements must have the same units, but got [msecond, None]\n"
     ]
    }
   ],
   "source": [
    "try:\n",
    "    u.Quantity([500 * u.ms, 1])\n",
    "except Exception as e:\n",
    "    print(e)"
   ]
  },
  {
   "cell_type": "code",
   "execution_count": 95,
   "metadata": {
    "ExecuteTime": {
     "end_time": "2024-08-29T13:22:05.572129Z",
     "start_time": "2024-08-29T13:22:05.566476Z"
    }
   },
   "outputs": [
    {
     "name": "stdout",
     "output_type": "stream",
     "text": [
      "Value 'some' with dtype <U4 is not a valid JAX array type. Only arrays of numeric types are supported by JAX.\n"
     ]
    }
   ],
   "source": [
    "try:\n",
    "    u.Quantity([\"some\", \"nonsense\"])\n",
    "except Exception as e:\n",
    "    print(e)"
   ]
  },
  {
   "cell_type": "code",
   "execution_count": 96,
   "metadata": {
    "ExecuteTime": {
     "end_time": "2024-08-29T13:22:05.653249Z",
     "start_time": "2024-08-29T13:22:05.647661Z"
    }
   },
   "outputs": [
    {
     "name": "stdout",
     "output_type": "stream",
     "text": [
      "All elements must have the same units, but got [msecond, volt]\n"
     ]
    }
   ],
   "source": [
    "try:\n",
    "    u.Quantity([500 * u.ms, 1 * u.volt])\n",
    "except Exception as e:\n",
    "    print(e)"
   ]
  },
  {
   "cell_type": "markdown",
   "metadata": {},
   "source": [
    "### Creating Functions\n",
    "You can create functions that return quantities. The following are examples of creating functions that return quantities:"
   ]
  },
  {
   "cell_type": "markdown",
   "metadata": {},
   "source": [
    "#### `brainunit.math.array` & `brainunit.math.asarray`\n",
    "Convert the input to a quantity or array.\n",
    "\n",
    "  If unit is provided, the input will be checked whether it has the same unit as the provided unit.\n",
    "  (If they have same unit but different scale, the input will be converted to the provided unit.)\n",
    "  If unit is not provided, the input will be converted to an array.\n"
   ]
  },
  {
   "cell_type": "code",
   "execution_count": 97,
   "metadata": {
    "ExecuteTime": {
     "end_time": "2024-08-29T13:22:05.690589Z",
     "start_time": "2024-08-29T13:22:05.682439Z"
    }
   },
   "outputs": [
    {
     "data": {
      "text/plain": [
       "Array([1, 2, 3], dtype=int32)"
      ]
     },
     "execution_count": 97,
     "metadata": {},
     "output_type": "execute_result"
    }
   ],
   "source": [
    "u.math.asarray([1, 2, 3])                       # return a jax.Array"
   ]
  },
  {
   "cell_type": "code",
   "execution_count": 98,
   "metadata": {
    "ExecuteTime": {
     "end_time": "2024-08-29T13:22:05.786670Z",
     "start_time": "2024-08-29T13:22:05.774610Z"
    }
   },
   "outputs": [
    {
     "data": {
      "text/plain": [
       "ArrayImpl([1, 2, 3]) * second"
      ]
     },
     "execution_count": 98,
     "metadata": {},
     "output_type": "execute_result"
    }
   ],
   "source": [
    "# check if the input has the same unit as the provided unit\n",
    "u.math.asarray([1, 2, 3] * u.second, unit=u.second)    # return a Quantity"
   ]
  },
  {
   "cell_type": "code",
   "execution_count": 99,
   "metadata": {
    "ExecuteTime": {
     "end_time": "2024-08-29T13:22:05.837722Z",
     "start_time": "2024-08-29T13:22:05.822140Z"
    }
   },
   "outputs": [
    {
     "data": {
      "text/plain": [
       "ArrayImpl([0.001, 0.002, 0.003], dtype=float32) * second"
      ]
     },
     "execution_count": 99,
     "metadata": {},
     "output_type": "execute_result"
    }
   ],
   "source": [
    "# Same unit, but different scale\n",
    "u.math.asarray([1, 2, 3] * u.msecond, unit=u.second)    # return a Quantity"
   ]
  },
  {
   "cell_type": "code",
   "execution_count": 100,
   "metadata": {
    "ExecuteTime": {
     "end_time": "2024-08-29T13:22:05.897718Z",
     "start_time": "2024-08-29T13:22:05.883584Z"
    }
   },
   "outputs": [
    {
     "name": "stdout",
     "output_type": "stream",
     "text": [
      "Cannot convert to a unit with different dimensions. (units are s and A).\n"
     ]
    }
   ],
   "source": [
    "# fails because the input has a different unit\n",
    "try:\n",
    "    u.math.asarray([1 * u.second, 2 * u.second], unit=u.ampere)\n",
    "except Exception as e:\n",
    "    print(e)"
   ]
  },
  {
   "cell_type": "markdown",
   "metadata": {},
   "source": [
    "#### More Functions\n",
    "Other functions that can be used to create quantities are:\n",
    "- `brainunit.math.arange`\n",
    "- `brainunit.math.array_spilt`\n",
    "- `brainunit.math.linespace`\n",
    "- `brainunit.math.logspace`\n",
    "- `brainunit.math.meshgrid`\n",
    "- `brainunit.math.vandermode`\n",
    "- Can use with Quantity\n",
    "  - `brainunit.math.full`\n",
    "  - `brainunit.math.empty`\n",
    "  - `brainunit.math.ones`\n",
    "  - `brainunit.math.zeros`\n",
    "  - `brainunit.math.full_like`\n",
    "  - `brainunit.math.empty_like`\n",
    "  - `brainunit.math.ones_like`\n",
    "  - `brainunit.math.zeros_like`\n",
    "  - `brainunit.math.fill_diagonal`\n",
    "- Can use with unit keyword\n",
    "  - `brainunit.math.eye`\n",
    "  - `brainunit.math.identity`\n",
    "  - `brainunit.math.tri`\n",
    "  - `brainunit.math.diag`\n",
    "  - `brainunit.math.tril`\n",
    "  - `brainunit.math.triu`\n",
    "\n",
    "See the [Array Creation Documentation](https://brainunit.readthedocs.io/en/latest/mathematical_functions/array_creation.html) for more information."
   ]
  },
  {
   "cell_type": "markdown",
   "metadata": {},
   "source": [
    "## Converting to Different Units\n",
    "\n",
    "You can convert a quantity to a different unit using the `to_decimal` method. The following are examples of converting quantities to different units:"
   ]
  },
  {
   "cell_type": "code",
   "execution_count": 101,
   "metadata": {
    "ExecuteTime": {
     "end_time": "2024-08-29T13:22:05.937160Z",
     "start_time": "2024-08-29T13:22:05.930651Z"
    }
   },
   "outputs": [
    {
     "data": {
      "text/plain": [
       "ArrayImpl([1, 2, 3]) * second"
      ]
     },
     "execution_count": 101,
     "metadata": {},
     "output_type": "execute_result"
    }
   ],
   "source": [
    "q = (1, 2, 3) * u.second\n",
    "q"
   ]
  },
  {
   "cell_type": "code",
   "execution_count": 102,
   "metadata": {
    "ExecuteTime": {
     "end_time": "2024-08-29T13:22:06.037590Z",
     "start_time": "2024-08-29T13:22:06.027295Z"
    }
   },
   "outputs": [
    {
     "data": {
      "text/plain": [
       "Array([1000., 2000., 3000.], dtype=float32, weak_type=True)"
      ]
     },
     "execution_count": 102,
     "metadata": {},
     "output_type": "execute_result"
    }
   ],
   "source": [
    "q.to_decimal(u.msecond)"
   ]
  },
  {
   "cell_type": "markdown",
   "metadata": {},
   "source": [
    "Brainunit will check the consistency of operations on units and raise an error for dimensionality mismatches:"
   ]
  },
  {
   "cell_type": "code",
   "execution_count": 103,
   "metadata": {
    "ExecuteTime": {
     "end_time": "2024-08-29T13:22:06.053149Z",
     "start_time": "2024-08-29T13:22:06.041841Z"
    }
   },
   "outputs": [
    {
     "name": "stdout",
     "output_type": "stream",
     "text": [
      "Cannot convert to the decimal number using a unit with different dimensions. The quantity has the unit s, but the given unit is A\n"
     ]
    }
   ],
   "source": [
    "try:\n",
    "    q.to_decimal(u.ampere)\n",
    "except Exception as e:\n",
    "    print(e)"
   ]
  },
  {
   "cell_type": "markdown",
   "metadata": {},
   "source": [
    "## Attributes of a Quantity"
   ]
  },
  {
   "cell_type": "markdown",
   "metadata": {},
   "source": [
    "The important attributes of a `Quantity` object are:\n",
    "- `mantissa`: the mantissa of the quantity\n",
    "- `unit`: the unit of the quantity\n",
    "- `dim`: the dimension of the unit of the quantity\n",
    "- `ndim`: the number of dimensions of quantity's value\n",
    "- `shape`: the shape of the quantity's value\n",
    "- `size`: the size of the quantity's value\n",
    "- `dtype`: the dtype of the quantity's value"
   ]
  },
  {
   "cell_type": "markdown",
   "metadata": {},
   "source": [
    "### An example"
   ]
  },
  {
   "cell_type": "code",
   "execution_count": 104,
   "metadata": {
    "ExecuteTime": {
     "end_time": "2024-08-29T13:22:06.111028Z",
     "start_time": "2024-08-29T13:22:06.095821Z"
    }
   },
   "outputs": [
    {
     "data": {
      "text/plain": [
       "ArrayImpl([[10., 20., 30.],\n",
       "           [20., 30., 40.]], dtype=float32) * hertz"
      ]
     },
     "execution_count": 104,
     "metadata": {},
     "output_type": "execute_result"
    }
   ],
   "source": [
    "rates = [[10., 20., 30.], [20., 30., 40.]] * u.Hz\n",
    "rates"
   ]
  },
  {
   "cell_type": "code",
   "execution_count": 105,
   "metadata": {
    "ExecuteTime": {
     "end_time": "2024-08-29T13:22:06.201220Z",
     "start_time": "2024-08-29T13:22:06.190183Z"
    }
   },
   "outputs": [
    {
     "data": {
      "text/plain": [
       "Array([[10., 20., 30.],\n",
       "       [20., 30., 40.]], dtype=float32)"
      ]
     },
     "execution_count": 105,
     "metadata": {},
     "output_type": "execute_result"
    }
   ],
   "source": [
    "rates.mantissa"
   ]
  },
  {
   "cell_type": "code",
   "execution_count": 106,
   "metadata": {
    "ExecuteTime": {
     "end_time": "2024-08-29T13:22:06.291983Z",
     "start_time": "2024-08-29T13:22:06.285029Z"
    }
   },
   "outputs": [
    {
     "data": {
      "text/plain": [
       "second ** -1"
      ]
     },
     "execution_count": 106,
     "metadata": {},
     "output_type": "execute_result"
    }
   ],
   "source": [
    "rates.dim"
   ]
  },
  {
   "cell_type": "code",
   "execution_count": 107,
   "metadata": {
    "ExecuteTime": {
     "end_time": "2024-08-29T13:22:06.345203Z",
     "start_time": "2024-08-29T13:22:06.338100Z"
    }
   },
   "outputs": [
    {
     "data": {
      "text/plain": [
       "(2, (2, 3), 6, dtype('float32'))"
      ]
     },
     "execution_count": 107,
     "metadata": {},
     "output_type": "execute_result"
    }
   ],
   "source": [
    "rates.ndim, rates.shape, rates.size, rates.dtype"
   ]
  },
  {
   "cell_type": "markdown",
   "metadata": {},
   "source": [
    "## Arithmetic Functions"
   ]
  },
  {
   "cell_type": "markdown",
   "metadata": {},
   "source": [
    "Like Numpy and Jax numpy, arithmetic operators on arrays apply elementwise."
   ]
  },
  {
   "cell_type": "code",
   "execution_count": 108,
   "metadata": {
    "ExecuteTime": {
     "end_time": "2024-08-29T13:22:06.403703Z",
     "start_time": "2024-08-29T13:22:06.389924Z"
    }
   },
   "outputs": [
    {
     "data": {
      "text/plain": [
       "ArrayImpl([0, 1, 2, 3]) * mvolt"
      ]
     },
     "execution_count": 108,
     "metadata": {},
     "output_type": "execute_result"
    }
   ],
   "source": [
    "a = [20, 30, 40, 50] * u.mV\n",
    "b = jnp.arange(4) * u.mV\n",
    "b"
   ]
  },
  {
   "cell_type": "markdown",
   "metadata": {},
   "source": [
    "### Addition and Subtraction"
   ]
  },
  {
   "cell_type": "markdown",
   "metadata": {},
   "source": [
    "Addition and subtraction of quantities need to have the same units and keep the units in the result."
   ]
  },
  {
   "cell_type": "code",
   "execution_count": 109,
   "metadata": {
    "ExecuteTime": {
     "end_time": "2024-08-29T13:22:06.449927Z",
     "start_time": "2024-08-29T13:22:06.433606Z"
    }
   },
   "outputs": [
    {
     "data": {
      "text/plain": [
       "ArrayImpl([20, 29, 38, 47]) * mvolt"
      ]
     },
     "execution_count": 109,
     "metadata": {},
     "output_type": "execute_result"
    }
   ],
   "source": [
    "c = a - b\n",
    "c"
   ]
  },
  {
   "cell_type": "code",
   "execution_count": 110,
   "metadata": {
    "ExecuteTime": {
     "end_time": "2024-08-29T13:22:06.557963Z",
     "start_time": "2024-08-29T13:22:06.551342Z"
    }
   },
   "outputs": [
    {
     "data": {
      "text/plain": [
       "ArrayImpl([20, 30, 40, 50]) * mvolt"
      ]
     },
     "execution_count": 110,
     "metadata": {},
     "output_type": "execute_result"
    }
   ],
   "source": [
    "c + b"
   ]
  },
  {
   "cell_type": "markdown",
   "metadata": {},
   "source": [
    "### Multiplication and Division"
   ]
  },
  {
   "cell_type": "markdown",
   "metadata": {},
   "source": [
    "Multiplication and division of quantities multiply and divide the values and add and subtract the dimensions of the units."
   ]
  },
  {
   "cell_type": "code",
   "execution_count": 111,
   "metadata": {
    "ExecuteTime": {
     "end_time": "2024-08-29T13:22:06.596224Z",
     "start_time": "2024-08-29T13:22:06.588251Z"
    }
   },
   "outputs": [
    {
     "data": {
      "text/plain": [
       "(ArrayImpl([[1, 2],\n",
       "            [3, 4]]) * mvolt,\n",
       " ArrayImpl([[5, 6],\n",
       "            [7, 8]]) * mvolt)"
      ]
     },
     "execution_count": 111,
     "metadata": {},
     "output_type": "execute_result"
    }
   ],
   "source": [
    "A = jnp.array([[1, 2], [3, 4]]) * u.mV\n",
    "B = jnp.array([[5, 6], [7, 8]]) * u.mV\n",
    "\n",
    "A, B"
   ]
  },
  {
   "cell_type": "code",
   "execution_count": 112,
   "metadata": {
    "ExecuteTime": {
     "end_time": "2024-08-29T13:22:06.678781Z",
     "start_time": "2024-08-29T13:22:06.672206Z"
    }
   },
   "outputs": [
    {
     "data": {
      "text/plain": [
       "ArrayImpl([[ 5, 12],\n",
       "           [21, 32]]) * mvolt2"
      ]
     },
     "execution_count": 112,
     "metadata": {},
     "output_type": "execute_result"
    }
   ],
   "source": [
    "A * B # element-wise multiplication"
   ]
  },
  {
   "cell_type": "code",
   "execution_count": 113,
   "metadata": {
    "ExecuteTime": {
     "end_time": "2024-08-29T13:22:06.711449Z",
     "start_time": "2024-08-29T13:22:06.702443Z"
    }
   },
   "outputs": [
    {
     "data": {
      "text/plain": [
       "ArrayImpl([[19, 22],\n",
       "           [43, 50]]) * mvolt2"
      ]
     },
     "execution_count": 113,
     "metadata": {},
     "output_type": "execute_result"
    }
   ],
   "source": [
    "A @ B # matrix multiplication"
   ]
  },
  {
   "cell_type": "code",
   "execution_count": 114,
   "metadata": {
    "ExecuteTime": {
     "end_time": "2024-08-29T13:22:06.762453Z",
     "start_time": "2024-08-29T13:22:06.745881Z"
    }
   },
   "outputs": [
    {
     "data": {
      "text/plain": [
       "ArrayImpl([[19, 22],\n",
       "           [43, 50]]) * mvolt2"
      ]
     },
     "execution_count": 114,
     "metadata": {},
     "output_type": "execute_result"
    }
   ],
   "source": [
    "A.dot(B) # matrix multiplication"
   ]
  },
  {
   "cell_type": "code",
   "execution_count": 115,
   "metadata": {
    "ExecuteTime": {
     "end_time": "2024-08-29T13:22:06.814224Z",
     "start_time": "2024-08-29T13:22:06.796117Z"
    }
   },
   "outputs": [
    {
     "data": {
      "text/plain": [
       "ArrayImpl([[0.5, 1. ],\n",
       "           [1.5, 2. ]], dtype=float32) * mvolt"
      ]
     },
     "execution_count": 115,
     "metadata": {},
     "output_type": "execute_result"
    }
   ],
   "source": [
    "A / 2 # divide by a scalar"
   ]
  },
  {
   "cell_type": "markdown",
   "metadata": {},
   "source": [
    "if the unit of result is unitless, the unit is removed and returned as jax.Array"
   ]
  },
  {
   "cell_type": "code",
   "execution_count": 116,
   "metadata": {
    "ExecuteTime": {
     "end_time": "2024-08-29T13:22:06.858357Z",
     "start_time": "2024-08-29T13:22:06.841415Z"
    }
   },
   "outputs": [
    {
     "data": {
      "text/plain": [
       "Array([[0.5, 1. ],\n",
       "       [1.5, 2. ]], dtype=float32)"
      ]
     },
     "execution_count": 116,
     "metadata": {},
     "output_type": "execute_result"
    }
   ],
   "source": [
    "A / (2 * u.mV) # divide by a quantity, return jax array"
   ]
  },
  {
   "cell_type": "code",
   "execution_count": 117,
   "metadata": {
    "ExecuteTime": {
     "end_time": "2024-08-29T13:22:06.902089Z",
     "start_time": "2024-08-29T13:22:06.888919Z"
    }
   },
   "outputs": [
    {
     "data": {
      "text/plain": [
       "ArrayImpl([[0.5, 1. ],\n",
       "           [1.5, 2. ]], dtype=float32) * ohm"
      ]
     },
     "execution_count": 117,
     "metadata": {},
     "output_type": "execute_result"
    }
   ],
   "source": [
    "A / (2 * u.mA) # divide by a quantity, return quantity"
   ]
  },
  {
   "cell_type": "markdown",
   "metadata": {},
   "source": [
    "### Power"
   ]
  },
  {
   "cell_type": "markdown",
   "metadata": {},
   "source": [
    "The power operator raises the value of the quantity to the power of the scalar, and multiplies the unit by the scalar."
   ]
  },
  {
   "cell_type": "code",
   "execution_count": 118,
   "metadata": {
    "ExecuteTime": {
     "end_time": "2024-08-29T13:22:06.987624Z",
     "start_time": "2024-08-29T13:22:06.978554Z"
    }
   },
   "outputs": [
    {
     "data": {
      "text/plain": [
       "ArrayImpl([[1, 2],\n",
       "           [3, 4]]) * mvolt"
      ]
     },
     "execution_count": 118,
     "metadata": {},
     "output_type": "execute_result"
    }
   ],
   "source": [
    "A"
   ]
  },
  {
   "cell_type": "code",
   "execution_count": 119,
   "metadata": {
    "ExecuteTime": {
     "end_time": "2024-08-29T13:22:07.018618Z",
     "start_time": "2024-08-29T13:22:07.009820Z"
    }
   },
   "outputs": [
    {
     "data": {
      "text/plain": [
       "ArrayImpl([[ 1,  4],\n",
       "           [ 9, 16]]) * mvolt2"
      ]
     },
     "execution_count": 119,
     "metadata": {},
     "output_type": "execute_result"
    }
   ],
   "source": [
    "A ** 2 # element-wise power"
   ]
  },
  {
   "cell_type": "markdown",
   "metadata": {},
   "source": [
    "## Built-in Functions"
   ]
  },
  {
   "cell_type": "markdown",
   "metadata": {},
   "source": [
    "Brainunit provides a number of built-in functions in `Quantity` class to perform operations on quantities. These functions are:\n",
    "- unary operations\n",
    "    - positive(+)\n",
    "    - negative(-)\n",
    "    - absolute(abs)\n",
    "    - invert(~)\n",
    "- logical operations\n",
    "    - all\n",
    "    - any\n",
    "- shape operations\n",
    "    - reshape\n",
    "    - resize\n",
    "    - squeeze\n",
    "    - unsqueeze\n",
    "    - spilt\n",
    "    - swapaxes\n",
    "    - transpose\n",
    "    - ravel\n",
    "    - take\n",
    "    - repeat\n",
    "    - diagonal\n",
    "    - trace\n",
    "- mathematical functions\n",
    "    - nonzero\n",
    "    - argmax\n",
    "    - argmin\n",
    "    - argsort\n",
    "    - var\n",
    "    - round\n",
    "    - std\n",
    "    - sum\n",
    "    - cumsum\n",
    "    - cumprod\n",
    "    - max\n",
    "    - mean\n",
    "    - min\n",
    "    - ptp\n",
    "    - clip\n",
    "    - conj\n",
    "    - dot\n",
    "    - fill\n",
    "    - item\n",
    "    - prod\n",
    "    - clamp\n",
    "    - sort\n",
    "\n",
    "For more details on these functions, refer to the [documentation](https://braincore.readthedocs.io/en/latest/braincore/apis/generated/brainunit.Quantity.html)."
   ]
  },
  {
   "cell_type": "markdown",
   "metadata": {},
   "source": [
    "## Indexing, Slicing and Iterating"
   ]
  },
  {
   "cell_type": "markdown",
   "metadata": {},
   "source": [
    "One-dimensional Quantity can be indexed, sliced and iterated over, much like lists and other Python sequences."
   ]
  },
  {
   "cell_type": "code",
   "execution_count": 120,
   "metadata": {
    "ExecuteTime": {
     "end_time": "2024-08-29T13:22:07.054308Z",
     "start_time": "2024-08-29T13:22:07.041317Z"
    }
   },
   "outputs": [
    {
     "data": {
      "text/plain": [
       "ArrayImpl([  0,   1,   8,  27,  64, 125, 216, 343, 512, 729]) * mvolt"
      ]
     },
     "execution_count": 120,
     "metadata": {},
     "output_type": "execute_result"
    }
   ],
   "source": [
    "a = jnp.arange(10) ** 3 * u.mV\n",
    "a"
   ]
  },
  {
   "cell_type": "code",
   "execution_count": 121,
   "metadata": {
    "ExecuteTime": {
     "end_time": "2024-08-29T13:22:07.155442Z",
     "start_time": "2024-08-29T13:22:07.149339Z"
    }
   },
   "outputs": [
    {
     "data": {
      "text/plain": [
       "8 * mvolt"
      ]
     },
     "execution_count": 121,
     "metadata": {},
     "output_type": "execute_result"
    }
   ],
   "source": [
    "a[2]"
   ]
  },
  {
   "cell_type": "code",
   "execution_count": 122,
   "metadata": {
    "ExecuteTime": {
     "end_time": "2024-08-29T13:22:07.241907Z",
     "start_time": "2024-08-29T13:22:07.222380Z"
    }
   },
   "outputs": [
    {
     "data": {
      "text/plain": [
       "ArrayImpl([ 8, 27, 64]) * mvolt"
      ]
     },
     "execution_count": 122,
     "metadata": {},
     "output_type": "execute_result"
    }
   ],
   "source": [
    "a[2:5]"
   ]
  },
  {
   "cell_type": "markdown",
   "metadata": {},
   "source": [
    "Only same dimension Quantity can be set to a slice of a Quantity."
   ]
  },
  {
   "cell_type": "code",
   "execution_count": 123,
   "metadata": {
    "ExecuteTime": {
     "end_time": "2024-08-29T13:22:07.280275Z",
     "start_time": "2024-08-29T13:22:07.270392Z"
    }
   },
   "outputs": [
    {
     "data": {
      "text/plain": [
       "ArrayImpl([1000,    1, 1000,   27, 1000,  125,  216,  343,  512,  729]) * mvolt"
      ]
     },
     "execution_count": 123,
     "metadata": {},
     "output_type": "execute_result"
    }
   ],
   "source": [
    "# equivalent to a[0:6:2] = 1000;\n",
    "# from start to position 6, exclusive, set every 2nd element to 1000\n",
    "a[:6:2] = 1000 * u.mV\n",
    "a"
   ]
  },
  {
   "cell_type": "code",
   "execution_count": 124,
   "metadata": {
    "ExecuteTime": {
     "end_time": "2024-08-29T13:22:07.356510Z",
     "start_time": "2024-08-29T13:22:07.349701Z"
    }
   },
   "outputs": [
    {
     "data": {
      "text/plain": [
       "ArrayImpl([ 729,  512,  343,  216,  125, 1000,   27, 1000,    1, 1000]) * mvolt"
      ]
     },
     "execution_count": 124,
     "metadata": {},
     "output_type": "execute_result"
    }
   ],
   "source": [
    "a[::-1] # reversed a"
   ]
  },
  {
   "cell_type": "code",
   "execution_count": 125,
   "metadata": {
    "ExecuteTime": {
     "end_time": "2024-08-29T13:22:07.395127Z",
     "start_time": "2024-08-29T13:22:07.383836Z"
    }
   },
   "outputs": [
    {
     "name": "stdout",
     "output_type": "stream",
     "text": [
      "10.00000095 * mvolt ** 0.3333333333333333\n",
      "1. * mvolt ** 0.3333333333333333\n",
      "10.00000095 * mvolt ** 0.3333333333333333\n",
      "3. * mvolt ** 0.3333333333333333\n",
      "10.00000095 * mvolt ** 0.3333333333333333\n",
      "5.00000048 * mvolt ** 0.3333333333333333\n",
      "6.00000048 * mvolt ** 0.3333333333333333\n",
      "7.00000048 * mvolt ** 0.3333333333333333\n",
      "8.00000095 * mvolt ** 0.3333333333333333\n",
      "9.00000095 * mvolt ** 0.3333333333333333\n"
     ]
    }
   ],
   "source": [
    "for i in a:\n",
    "    print(i**(1 / 3.))"
   ]
  },
  {
   "cell_type": "markdown",
   "metadata": {},
   "source": [
    "Multidimensional Quantity can have one index per axis. These indices are given in a tuple separated by commas:"
   ]
  },
  {
   "cell_type": "code",
   "execution_count": 126,
   "metadata": {
    "ExecuteTime": {
     "end_time": "2024-08-29T13:22:07.443463Z",
     "start_time": "2024-08-29T13:22:07.429905Z"
    }
   },
   "outputs": [
    {
     "data": {
      "text/plain": [
       "ArrayImpl([[ 0,  1,  2,  3],\n",
       "           [10, 11, 12, 13],\n",
       "           [20, 21, 22, 23],\n",
       "           [30, 31, 32, 33],\n",
       "           [40, 41, 42, 43]]) * mvolt"
      ]
     },
     "execution_count": 126,
     "metadata": {},
     "output_type": "execute_result"
    }
   ],
   "source": [
    "def f(x, y):\n",
    "    return 10 * x + y\n",
    "b = jnp.fromfunction(f, (5, 4), dtype=jnp.int32) * u.mV\n",
    "b"
   ]
  },
  {
   "cell_type": "code",
   "execution_count": 127,
   "metadata": {
    "ExecuteTime": {
     "end_time": "2024-08-29T13:22:07.483883Z",
     "start_time": "2024-08-29T13:22:07.474876Z"
    }
   },
   "outputs": [
    {
     "data": {
      "text/plain": [
       "23 * mvolt"
      ]
     },
     "execution_count": 127,
     "metadata": {},
     "output_type": "execute_result"
    }
   ],
   "source": [
    "b[2, 3]"
   ]
  },
  {
   "cell_type": "code",
   "execution_count": 128,
   "metadata": {
    "ExecuteTime": {
     "end_time": "2024-08-29T13:22:07.572628Z",
     "start_time": "2024-08-29T13:22:07.553638Z"
    }
   },
   "outputs": [
    {
     "data": {
      "text/plain": [
       "ArrayImpl([ 1, 11, 21, 31, 41]) * mvolt"
      ]
     },
     "execution_count": 128,
     "metadata": {},
     "output_type": "execute_result"
    }
   ],
   "source": [
    "b[0:5, 1]  # each row in the second column of b"
   ]
  },
  {
   "cell_type": "code",
   "execution_count": 129,
   "metadata": {
    "ExecuteTime": {
     "end_time": "2024-08-29T13:22:07.586091Z",
     "start_time": "2024-08-29T13:22:07.572628Z"
    }
   },
   "outputs": [
    {
     "data": {
      "text/plain": [
       "ArrayImpl([ 1, 11, 21, 31, 41]) * mvolt"
      ]
     },
     "execution_count": 129,
     "metadata": {},
     "output_type": "execute_result"
    }
   ],
   "source": [
    "b[:, 1]  # equivalent to the previous example"
   ]
  },
  {
   "cell_type": "code",
   "execution_count": 130,
   "metadata": {
    "ExecuteTime": {
     "end_time": "2024-08-29T13:22:07.626114Z",
     "start_time": "2024-08-29T13:22:07.616262Z"
    }
   },
   "outputs": [
    {
     "data": {
      "text/plain": [
       "ArrayImpl([[10, 11, 12, 13],\n",
       "           [20, 21, 22, 23]]) * mvolt"
      ]
     },
     "execution_count": 130,
     "metadata": {},
     "output_type": "execute_result"
    }
   ],
   "source": [
    "b[1:3, :]  # each column in the second and third row of b"
   ]
  },
  {
   "cell_type": "markdown",
   "metadata": {},
   "source": [
    "When fewer indices are provided than the number of axes, the missing indices are considered complete slices:"
   ]
  },
  {
   "cell_type": "code",
   "execution_count": 131,
   "metadata": {
    "ExecuteTime": {
     "end_time": "2024-08-29T13:22:07.690932Z",
     "start_time": "2024-08-29T13:22:07.684017Z"
    }
   },
   "outputs": [
    {
     "data": {
      "text/plain": [
       "ArrayImpl([40, 41, 42, 43]) * mvolt"
      ]
     },
     "execution_count": 131,
     "metadata": {},
     "output_type": "execute_result"
    }
   ],
   "source": [
    "b[-1]"
   ]
  },
  {
   "cell_type": "markdown",
   "metadata": {},
   "source": [
    "The expression within brackets in b[i] is treated as an i followed by as many instances of : as needed to represent the remaining axes. NumPy also allows you to write this using dots as b[i, ...].\n",
    "\n",
    "The dots (...) represent as many colons as needed to produce a complete indexing tuple. For example, if x is a Quantity with 5 axes, then\n",
    "- x[1, 2, ...] is equivalent to x[1, 2, :, :, :],\n",
    "- x[..., 3] to x[:, :, :, :, 3] and\n",
    "- x[4, ..., 5, :] to x[4, :, :, 5, :]."
   ]
  },
  {
   "cell_type": "code",
   "execution_count": 132,
   "metadata": {
    "ExecuteTime": {
     "end_time": "2024-08-29T13:22:07.758837Z",
     "start_time": "2024-08-29T13:22:07.753994Z"
    }
   },
   "outputs": [
    {
     "data": {
      "text/plain": [
       "(2, 2, 3)"
      ]
     },
     "execution_count": 132,
     "metadata": {},
     "output_type": "execute_result"
    }
   ],
   "source": [
    "c = jnp.array([[[0, 1, 2], [10, 12, 13]], [[100, 101, 102], [110, 112, 113]]]) * u.mV # a 3D array (two stacked 2D arrays)\n",
    "c.shape"
   ]
  },
  {
   "cell_type": "code",
   "execution_count": 133,
   "metadata": {
    "ExecuteTime": {
     "end_time": "2024-08-29T13:22:07.810727Z",
     "start_time": "2024-08-29T13:22:07.790703Z"
    }
   },
   "outputs": [
    {
     "data": {
      "text/plain": [
       "ArrayImpl([[100, 101, 102],\n",
       "           [110, 112, 113]]) * mvolt"
      ]
     },
     "execution_count": 133,
     "metadata": {},
     "output_type": "execute_result"
    }
   ],
   "source": [
    "c[1, ...] # same as c[1, :, :] or c[1]"
   ]
  },
  {
   "cell_type": "code",
   "execution_count": 134,
   "metadata": {
    "ExecuteTime": {
     "end_time": "2024-08-29T13:22:07.889482Z",
     "start_time": "2024-08-29T13:22:07.871262Z"
    }
   },
   "outputs": [
    {
     "data": {
      "text/plain": [
       "ArrayImpl([[  2,  13],\n",
       "           [102, 113]]) * mvolt"
      ]
     },
     "execution_count": 134,
     "metadata": {},
     "output_type": "execute_result"
    }
   ],
   "source": [
    "c[..., 2] # same as c[:, :, 2]"
   ]
  },
  {
   "cell_type": "markdown",
   "metadata": {},
   "source": [
    "Iterating over multidimensional Quantity is done with respect to the first axis:"
   ]
  },
  {
   "cell_type": "code",
   "execution_count": 135,
   "metadata": {
    "ExecuteTime": {
     "end_time": "2024-08-29T13:22:07.920543Z",
     "start_time": "2024-08-29T13:22:07.901167Z"
    }
   },
   "outputs": [
    {
     "name": "stdout",
     "output_type": "stream",
     "text": [
      "ArrayImpl([0, 1, 2, 3]) * mvolt\n",
      "ArrayImpl([10, 11, 12, 13]) * mvolt\n",
      "ArrayImpl([20, 21, 22, 23]) * mvolt\n",
      "ArrayImpl([30, 31, 32, 33]) * mvolt\n",
      "ArrayImpl([40, 41, 42, 43]) * mvolt\n"
     ]
    }
   ],
   "source": [
    "for row in b:\n",
    "    print(row)"
   ]
  },
  {
   "cell_type": "markdown",
   "metadata": {},
   "source": [
    "## Operating on Subsets\n",
    "\n",
    "`.at` method can be used to operate on a subset of the Quantity. The following are examples of operating on subsets of a Quantity:"
   ]
  },
  {
   "cell_type": "code",
   "execution_count": 136,
   "metadata": {
    "ExecuteTime": {
     "end_time": "2024-08-29T13:22:07.959442Z",
     "start_time": "2024-08-29T13:22:07.953297Z"
    }
   },
   "outputs": [
    {
     "data": {
      "text/plain": [
       "ArrayImpl([0., 1., 2., 3., 4.], dtype=float32) * mvolt"
      ]
     },
     "execution_count": 136,
     "metadata": {},
     "output_type": "execute_result"
    }
   ],
   "source": [
    "q = jnp.arange(5.0) * u.mV\n",
    "q"
   ]
  },
  {
   "cell_type": "code",
   "execution_count": 137,
   "metadata": {
    "ExecuteTime": {
     "end_time": "2024-08-29T13:22:08.012521Z",
     "start_time": "2024-08-29T13:22:07.993231Z"
    }
   },
   "outputs": [
    {
     "data": {
      "text/plain": [
       "ArrayImpl([ 0.,  1., 12.,  3.,  4.], dtype=float32) * mvolt"
      ]
     },
     "execution_count": 137,
     "metadata": {},
     "output_type": "execute_result"
    }
   ],
   "source": [
    "q.at[2].add(10 * u.mV)"
   ]
  },
  {
   "cell_type": "code",
   "execution_count": 138,
   "metadata": {
    "ExecuteTime": {
     "end_time": "2024-08-29T13:22:08.045992Z",
     "start_time": "2024-08-29T13:22:08.037760Z"
    }
   },
   "outputs": [
    {
     "data": {
      "text/plain": [
       "ArrayImpl([0., 1., 2., 3., 4.], dtype=float32) * mvolt"
      ]
     },
     "execution_count": 138,
     "metadata": {},
     "output_type": "execute_result"
    }
   ],
   "source": [
    "q.at[10].add(10 * u.mV)  # out-of-bounds indices are ignored"
   ]
  },
  {
   "cell_type": "code",
   "execution_count": 139,
   "metadata": {
    "ExecuteTime": {
     "end_time": "2024-08-29T13:22:08.107620Z",
     "start_time": "2024-08-29T13:22:08.085172Z"
    }
   },
   "outputs": [
    {
     "data": {
      "text/plain": [
       "ArrayImpl([ 0.,  1.,  2.,  3., 14.], dtype=float32) * mvolt"
      ]
     },
     "execution_count": 139,
     "metadata": {},
     "output_type": "execute_result"
    }
   ],
   "source": [
    "q.at[20].add(10 * u.mV, mode='clip') # out-of-bounds indices are clipped"
   ]
  },
  {
   "cell_type": "code",
   "execution_count": 140,
   "metadata": {
    "ExecuteTime": {
     "end_time": "2024-08-29T13:22:08.149115Z",
     "start_time": "2024-08-29T13:22:08.132769Z"
    }
   },
   "outputs": [
    {
     "data": {
      "text/plain": [
       "2. * mvolt"
      ]
     },
     "execution_count": 140,
     "metadata": {},
     "output_type": "execute_result"
    }
   ],
   "source": [
    "q.at[2].get()"
   ]
  },
  {
   "cell_type": "code",
   "execution_count": 141,
   "metadata": {
    "ExecuteTime": {
     "end_time": "2024-08-29T13:22:08.202576Z",
     "start_time": "2024-08-29T13:22:08.196324Z"
    }
   },
   "outputs": [
    {
     "data": {
      "text/plain": [
       "4. * mvolt"
      ]
     },
     "execution_count": 141,
     "metadata": {},
     "output_type": "execute_result"
    }
   ],
   "source": [
    "q.at[20].get()  # out-of-bounds indices clipped"
   ]
  },
  {
   "cell_type": "code",
   "execution_count": 142,
   "metadata": {
    "ExecuteTime": {
     "end_time": "2024-08-29T13:22:08.261142Z",
     "start_time": "2024-08-29T13:22:08.255419Z"
    }
   },
   "outputs": [
    {
     "data": {
      "text/plain": [
       "nan * mvolt"
      ]
     },
     "execution_count": 142,
     "metadata": {},
     "output_type": "execute_result"
    }
   ],
   "source": [
    "q.at[20].get(mode='fill')  # out-of-bounds indices filled with NaN"
   ]
  },
  {
   "cell_type": "markdown",
   "metadata": {},
   "source": [
    "Brainunit will check the consistency of operations on units and raise an error for dimensionality mismatches:"
   ]
  },
  {
   "cell_type": "code",
   "execution_count": 143,
   "metadata": {
    "ExecuteTime": {
     "end_time": "2024-08-29T13:22:08.345247Z",
     "start_time": "2024-08-29T13:22:08.327184Z"
    }
   },
   "outputs": [
    {
     "name": "stdout",
     "output_type": "stream",
     "text": [
      "Cannot convert to a unit with different dimensions. (units are Unit(10.0^0) and mV).\n"
     ]
    }
   ],
   "source": [
    "try:\n",
    "    q.at[2].add(10)\n",
    "except Exception as e:\n",
    "    print(e)"
   ]
  },
  {
   "cell_type": "markdown",
   "metadata": {},
   "source": [
    "Brainunit also allows customized fill values for the `at` method:"
   ]
  },
  {
   "cell_type": "code",
   "execution_count": 144,
   "metadata": {
    "ExecuteTime": {
     "end_time": "2024-08-29T13:22:08.373150Z",
     "start_time": "2024-08-29T13:22:08.357380Z"
    }
   },
   "outputs": [
    {
     "data": {
      "text/plain": [
       "-1. * mvolt"
      ]
     },
     "execution_count": 144,
     "metadata": {},
     "output_type": "execute_result"
    }
   ],
   "source": [
    "q.at[20].get(mode='fill', fill_value=-1 * u.mV)  # custom fill value"
   ]
  },
  {
   "cell_type": "code",
   "execution_count": 145,
   "metadata": {
    "ExecuteTime": {
     "end_time": "2024-08-29T13:22:08.408191Z",
     "start_time": "2024-08-29T13:22:08.388748Z"
    }
   },
   "outputs": [
    {
     "name": "stdout",
     "output_type": "stream",
     "text": [
      "Cannot convert to a unit with different dimensions. (units are Unit(10.0^0) and mV).\n"
     ]
    }
   ],
   "source": [
    "try:\n",
    "    q.at[20].get(mode='fill', fill_value=-1)\n",
    "except Exception as e:\n",
    "    print(e)"
   ]
  },
  {
   "cell_type": "markdown",
   "metadata": {},
   "source": [
    "## Plotting Quantities\n",
    "\n",
    "`Quantity` objects can be conveniently plotted using [Matplotlib](https://matplotlib.org/). This feature will be turned on automatically if Matplotlib is installed. The following are examples of plotting quantities:"
   ]
  },
  {
   "cell_type": "markdown",
   "metadata": {},
   "source": [
    "Then `Quantity` objects can be passed to matplotlib plotting functions. The axis labels are automatically labeled with the unit of the quantity:\n"
   ]
  },
  {
   "cell_type": "code",
   "execution_count": 1,
   "metadata": {},
   "outputs": [
    {
     "data": {
      "text/plain": [
       "[<matplotlib.lines.Line2D at 0x1fcfdaa0d30>]"
      ]
     },
     "execution_count": 1,
     "metadata": {},
     "output_type": "execute_result"
    },
    {
     "data": {
      "image/png": "[encoded data removed]",
      "text/plain": [
       "<Figure size 640x480 with 1 Axes>"
      ]
     },
     "metadata": {},
     "output_type": "display_data"
    }
   ],
   "source": [
    "import brainunit as bu\n",
    "\n",
    "from matplotlib import pyplot as plt\n",
    "\n",
    "plt.figure()\n",
    "plt.plot([1, 2, 3] * bu.meter)"
   ]
  },
  {
   "cell_type": "code",
   "execution_count": 2,
   "metadata": {},
   "outputs": [
    {
     "data": {
      "text/plain": [
       "[<matplotlib.lines.Line2D at 0x1fcfd81b7c0>]"
      ]
     },
     "execution_count": 2,
     "metadata": {},
     "output_type": "execute_result"
    },
    {
     "data": {
      "image/png": "[encoded data removed]",
      "text/plain": [
       "<Figure size 640x480 with 1 Axes>"
      ]
     },
     "metadata": {},
     "output_type": "display_data"
    }
   ],
   "source": [
    "plt.plot([1, 2, 3] * bu.meter, [1, 2, 3] * bu.second)"
   ]
  },
  {
   "cell_type": "markdown",
   "metadata": {},
   "source": [
    "Brainunit also supports plotting different scales of quantities with same unit on the same axis:"
   ]
  },
  {
   "cell_type": "code",
   "execution_count": 3,
   "metadata": {},
   "outputs": [
    {
     "data": {
      "text/plain": [
       "[<matplotlib.lines.Line2D at 0x1fcffe9d4e0>]"
      ]
     },
     "execution_count": 3,
     "metadata": {},
     "output_type": "execute_result"
    },
    {
     "data": {
      "image/png": "[encoded data removed]",
      "text/plain": [
       "<Figure size 640x480 with 1 Axes>"
      ]
     },
     "metadata": {},
     "output_type": "display_data"
    }
   ],
   "source": [
    "plt.plot([101, 125, 150] * bu.ms, [101, 125, 150] * bu.cmeter)\n",
    "plt.plot([0.1, 0.15, 0.2] * bu.second, [111, 135, 160] * bu.cmeter)"
   ]
  },
  {
   "cell_type": "markdown",
   "metadata": {},
   "source": [
    "It is not allowed to plot quantities with different units on the same axis:"
   ]
  },
  {
   "cell_type": "code",
   "execution_count": 4,
   "metadata": {},
   "outputs": [
    {
     "name": "stdout",
     "output_type": "stream",
     "text": [
      "Failed to convert value(s) to axis units: ArrayImpl([131, 155, 180]) * mamp\n"
     ]
    },
    {
     "data": {
      "image/png": "[encoded data removed]",
      "text/plain": [
       "<Figure size 640x480 with 1 Axes>"
      ]
     },
     "metadata": {},
     "output_type": "display_data"
    }
   ],
   "source": [
    "try:\n",
    "    plt.plot([101, 125, 150] * bu.ms, [101, 125, 150] * bu.cmeter)\n",
    "    plt.plot([0.1, 0.15, 0.2] * bu.second, [111, 135, 160] * bu.cmeter)\n",
    "    plt.plot([0.1, 0.15, 0.2] * bu.second, [131, 155, 180] * bu.mA)\n",
    "except Exception as e:\n",
    "    print(e)\n"
   ]
  }
 ],
 "metadata": {
  "kernelspec": {
   "display_name": "brainpy-dev",
   "language": "python",
   "name": "python3"
  },
  "language_info": {
   "codemirror_mode": {
    "name": "ipython",
    "version": 3
   },
   "file_extension": ".py",
   "mimetype": "text/x-python",
   "name": "python",
   "nbconvert_exporter": "python",
   "pygments_lexer": "ipython3",
   "version": "3.10.13"
  }
 },
 "nbformat": 4,
 "nbformat_minor": 2
}
