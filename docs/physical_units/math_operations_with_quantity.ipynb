{
 "cells": [
  {
   "cell_type": "markdown",
   "metadata": {},
   "source": [
    "# Math Operations with Quantity\n",
    "\n",
    "[![Colab](https://colab.research.google.com/assets/colab-badge.svg)](https://colab.research.google.com/github/chaobrain/brainunit/blob/master/docs/physical_units/math_operations_with_quantity.ipynb)\n",
    "[![Open in Kaggle](https://kaggle.com/static/images/open-in-kaggle.svg)](https://kaggle.com/kernels/welcome?src=https://github.com/chaobrain/brainunit/blob/master/docs/physical_units/math_operations_with_quantity.ipynb)"
   ]
  },
  {
   "cell_type": "code",
   "execution_count": 1,
   "metadata": {
    "ExecuteTime": {
     "end_time": "2024-08-29T13:23:16.740592Z",
     "start_time": "2024-08-29T13:23:16.079694Z"
    }
   },
   "outputs": [],
   "source": [
    "import brainunit as u\n",
    "import jax.numpy as jnp"
   ]
  },
  {
   "cell_type": "markdown",
   "metadata": {},
   "source": [
    "Like Numpy and Jax numpy, arithmetic operators on arrays apply elementwise."
   ]
  },
  {
   "cell_type": "code",
   "execution_count": 2,
   "metadata": {
    "ExecuteTime": {
     "end_time": "2024-08-29T13:23:16.889787Z",
     "start_time": "2024-08-29T13:23:16.740592Z"
    }
   },
   "outputs": [
    {
     "data": {
      "text/plain": [
       "ArrayImpl([0, 1, 2, 3]) * mvolt"
      ]
     },
     "execution_count": 2,
     "metadata": {},
     "output_type": "execute_result"
    }
   ],
   "source": [
    "a = [20, 30, 40, 50] * u.mV\n",
    "b = jnp.arange(4) * u.mV\n",
    "b"
   ]
  },
  {
   "cell_type": "markdown",
   "metadata": {},
   "source": [
    "## Addition and Subtraction"
   ]
  },
  {
   "cell_type": "markdown",
   "metadata": {},
   "source": [
    "Addition and subtraction of quantities need to have the same units and keep the units in the result."
   ]
  },
  {
   "cell_type": "code",
   "execution_count": 3,
   "metadata": {
    "ExecuteTime": {
     "end_time": "2024-08-29T13:23:16.910269Z",
     "start_time": "2024-08-29T13:23:16.890910Z"
    }
   },
   "outputs": [
    {
     "data": {
      "text/plain": [
       "ArrayImpl([20, 29, 38, 47]) * mvolt"
      ]
     },
     "execution_count": 3,
     "metadata": {},
     "output_type": "execute_result"
    }
   ],
   "source": [
    "c = a - b\n",
    "c"
   ]
  },
  {
   "cell_type": "code",
   "execution_count": 4,
   "metadata": {
    "ExecuteTime": {
     "end_time": "2024-08-29T13:23:16.927939Z",
     "start_time": "2024-08-29T13:23:16.910269Z"
    }
   },
   "outputs": [
    {
     "data": {
      "text/plain": [
       "ArrayImpl([20, 30, 40, 50]) * mvolt"
      ]
     },
     "execution_count": 4,
     "metadata": {},
     "output_type": "execute_result"
    }
   ],
   "source": [
    "c + b"
   ]
  },
  {
   "cell_type": "markdown",
   "metadata": {},
   "source": [
    "## Multiplication and Division"
   ]
  },
  {
   "cell_type": "markdown",
   "metadata": {},
   "source": [
    "Multiplication and division of quantities multiply and divide the values and add and subtract the dimensions of the units."
   ]
  },
  {
   "cell_type": "code",
   "execution_count": 5,
   "metadata": {
    "ExecuteTime": {
     "end_time": "2024-08-29T13:23:17.080790Z",
     "start_time": "2024-08-29T13:23:16.927939Z"
    }
   },
   "outputs": [
    {
     "data": {
      "text/plain": [
       "(ArrayImpl([[1, 2],\n",
       "            [3, 4]]) * mvolt,\n",
       " ArrayImpl([[5, 6],\n",
       "            [7, 8]]) * mvolt)"
      ]
     },
     "execution_count": 5,
     "metadata": {},
     "output_type": "execute_result"
    }
   ],
   "source": [
    "A = jnp.array([[1, 2], [3, 4]]) * u.mV\n",
    "B = jnp.array([[5, 6], [7, 8]]) * u.mV\n",
    "\n",
    "A, B"
   ]
  },
  {
   "cell_type": "code",
   "execution_count": 6,
   "metadata": {
    "ExecuteTime": {
     "end_time": "2024-08-29T13:23:17.101559Z",
     "start_time": "2024-08-29T13:23:17.082406Z"
    }
   },
   "outputs": [
    {
     "data": {
      "text/plain": [
       "ArrayImpl([[ 5, 12],\n",
       "           [21, 32]]) * mvolt2"
      ]
     },
     "execution_count": 6,
     "metadata": {},
     "output_type": "execute_result"
    }
   ],
   "source": [
    "A * B # element-wise multiplication"
   ]
  },
  {
   "cell_type": "code",
   "execution_count": 7,
   "metadata": {
    "ExecuteTime": {
     "end_time": "2024-08-29T13:23:17.123368Z",
     "start_time": "2024-08-29T13:23:17.102576Z"
    }
   },
   "outputs": [
    {
     "data": {
      "text/plain": [
       "ArrayImpl([[19, 22],\n",
       "           [43, 50]]) * mvolt2"
      ]
     },
     "execution_count": 7,
     "metadata": {},
     "output_type": "execute_result"
    }
   ],
   "source": [
    "A @ B # matrix multiplication"
   ]
  },
  {
   "cell_type": "code",
   "execution_count": 8,
   "metadata": {
    "ExecuteTime": {
     "end_time": "2024-08-29T13:23:17.144339Z",
     "start_time": "2024-08-29T13:23:17.123368Z"
    }
   },
   "outputs": [
    {
     "data": {
      "text/plain": [
       "ArrayImpl([[19, 22],\n",
       "           [43, 50]]) * mvolt2"
      ]
     },
     "execution_count": 8,
     "metadata": {},
     "output_type": "execute_result"
    }
   ],
   "source": [
    "A.dot(B) # matrix multiplication"
   ]
  },
  {
   "cell_type": "code",
   "execution_count": 9,
   "metadata": {
    "ExecuteTime": {
     "end_time": "2024-08-29T13:23:17.194645Z",
     "start_time": "2024-08-29T13:23:17.144339Z"
    }
   },
   "outputs": [
    {
     "data": {
      "text/plain": [
       "ArrayImpl([[0.5, 1. ],\n",
       "           [1.5, 2. ]], dtype=float32) * mvolt"
      ]
     },
     "execution_count": 9,
     "metadata": {},
     "output_type": "execute_result"
    }
   ],
   "source": [
    "A / 2 # divide by a scalar"
   ]
  },
  {
   "cell_type": "markdown",
   "metadata": {},
   "source": [
    "if the unit of result is unitless, the unit is removed and returned as jax.Array"
   ]
  },
  {
   "cell_type": "code",
   "execution_count": 10,
   "metadata": {
    "ExecuteTime": {
     "end_time": "2024-08-29T13:23:17.200536Z",
     "start_time": "2024-08-29T13:23:17.194645Z"
    }
   },
   "outputs": [
    {
     "data": {
      "text/plain": [
       "Array([[0.5, 1. ],\n",
       "       [1.5, 2. ]], dtype=float32)"
      ]
     },
     "execution_count": 10,
     "metadata": {},
     "output_type": "execute_result"
    }
   ],
   "source": [
    "A / (2 * u.mV) # divide by a quantity, return jax array"
   ]
  },
  {
   "cell_type": "code",
   "execution_count": 11,
   "metadata": {
    "ExecuteTime": {
     "end_time": "2024-08-29T13:23:17.207426Z",
     "start_time": "2024-08-29T13:23:17.200536Z"
    }
   },
   "outputs": [
    {
     "data": {
      "text/plain": [
       "ArrayImpl([[0.5, 1. ],\n",
       "           [1.5, 2. ]], dtype=float32) * ohm"
      ]
     },
     "execution_count": 11,
     "metadata": {},
     "output_type": "execute_result"
    }
   ],
   "source": [
    "A / (2 * u.mA) # divide by a quantity, return quantity"
   ]
  },
  {
   "cell_type": "markdown",
   "metadata": {},
   "source": [
    "## Power"
   ]
  },
  {
   "cell_type": "markdown",
   "metadata": {},
   "source": [
    "The power operator raises the value of the quantity to the power of the scalar, and multiplies the unit by the scalar."
   ]
  },
  {
   "cell_type": "code",
   "execution_count": 12,
   "metadata": {
    "ExecuteTime": {
     "end_time": "2024-08-29T13:23:17.214223Z",
     "start_time": "2024-08-29T13:23:17.207426Z"
    }
   },
   "outputs": [
    {
     "data": {
      "text/plain": [
       "ArrayImpl([[1, 2],\n",
       "           [3, 4]]) * mvolt"
      ]
     },
     "execution_count": 12,
     "metadata": {},
     "output_type": "execute_result"
    }
   ],
   "source": [
    "A"
   ]
  },
  {
   "cell_type": "code",
   "execution_count": 13,
   "metadata": {
    "ExecuteTime": {
     "end_time": "2024-08-29T13:23:17.246373Z",
     "start_time": "2024-08-29T13:23:17.214223Z"
    }
   },
   "outputs": [
    {
     "data": {
      "text/plain": [
       "ArrayImpl([[ 1,  4],\n",
       "           [ 9, 16]]) * mvolt2"
      ]
     },
     "execution_count": 13,
     "metadata": {},
     "output_type": "execute_result"
    }
   ],
   "source": [
    "A ** 2 # element-wise power"
   ]
  },
  {
   "cell_type": "markdown",
   "metadata": {},
   "source": [
    "## Built-in Functions"
   ]
  },
  {
   "cell_type": "markdown",
   "metadata": {},
   "source": [
    "Brainunit provides a number of built-in functions in `Quantity` class to perform operations on quantities. These functions are:\n",
    "- unary operations\n",
    "    - positive(+)\n",
    "    - negative(-)\n",
    "    - absolute(abs)\n",
    "    - invert(~)\n",
    "- logical operations\n",
    "    - all\n",
    "    - any\n",
    "- shape operations\n",
    "    - reshape\n",
    "    - resize\n",
    "    - squeeze\n",
    "    - unsqueeze\n",
    "    - spilt\n",
    "    - swapaxes\n",
    "    - transpose\n",
    "    - ravel\n",
    "    - take\n",
    "    - repeat\n",
    "    - diagonal\n",
    "    - trace\n",
    "- mathematical functions\n",
    "    - nonzero\n",
    "    - argmax\n",
    "    - argmin\n",
    "    - argsort\n",
    "    - var\n",
    "    - round\n",
    "    - std\n",
    "    - sum\n",
    "    - cumsum\n",
    "    - cumprod\n",
    "    - max\n",
    "    - mean\n",
    "    - min\n",
    "    - ptp\n",
    "    - clip\n",
    "    - conj\n",
    "    - dot\n",
    "    - fill\n",
    "    - item\n",
    "    - prod\n",
    "    - clamp\n",
    "    - sort\n",
    "\n",
    "For more details on these functions, refer to the [documentation](https://brainunit.readthedocs.io/en/latest/apis/generated/brainunit.Quantity.html)."
   ]
  },
  {
   "cell_type": "markdown",
   "metadata": {},
   "source": [
    "## Indexing, Slicing and Iterating"
   ]
  },
  {
   "cell_type": "markdown",
   "metadata": {},
   "source": [
    "One-dimensional Quantity can be indexed, sliced and iterated over, much like lists and other Python sequences."
   ]
  },
  {
   "cell_type": "code",
   "execution_count": 14,
   "metadata": {
    "ExecuteTime": {
     "end_time": "2024-08-29T13:23:17.289745Z",
     "start_time": "2024-08-29T13:23:17.246373Z"
    }
   },
   "outputs": [
    {
     "data": {
      "text/plain": [
       "ArrayImpl([  0,   1,   8,  27,  64, 125, 216, 343, 512, 729]) * mvolt"
      ]
     },
     "execution_count": 14,
     "metadata": {},
     "output_type": "execute_result"
    }
   ],
   "source": [
    "a = jnp.arange(10) ** 3 * u.mV\n",
    "a"
   ]
  },
  {
   "cell_type": "code",
   "execution_count": 15,
   "metadata": {
    "ExecuteTime": {
     "end_time": "2024-08-29T13:23:17.329905Z",
     "start_time": "2024-08-29T13:23:17.289745Z"
    }
   },
   "outputs": [
    {
     "data": {
      "text/plain": [
       "8 * mvolt"
      ]
     },
     "execution_count": 15,
     "metadata": {},
     "output_type": "execute_result"
    }
   ],
   "source": [
    "a[2]"
   ]
  },
  {
   "cell_type": "code",
   "execution_count": 16,
   "metadata": {
    "ExecuteTime": {
     "end_time": "2024-08-29T13:23:17.362011Z",
     "start_time": "2024-08-29T13:23:17.329905Z"
    }
   },
   "outputs": [
    {
     "data": {
      "text/plain": [
       "ArrayImpl([ 8, 27, 64]) * mvolt"
      ]
     },
     "execution_count": 16,
     "metadata": {},
     "output_type": "execute_result"
    }
   ],
   "source": [
    "a[2:5]"
   ]
  },
  {
   "cell_type": "markdown",
   "metadata": {},
   "source": [
    "Only same dimension Quantity can be set to a slice of a Quantity."
   ]
  },
  {
   "cell_type": "code",
   "execution_count": 17,
   "metadata": {
    "ExecuteTime": {
     "end_time": "2024-08-29T13:23:17.471738Z",
     "start_time": "2024-08-29T13:23:17.362011Z"
    }
   },
   "outputs": [
    {
     "data": {
      "text/plain": [
       "ArrayImpl([1000,    1, 1000,   27, 1000,  125,  216,  343,  512,  729]) * mvolt"
      ]
     },
     "execution_count": 17,
     "metadata": {},
     "output_type": "execute_result"
    }
   ],
   "source": [
    "# equivalent to a[0:6:2] = 1000;\n",
    "# from start to position 6, exclusive, set every 2nd element to 1000\n",
    "a[:6:2] = 1000 * u.mV\n",
    "a"
   ]
  },
  {
   "cell_type": "code",
   "execution_count": 18,
   "metadata": {
    "ExecuteTime": {
     "end_time": "2024-08-29T13:23:17.493167Z",
     "start_time": "2024-08-29T13:23:17.471738Z"
    }
   },
   "outputs": [
    {
     "data": {
      "text/plain": [
       "ArrayImpl([ 729,  512,  343,  216,  125, 1000,   27, 1000,    1, 1000]) * mvolt"
      ]
     },
     "execution_count": 18,
     "metadata": {},
     "output_type": "execute_result"
    }
   ],
   "source": [
    "a[::-1] # reversed a"
   ]
  },
  {
   "cell_type": "code",
   "execution_count": 19,
   "metadata": {
    "ExecuteTime": {
     "end_time": "2024-08-29T13:23:17.579941Z",
     "start_time": "2024-08-29T13:23:17.493167Z"
    }
   },
   "outputs": [
    {
     "name": "stdout",
     "output_type": "stream",
     "text": [
      "10.00000095 * mvolt ** 0.3333333333333333\n",
      "1. * mvolt ** 0.3333333333333333\n",
      "10.00000095 * mvolt ** 0.3333333333333333\n",
      "3. * mvolt ** 0.3333333333333333\n",
      "10.00000095 * mvolt ** 0.3333333333333333\n",
      "5.00000048 * mvolt ** 0.3333333333333333\n",
      "6.00000048 * mvolt ** 0.3333333333333333\n",
      "7.00000048 * mvolt ** 0.3333333333333333\n",
      "8.00000095 * mvolt ** 0.3333333333333333\n",
      "9.00000095 * mvolt ** 0.3333333333333333\n"
     ]
    }
   ],
   "source": [
    "for i in a:\n",
    "    print(i**(1 / 3.))"
   ]
  },
  {
   "cell_type": "markdown",
   "metadata": {},
   "source": [
    "Multidimensional Quantity can have one index per axis. These indices are given in a tuple separated by commas:"
   ]
  },
  {
   "cell_type": "code",
   "execution_count": 20,
   "metadata": {
    "ExecuteTime": {
     "end_time": "2024-08-29T13:23:17.649674Z",
     "start_time": "2024-08-29T13:23:17.579941Z"
    }
   },
   "outputs": [
    {
     "data": {
      "text/plain": [
       "ArrayImpl([[ 0,  1,  2,  3],\n",
       "           [10, 11, 12, 13],\n",
       "           [20, 21, 22, 23],\n",
       "           [30, 31, 32, 33],\n",
       "           [40, 41, 42, 43]]) * mvolt"
      ]
     },
     "execution_count": 20,
     "metadata": {},
     "output_type": "execute_result"
    }
   ],
   "source": [
    "def f(x, y):\n",
    "    return 10 * x + y\n",
    "b = jnp.fromfunction(f, (5, 4), dtype=jnp.int32) * u.mV\n",
    "b"
   ]
  },
  {
   "cell_type": "code",
   "execution_count": 21,
   "metadata": {
    "ExecuteTime": {
     "end_time": "2024-08-29T13:23:17.669028Z",
     "start_time": "2024-08-29T13:23:17.649674Z"
    }
   },
   "outputs": [
    {
     "data": {
      "text/plain": [
       "23 * mvolt"
      ]
     },
     "execution_count": 21,
     "metadata": {},
     "output_type": "execute_result"
    }
   ],
   "source": [
    "b[2, 3]"
   ]
  },
  {
   "cell_type": "code",
   "execution_count": 22,
   "metadata": {
    "ExecuteTime": {
     "end_time": "2024-08-29T13:23:17.712661Z",
     "start_time": "2024-08-29T13:23:17.669028Z"
    }
   },
   "outputs": [
    {
     "data": {
      "text/plain": [
       "ArrayImpl([ 1, 11, 21, 31, 41]) * mvolt"
      ]
     },
     "execution_count": 22,
     "metadata": {},
     "output_type": "execute_result"
    }
   ],
   "source": [
    "b[0:5, 1]  # each row in the second column of b"
   ]
  },
  {
   "cell_type": "code",
   "execution_count": 23,
   "metadata": {
    "ExecuteTime": {
     "end_time": "2024-08-29T13:23:17.719257Z",
     "start_time": "2024-08-29T13:23:17.712661Z"
    }
   },
   "outputs": [
    {
     "data": {
      "text/plain": [
       "ArrayImpl([ 1, 11, 21, 31, 41]) * mvolt"
      ]
     },
     "execution_count": 23,
     "metadata": {},
     "output_type": "execute_result"
    }
   ],
   "source": [
    "b[:, 1]  # equivalent to the previous example"
   ]
  },
  {
   "cell_type": "code",
   "execution_count": 24,
   "metadata": {
    "ExecuteTime": {
     "end_time": "2024-08-29T13:23:17.754565Z",
     "start_time": "2024-08-29T13:23:17.719257Z"
    }
   },
   "outputs": [
    {
     "data": {
      "text/plain": [
       "ArrayImpl([[10, 11, 12, 13],\n",
       "           [20, 21, 22, 23]]) * mvolt"
      ]
     },
     "execution_count": 24,
     "metadata": {},
     "output_type": "execute_result"
    }
   ],
   "source": [
    "b[1:3, :]  # each column in the second and third row of b"
   ]
  },
  {
   "cell_type": "markdown",
   "metadata": {},
   "source": [
    "When fewer indices are provided than the number of axes, the missing indices are considered complete slices:"
   ]
  },
  {
   "cell_type": "code",
   "execution_count": 25,
   "metadata": {
    "ExecuteTime": {
     "end_time": "2024-08-29T13:23:17.785279Z",
     "start_time": "2024-08-29T13:23:17.754565Z"
    }
   },
   "outputs": [
    {
     "data": {
      "text/plain": [
       "ArrayImpl([40, 41, 42, 43]) * mvolt"
      ]
     },
     "execution_count": 25,
     "metadata": {},
     "output_type": "execute_result"
    }
   ],
   "source": [
    "b[-1]"
   ]
  },
  {
   "cell_type": "markdown",
   "metadata": {},
   "source": [
    "The expression within brackets in b[i] is treated as an i followed by as many instances of : as needed to represent the remaining axes. NumPy also allows you to write this using dots as b[i, ...].\n",
    "\n",
    "The dots (...) represent as many colons as needed to produce a complete indexing tuple. For example, if x is a Quantity with 5 axes, then\n",
    "- x[1, 2, ...] is equivalent to x[1, 2, :, :, :],\n",
    "- x[..., 3] to x[:, :, :, :, 3] and\n",
    "- x[4, ..., 5, :] to x[4, :, :, 5, :]."
   ]
  },
  {
   "cell_type": "code",
   "execution_count": 26,
   "metadata": {
    "ExecuteTime": {
     "end_time": "2024-08-29T13:23:17.802688Z",
     "start_time": "2024-08-29T13:23:17.785279Z"
    }
   },
   "outputs": [
    {
     "data": {
      "text/plain": [
       "(2, 2, 3)"
      ]
     },
     "execution_count": 26,
     "metadata": {},
     "output_type": "execute_result"
    }
   ],
   "source": [
    "c = jnp.array([[[0, 1, 2], [10, 12, 13]], [[100, 101, 102], [110, 112, 113]]]) * u.mV # a 3D array (two stacked 2D arrays)\n",
    "c.shape"
   ]
  },
  {
   "cell_type": "code",
   "execution_count": 27,
   "metadata": {
    "ExecuteTime": {
     "end_time": "2024-08-29T13:23:17.848459Z",
     "start_time": "2024-08-29T13:23:17.803431Z"
    }
   },
   "outputs": [
    {
     "data": {
      "text/plain": [
       "ArrayImpl([[100, 101, 102],\n",
       "           [110, 112, 113]]) * mvolt"
      ]
     },
     "execution_count": 27,
     "metadata": {},
     "output_type": "execute_result"
    }
   ],
   "source": [
    "c[1, ...] # same as c[1, :, :] or c[1]"
   ]
  },
  {
   "cell_type": "code",
   "execution_count": 28,
   "metadata": {
    "ExecuteTime": {
     "end_time": "2024-08-29T13:23:17.880433Z",
     "start_time": "2024-08-29T13:23:17.848459Z"
    }
   },
   "outputs": [
    {
     "data": {
      "text/plain": [
       "ArrayImpl([[  2,  13],\n",
       "           [102, 113]]) * mvolt"
      ]
     },
     "execution_count": 28,
     "metadata": {},
     "output_type": "execute_result"
    }
   ],
   "source": [
    "c[..., 2] # same as c[:, :, 2]"
   ]
  },
  {
   "cell_type": "markdown",
   "metadata": {},
   "source": [
    "Iterating over multidimensional Quantity is done with respect to the first axis:"
   ]
  },
  {
   "cell_type": "code",
   "execution_count": 29,
   "metadata": {
    "ExecuteTime": {
     "end_time": "2024-08-29T13:23:17.903426Z",
     "start_time": "2024-08-29T13:23:17.882224Z"
    }
   },
   "outputs": [
    {
     "name": "stdout",
     "output_type": "stream",
     "text": [
      "ArrayImpl([0, 1, 2, 3]) * mvolt\n",
      "ArrayImpl([10, 11, 12, 13]) * mvolt\n",
      "ArrayImpl([20, 21, 22, 23]) * mvolt\n",
      "ArrayImpl([30, 31, 32, 33]) * mvolt\n",
      "ArrayImpl([40, 41, 42, 43]) * mvolt\n"
     ]
    }
   ],
   "source": [
    "for row in b:\n",
    "    print(row)"
   ]
  },
  {
   "cell_type": "markdown",
   "metadata": {},
   "source": [
    "## Operating on Subsets\n",
    "\n",
    "`.at` method can be used to operate on a subset of the Quantity. The following are examples of operating on subsets of a Quantity:"
   ]
  },
  {
   "cell_type": "code",
   "execution_count": 30,
   "metadata": {
    "ExecuteTime": {
     "end_time": "2024-08-29T13:23:17.937585Z",
     "start_time": "2024-08-29T13:23:17.904933Z"
    }
   },
   "outputs": [
    {
     "data": {
      "text/plain": [
       "ArrayImpl([0., 1., 2., 3., 4.], dtype=float32) * mvolt"
      ]
     },
     "execution_count": 30,
     "metadata": {},
     "output_type": "execute_result"
    }
   ],
   "source": [
    "q = jnp.arange(5.0) * u.mV\n",
    "q"
   ]
  },
  {
   "cell_type": "code",
   "execution_count": 31,
   "metadata": {
    "ExecuteTime": {
     "end_time": "2024-08-29T13:23:17.983707Z",
     "start_time": "2024-08-29T13:23:17.938377Z"
    }
   },
   "outputs": [
    {
     "data": {
      "text/plain": [
       "ArrayImpl([ 0.,  1., 12.,  3.,  4.], dtype=float32) * mvolt"
      ]
     },
     "execution_count": 31,
     "metadata": {},
     "output_type": "execute_result"
    }
   ],
   "source": [
    "q.at[2].add(10 * u.mV)"
   ]
  },
  {
   "cell_type": "code",
   "execution_count": 32,
   "metadata": {
    "ExecuteTime": {
     "end_time": "2024-08-29T13:23:17.991231Z",
     "start_time": "2024-08-29T13:23:17.983707Z"
    }
   },
   "outputs": [
    {
     "data": {
      "text/plain": [
       "ArrayImpl([0., 1., 2., 3., 4.], dtype=float32) * mvolt"
      ]
     },
     "execution_count": 32,
     "metadata": {},
     "output_type": "execute_result"
    }
   ],
   "source": [
    "q.at[10].add(10 * u.mV)  # out-of-bounds indices are ignored"
   ]
  },
  {
   "cell_type": "code",
   "execution_count": 33,
   "metadata": {
    "ExecuteTime": {
     "end_time": "2024-08-29T13:23:18.014290Z",
     "start_time": "2024-08-29T13:23:17.991231Z"
    }
   },
   "outputs": [
    {
     "data": {
      "text/plain": [
       "ArrayImpl([ 0.,  1.,  2.,  3., 14.], dtype=float32) * mvolt"
      ]
     },
     "execution_count": 33,
     "metadata": {},
     "output_type": "execute_result"
    }
   ],
   "source": [
    "q.at[20].add(10 * u.mV, mode='clip') # out-of-bounds indices are clipped"
   ]
  },
  {
   "cell_type": "code",
   "execution_count": 34,
   "metadata": {
    "ExecuteTime": {
     "end_time": "2024-08-29T13:23:18.031067Z",
     "start_time": "2024-08-29T13:23:18.014290Z"
    }
   },
   "outputs": [
    {
     "data": {
      "text/plain": [
       "2. * mvolt"
      ]
     },
     "execution_count": 34,
     "metadata": {},
     "output_type": "execute_result"
    }
   ],
   "source": [
    "q.at[2].get()"
   ]
  },
  {
   "cell_type": "code",
   "execution_count": 35,
   "metadata": {
    "ExecuteTime": {
     "end_time": "2024-08-29T13:23:18.052100Z",
     "start_time": "2024-08-29T13:23:18.032210Z"
    }
   },
   "outputs": [
    {
     "data": {
      "text/plain": [
       "4. * mvolt"
      ]
     },
     "execution_count": 35,
     "metadata": {},
     "output_type": "execute_result"
    }
   ],
   "source": [
    "q.at[20].get()  # out-of-bounds indices clipped"
   ]
  },
  {
   "cell_type": "code",
   "execution_count": 36,
   "metadata": {
    "ExecuteTime": {
     "end_time": "2024-08-29T13:23:18.079767Z",
     "start_time": "2024-08-29T13:23:18.052100Z"
    }
   },
   "outputs": [
    {
     "data": {
      "text/plain": [
       "nan * mvolt"
      ]
     },
     "execution_count": 36,
     "metadata": {},
     "output_type": "execute_result"
    }
   ],
   "source": [
    "q.at[20].get(mode='fill')  # out-of-bounds indices filled with NaN"
   ]
  },
  {
   "cell_type": "markdown",
   "metadata": {},
   "source": [
    "Brainunit will check the consistency of operations on units and raise an error for dimensionality mismatches:"
   ]
  },
  {
   "cell_type": "code",
   "execution_count": 37,
   "metadata": {
    "ExecuteTime": {
     "end_time": "2024-08-29T13:23:18.084387Z",
     "start_time": "2024-08-29T13:23:18.079767Z"
    }
   },
   "outputs": [
    {
     "name": "stdout",
     "output_type": "stream",
     "text": [
      "Cannot convert to a unit with different dimensions. (units are Unit(10.0^0) and mV).\n"
     ]
    }
   ],
   "source": [
    "try:\n",
    "    q.at[2].add(10)\n",
    "except Exception as e:\n",
    "    print(e)"
   ]
  },
  {
   "cell_type": "markdown",
   "metadata": {},
   "source": [
    "Brainunit also allows customized fill values for the `at` method:"
   ]
  },
  {
   "cell_type": "code",
   "execution_count": 38,
   "metadata": {
    "ExecuteTime": {
     "end_time": "2024-08-29T13:23:18.110804Z",
     "start_time": "2024-08-29T13:23:18.084387Z"
    }
   },
   "outputs": [
    {
     "data": {
      "text/plain": [
       "-1. * mvolt"
      ]
     },
     "execution_count": 38,
     "metadata": {},
     "output_type": "execute_result"
    }
   ],
   "source": [
    "q.at[20].get(mode='fill', fill_value=-1 * u.mV)  # custom fill value"
   ]
  },
  {
   "cell_type": "code",
   "execution_count": 39,
   "metadata": {
    "ExecuteTime": {
     "end_time": "2024-08-29T13:23:18.115405Z",
     "start_time": "2024-08-29T13:23:18.110804Z"
    }
   },
   "outputs": [
    {
     "name": "stdout",
     "output_type": "stream",
     "text": [
      "Cannot convert to a unit with different dimensions. (units are Unit(10.0^0) and mV).\n"
     ]
    }
   ],
   "source": [
    "try:\n",
    "    q.at[20].get(mode='fill', fill_value=-1)\n",
    "except Exception as e:\n",
    "    print(e)"
   ]
  }
 ],
 "metadata": {
  "kernelspec": {
   "display_name": "brainpy-dev",
   "language": "python",
   "name": "python3"
  },
  "language_info": {
   "codemirror_mode": {
    "name": "ipython",
    "version": 3
   },
   "file_extension": ".py",
   "mimetype": "text/x-python",
   "name": "python",
   "nbconvert_exporter": "python",
   "pygments_lexer": "ipython3",
   "version": "3.10.13"
  }
 },
 "nbformat": 4,
 "nbformat_minor": 2
}
