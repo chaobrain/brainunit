{
 "cells": [
  {
   "cell_type": "markdown",
   "metadata": {},
   "source": [
    "# Units and Quantities"
   ]
  },
  {
   "cell_type": "markdown",
   "metadata": {},
   "source": [
    "## Introduction"
   ]
  },
  {
   "cell_type": "markdown",
   "metadata": {},
   "source": [
    "`brainunit` includes a system for physical units. The base units are defined by their standard SI unit names:\n",
    "`amp`/`ampere`, `kilogram`/`kilogramme`, `second`, `metre`/`meter`, `kilogram`, `mole`/`mol`, `kelvin`, and `candela`. In addition to these base units, brainunit defines a set of derived units: `coulomb`, `farad`, `gram`/`gramme`, `hertz`, `joule`, `liter`/\n",
    "`litre`, `molar`, `pascal`, `ohm`,  `siemens`, `volt`, `watt`,\n",
    "together with prefixed versions (e.g. `msiemens = 0.001*siemens`) using the\n",
    "prefixes `p, n, u, m, k, M, G, T` (two exceptions to this rule: `kilogram`\n",
    "is not defined with any additional prefixes, and `metre` and `meter` are\n",
    "additionaly defined with the \"centi\" prefix, i.e. `cmetre`/`cmeter`).\n",
    "For convenience, a couple of additional useful standard abbreviations such as\n",
    "`cm` (instead of `cmetre`/`cmeter`), `nS` (instead of `nsiemens`),\n",
    "`ms` (instead of `msecond`), `Hz` (instead of `hertz`), `mM`\n",
    "(instead of `mmolar`) are included. To avoid clashes with common variable\n",
    "names, no one-letter abbreviations are provided (e.g. you can use `mV` or\n",
    "`nS`, but *not* `V` or `S`)."
   ]
  },
  {
   "cell_type": "markdown",
   "metadata": {},
   "source": [
    "## Getting Started"
   ]
  },
  {
   "cell_type": "markdown",
   "metadata": {},
   "source": [
    "Most users of the `brainunit` package will work with `Quantity`: the combination of a value and a unit. The most convenient way to\n",
    "create a `Quantity` is to multiply or divide a value by one of the built-in\n",
    "units. It works with scalars, sequences, and `numpy` or `jax.numpy` arrays."
   ]
  },
  {
   "cell_type": "markdown",
   "metadata": {},
   "source": [
    "### Examples\n"
   ]
  },
  {
   "cell_type": "code",
   "execution_count": 7,
   "metadata": {},
   "outputs": [
    {
     "data": {
      "text/plain": [
       "61.8 * second"
      ]
     },
     "execution_count": 7,
     "metadata": {},
     "output_type": "execute_result"
    }
   ],
   "source": [
    "import brainunit as bu\n",
    "61.8 * bu.second"
   ]
  },
  {
   "cell_type": "markdown",
   "metadata": {},
   "source": [
    "we recommend using 64-bit precision for better numerical stability"
   ]
  },
  {
   "cell_type": "code",
   "execution_count": 8,
   "metadata": {},
   "outputs": [
    {
     "data": {
      "text/plain": [
       "61.8 * second"
      ]
     },
     "execution_count": 8,
     "metadata": {},
     "output_type": "execute_result"
    }
   ],
   "source": [
    "import brainstate as bst\n",
    "bst.environ.set(precision=64)\n",
    "61.8 * bu.second"
   ]
  },
  {
   "cell_type": "code",
   "execution_count": 9,
   "metadata": {},
   "outputs": [
    {
     "data": {
      "text/plain": [
       "ArrayImpl([1., 2., 3.]) * second"
      ]
     },
     "execution_count": 9,
     "metadata": {},
     "output_type": "execute_result"
    }
   ],
   "source": [
    "[1., 2., 3.] * bu.second"
   ]
  },
  {
   "cell_type": "code",
   "execution_count": 10,
   "metadata": {},
   "outputs": [
    {
     "data": {
      "text/plain": [
       "ArrayImpl([1., 2., 3.]) * second"
      ]
     },
     "execution_count": 10,
     "metadata": {},
     "output_type": "execute_result"
    }
   ],
   "source": [
    "import numpy as np\n",
    "np.array([1., 2., 3.]) * bu.second"
   ]
  },
  {
   "cell_type": "code",
   "execution_count": 11,
   "metadata": {},
   "outputs": [
    {
     "data": {
      "text/plain": [
       "ArrayImpl([1., 2., 3.]) * second"
      ]
     },
     "execution_count": 11,
     "metadata": {},
     "output_type": "execute_result"
    }
   ],
   "source": [
    "import jax.numpy as jnp\n",
    "jnp.array([1., 2., 3.]) * bu.second"
   ]
  },
  {
   "cell_type": "markdown",
   "metadata": {},
   "source": [
    "You can get the dim and value from a `Quantity` using the unit and value members:"
   ]
  },
  {
   "cell_type": "code",
   "execution_count": 12,
   "metadata": {},
   "outputs": [
    {
     "data": {
      "text/plain": [
       "Array(61.8, dtype=float64, weak_type=True)"
      ]
     },
     "execution_count": 12,
     "metadata": {},
     "output_type": "execute_result"
    }
   ],
   "source": [
    "q = 61.8 * bu.second\n",
    "q.mantissa"
   ]
  },
  {
   "cell_type": "code",
   "execution_count": 13,
   "metadata": {},
   "outputs": [
    {
     "data": {
      "text/plain": [
       "second"
      ]
     },
     "execution_count": 13,
     "metadata": {},
     "output_type": "execute_result"
    }
   ],
   "source": [
    "q.unit"
   ]
  },
  {
   "cell_type": "markdown",
   "metadata": {},
   "source": [
    "From this basic building block, it is possible to start combining quantities with different units:"
   ]
  },
  {
   "cell_type": "code",
   "execution_count": 14,
   "metadata": {},
   "outputs": [
    {
     "data": {
      "text/plain": [
       "0.471875 * meter / second"
      ]
     },
     "execution_count": 14,
     "metadata": {},
     "output_type": "execute_result"
    }
   ],
   "source": [
    "15.1 * bu.meter / (32.0 * bu.second)"
   ]
  },
  {
   "cell_type": "code",
   "execution_count": 17,
   "metadata": {},
   "outputs": [
    {
     "data": {
      "text/plain": [
       "0.02298674 * kmeter / Unit(1.0) * meter"
      ]
     },
     "execution_count": 17,
     "metadata": {},
     "output_type": "execute_result"
    }
   ],
   "source": [
    "3.0 * bu.kmeter / 130.51 * bu.meter"
   ]
  },
  {
   "cell_type": "code",
   "execution_count": 15,
   "metadata": {},
   "outputs": [
    {
     "data": {
      "text/plain": [
       "0.02298674 * kmeter / (meter / second)"
      ]
     },
     "execution_count": 15,
     "metadata": {},
     "output_type": "execute_result"
    }
   ],
   "source": [
    "3.0 * bu.kmeter / (130.51 * bu.meter / bu.second)"
   ]
  },
  {
   "cell_type": "markdown",
   "metadata": {},
   "source": [
    "To create a dimensionless quantity, directly use the `Quantity` constructor:"
   ]
  },
  {
   "cell_type": "code",
   "execution_count": 16,
   "metadata": {},
   "outputs": [
    {
     "data": {
      "text/plain": [
       "Dimension()"
      ]
     },
     "execution_count": 16,
     "metadata": {},
     "output_type": "execute_result"
    }
   ],
   "source": [
    "from brainunit import Quantity\n",
    "\n",
    "q = Quantity(61.8)\n",
    "q.dim"
   ]
  },
  {
   "cell_type": "markdown",
   "metadata": {},
   "source": [
    "## Using `brainunit`"
   ]
  },
  {
   "cell_type": "markdown",
   "metadata": {},
   "source": [
    "```{toctree}\n",
    ":maxdepth: 2\n",
    "\n",
    "physical_units/quantity\n",
    "physical_units/standard_units\n",
    "physical_units/constants\n",
    "physical_units/mechanism\n",
    "physical_units/conversion\n",
    "physical_units/combining_defining_displaying\n",
    "```"
   ]
  }
 ],
 "metadata": {
  "kernelspec": {
   "display_name": "brainpy-dev",
   "language": "python",
   "name": "python3"
  },
  "language_info": {
   "codemirror_mode": {
    "name": "ipython",
    "version": 3
   },
   "file_extension": ".py",
   "mimetype": "text/x-python",
   "name": "python",
   "nbconvert_exporter": "python",
   "pygments_lexer": "ipython3",
   "version": "3.10.13"
  }
 },
 "nbformat": 4,
 "nbformat_minor": 2
}
