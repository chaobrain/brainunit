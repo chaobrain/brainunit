{
 "cells": [
  {
   "cell_type": "markdown",
   "metadata": {},
   "source": [
    "# Elinstein Operations\n",
    "\n",
    "[![Colab](https://colab.research.google.com/assets/colab-badge.svg)](https://colab.research.google.com/github/chaoming0625/brainunit/blob/master/docs/mathematical_functions/elinstein_operation.ipynb)\n",
    "[![Open in Kaggle](https://kaggle.com/static/images/open-in-kaggle.svg)](https://kaggle.com/kernels/welcome?src=https://github.com/chaoming0625/brainunit/blob/master/docs/mathematical_functions/elinstein_operation.ipynb)"
   ]
  },
  {
   "cell_type": "markdown",
   "metadata": {},
   "source": [
    "We don't write \n",
    "```python\n",
    "y = x.transpose(0, 2, 3, 1)\n",
    "```\n",
    "We write comprehensible code\n",
    "```python\n",
    "y = bm.einrearrange(x, 'b c h w -> b h w c')\n",
    "```\n",
    "\n",
    "\n",
    "## What's in this tutorial?\n",
    "\n",
    "- fundamentals: reordering, composition and decomposition of axes\n",
    "- operations: `einrearrange`, `einreduce`, `einrepeat`\n",
    "- how much you can do with a single operation!"
   ]
  },
  {
   "cell_type": "code",
   "metadata": {
    "ExecuteTime": {
     "end_time": "2024-08-29T13:30:29.502068Z",
     "start_time": "2024-08-29T13:30:28.849802Z"
    }
   },
   "source": [
    "import numpy\n",
    "\n",
    "import brainunit as u"
   ],
   "outputs": [],
   "execution_count": 1
  },
  {
   "cell_type": "markdown",
   "metadata": {},
   "source": [
    "## Load a batch of images to play with"
   ]
  },
  {
   "cell_type": "markdown",
   "metadata": {},
   "source": [
    "Please download [the data](./test_images.npy)."
   ]
  },
  {
   "cell_type": "code",
   "metadata": {
    "ExecuteTime": {
     "end_time": "2024-08-29T13:30:29.510571Z",
     "start_time": "2024-08-29T13:30:29.502068Z"
    }
   },
   "source": [
    "ims = numpy.load('./test_images.npy', allow_pickle=False)\n",
    "# There are 6 images of shape 96x96 with 3 color channels packed into tensor\n",
    "print(ims.shape, ims.dtype)"
   ],
   "outputs": [
    {
     "name": "stdout",
     "output_type": "stream",
     "text": [
      "(6, 96, 96, 3) float64\n"
     ]
    }
   ],
   "execution_count": 2
  },
  {
   "cell_type": "code",
   "metadata": {
    "ExecuteTime": {
     "end_time": "2024-08-29T13:30:29.517321Z",
     "start_time": "2024-08-29T13:30:29.510571Z"
    }
   },
   "source": [
    "# display the first image (whole 4d tensor can't be rendered)\n",
    "ims[0].shape"
   ],
   "outputs": [
    {
     "data": {
      "text/plain": [
       "(96, 96, 3)"
      ]
     },
     "execution_count": 3,
     "metadata": {},
     "output_type": "execute_result"
    }
   ],
   "execution_count": 3
  },
  {
   "cell_type": "code",
   "metadata": {
    "ExecuteTime": {
     "end_time": "2024-08-29T13:30:29.525592Z",
     "start_time": "2024-08-29T13:30:29.517321Z"
    }
   },
   "source": [
    "# second image in a batch\n",
    "ims[1].shape"
   ],
   "outputs": [
    {
     "data": {
      "text/plain": [
       "(96, 96, 3)"
      ]
     },
     "execution_count": 4,
     "metadata": {},
     "output_type": "execute_result"
    }
   ],
   "execution_count": 4
  },
  {
   "cell_type": "code",
   "metadata": {
    "ExecuteTime": {
     "end_time": "2024-08-29T13:30:29.610036Z",
     "start_time": "2024-08-29T13:30:29.525592Z"
    }
   },
   "source": [
    "# rearrange, as its name suggests, rearranges elements\n",
    "# below we swapped height and width.\n",
    "# In other words, transposed first two axes (dimensions)\n",
    "u.math.einrearrange(ims[0], 'h w c -> w h c').shape"
   ],
   "outputs": [
    {
     "data": {
      "text/plain": [
       "(96, 96, 3)"
      ]
     },
     "execution_count": 5,
     "metadata": {},
     "output_type": "execute_result"
    }
   ],
   "execution_count": 5
  },
  {
   "cell_type": "markdown",
   "metadata": {},
   "source": [
    "## Composition of axes\n",
    "transposition is very common and useful, but let's move to other capabilities provided by einops"
   ]
  },
  {
   "cell_type": "code",
   "metadata": {
    "ExecuteTime": {
     "end_time": "2024-08-29T13:30:29.632530Z",
     "start_time": "2024-08-29T13:30:29.612042Z"
    }
   },
   "source": [
    "# einops allows seamlessly composing batch and height to a new height dimension\n",
    "# We just rendered all images by collapsing to 3d tensor!\n",
    "u.math.einrearrange(ims, 'b h w c -> (b h) w c').shape"
   ],
   "outputs": [
    {
     "data": {
      "text/plain": [
       "(576, 96, 3)"
      ]
     },
     "execution_count": 6,
     "metadata": {},
     "output_type": "execute_result"
    }
   ],
   "execution_count": 6
  },
  {
   "cell_type": "code",
   "metadata": {
    "ExecuteTime": {
     "end_time": "2024-08-29T13:30:29.672367Z",
     "start_time": "2024-08-29T13:30:29.632530Z"
    }
   },
   "source": [
    "# or compose a new dimension of batch and width\n",
    "u.math.einrearrange(ims, 'b h w c -> h (b w) c').shape"
   ],
   "outputs": [
    {
     "data": {
      "text/plain": [
       "(96, 576, 3)"
      ]
     },
     "execution_count": 7,
     "metadata": {},
     "output_type": "execute_result"
    }
   ],
   "execution_count": 7
  },
  {
   "cell_type": "code",
   "metadata": {
    "ExecuteTime": {
     "end_time": "2024-08-29T13:30:29.678441Z",
     "start_time": "2024-08-29T13:30:29.672367Z"
    }
   },
   "source": [
    "# resulting dimensions are computed very simply\n",
    "# length of newly composed axis is a product of components\n",
    "# [6, 96, 96, 3] -> [96, (6 * 96), 3]\n",
    "u.math.einrearrange(ims, 'b h w c -> h (b w) c').shape"
   ],
   "outputs": [
    {
     "data": {
      "text/plain": [
       "(96, 576, 3)"
      ]
     },
     "execution_count": 8,
     "metadata": {},
     "output_type": "execute_result"
    }
   ],
   "execution_count": 8
  },
  {
   "cell_type": "code",
   "metadata": {
    "ExecuteTime": {
     "end_time": "2024-08-29T13:30:29.696670Z",
     "start_time": "2024-08-29T13:30:29.678441Z"
    }
   },
   "source": [
    "# we can compose more than two axes. \n",
    "# let's flatten 4d array into 1d, resulting array has as many elements as the original\n",
    "u.math.einrearrange(ims, 'b h w c -> (b h w c)').shape"
   ],
   "outputs": [
    {
     "data": {
      "text/plain": [
       "(165888,)"
      ]
     },
     "execution_count": 9,
     "metadata": {},
     "output_type": "execute_result"
    }
   ],
   "execution_count": 9
  },
  {
   "cell_type": "markdown",
   "metadata": {},
   "source": [
    "## Decomposition of axis"
   ]
  },
  {
   "cell_type": "code",
   "metadata": {
    "ExecuteTime": {
     "end_time": "2024-08-29T13:30:29.701723Z",
     "start_time": "2024-08-29T13:30:29.696670Z"
    }
   },
   "source": [
    "# decomposition is the inverse process - represent an axis as a combination of new axes\n",
    "# several decompositions possible, so b1=2 is to decompose 6 to b1=2 and b2=3\n",
    "u.math.einrearrange(ims, '(b1 b2) h w c -> b1 b2 h w c ', b1=2).shape"
   ],
   "outputs": [
    {
     "data": {
      "text/plain": [
       "(2, 3, 96, 96, 3)"
      ]
     },
     "execution_count": 10,
     "metadata": {},
     "output_type": "execute_result"
    }
   ],
   "execution_count": 10
  },
  {
   "cell_type": "code",
   "metadata": {
    "ExecuteTime": {
     "end_time": "2024-08-29T13:30:29.740594Z",
     "start_time": "2024-08-29T13:30:29.701723Z"
    }
   },
   "source": [
    "# finally, combine composition and decomposition:\n",
    "u.math.einrearrange(ims, '(b1 b2) h w c -> (b1 h) (b2 w) c ', b1=2).shape"
   ],
   "outputs": [
    {
     "data": {
      "text/plain": [
       "(192, 288, 3)"
      ]
     },
     "execution_count": 11,
     "metadata": {},
     "output_type": "execute_result"
    }
   ],
   "execution_count": 11
  },
  {
   "cell_type": "code",
   "metadata": {
    "ExecuteTime": {
     "end_time": "2024-08-29T13:30:29.777592Z",
     "start_time": "2024-08-29T13:30:29.740594Z"
    }
   },
   "source": [
    "# slightly different composition: b1 is merged with width, b2 with height\n",
    "# ... so letters are ordered by w then by h\n",
    "u.math.einrearrange(ims, '(b1 b2) h w c -> (b2 h) (b1 w) c ', b1=2).shape"
   ],
   "outputs": [
    {
     "data": {
      "text/plain": [
       "(288, 192, 3)"
      ]
     },
     "execution_count": 12,
     "metadata": {},
     "output_type": "execute_result"
    }
   ],
   "execution_count": 12
  },
  {
   "cell_type": "code",
   "metadata": {
    "ExecuteTime": {
     "end_time": "2024-08-29T13:30:29.878041Z",
     "start_time": "2024-08-29T13:30:29.777592Z"
    }
   },
   "source": [
    "# move part of width dimension to height. \n",
    "# we should call this width-to-height as image width shrunk by 2 and height doubled. \n",
    "# but all pixels are the same!\n",
    "# Can you write reverse operation (height-to-width)?\n",
    "u.math.einrearrange(ims, 'b h (w w2) c -> (h w2) (b w) c', w2=2).shape"
   ],
   "outputs": [
    {
     "data": {
      "text/plain": [
       "(192, 288, 3)"
      ]
     },
     "execution_count": 13,
     "metadata": {},
     "output_type": "execute_result"
    }
   ],
   "execution_count": 13
  },
  {
   "cell_type": "markdown",
   "metadata": {},
   "source": [
    "## Order of axes matters"
   ]
  },
  {
   "cell_type": "code",
   "metadata": {
    "ExecuteTime": {
     "end_time": "2024-08-29T13:30:29.884095Z",
     "start_time": "2024-08-29T13:30:29.878041Z"
    }
   },
   "source": [
    "# compare with the next example\n",
    "u.math.einrearrange(ims, 'b h w c -> h (b w) c').shape"
   ],
   "outputs": [
    {
     "data": {
      "text/plain": [
       "(96, 576, 3)"
      ]
     },
     "execution_count": 14,
     "metadata": {},
     "output_type": "execute_result"
    }
   ],
   "execution_count": 14
  },
  {
   "cell_type": "code",
   "metadata": {
    "ExecuteTime": {
     "end_time": "2024-08-29T13:30:29.919887Z",
     "start_time": "2024-08-29T13:30:29.884095Z"
    }
   },
   "source": [
    "# order of axes in composition is different\n",
    "# rule is just as for digits in the number: leftmost digit is the most significant, \n",
    "# while neighboring numbers differ in the rightmost axis.\n",
    "\n",
    "# you can also think of this as lexicographic sort\n",
    "u.math.einrearrange(ims, 'b h w c -> h (w b) c').shape"
   ],
   "outputs": [
    {
     "data": {
      "text/plain": [
       "(96, 576, 3)"
      ]
     },
     "execution_count": 15,
     "metadata": {},
     "output_type": "execute_result"
    }
   ],
   "execution_count": 15
  },
  {
   "cell_type": "code",
   "metadata": {
    "ExecuteTime": {
     "end_time": "2024-08-29T13:30:29.957036Z",
     "start_time": "2024-08-29T13:30:29.919887Z"
    }
   },
   "source": [
    "# what if b1 and b2 are reordered before composing to width?\n",
    "u.math.einrearrange(ims, '(b1 b2) h w c -> h (b1 b2 w) c ', b1=2).shape "
   ],
   "outputs": [
    {
     "data": {
      "text/plain": [
       "(96, 576, 3)"
      ]
     },
     "execution_count": 16,
     "metadata": {},
     "output_type": "execute_result"
    }
   ],
   "execution_count": 16
  },
  {
   "cell_type": "code",
   "metadata": {
    "ExecuteTime": {
     "end_time": "2024-08-29T13:30:29.994479Z",
     "start_time": "2024-08-29T13:30:29.957036Z"
    }
   },
   "source": "u.math.einrearrange(ims, '(b1 b2) h w c -> h (b2 b1 w) c ', b1=2).shape ",
   "outputs": [
    {
     "data": {
      "text/plain": [
       "(96, 576, 3)"
      ]
     },
     "execution_count": 17,
     "metadata": {},
     "output_type": "execute_result"
    }
   ],
   "execution_count": 17
  },
  {
   "cell_type": "markdown",
   "metadata": {},
   "source": [
    "## Meet einops.reduce\n",
    "\n",
    "In einops-land you don't need to guess what happened\n",
    "```python\n",
    "x.mean(-1)\n",
    "```\n",
    "Because you write what the operation does\n",
    "```python\n",
    "u.math.einreduce(x, 'b h w c -> b h w', 'mean')\n",
    "```\n",
    "\n",
    "if axis is not present in the output — you guessed it — axis was reduced."
   ]
  },
  {
   "cell_type": "code",
   "metadata": {
    "ExecuteTime": {
     "end_time": "2024-08-29T13:30:30.045760Z",
     "start_time": "2024-08-29T13:30:29.996317Z"
    }
   },
   "source": [
    "# average over batch\n",
    "u.math.einreduce(ims, 'b h w c -> h w c', 'mean').shape"
   ],
   "outputs": [
    {
     "data": {
      "text/plain": [
       "(96, 96, 3)"
      ]
     },
     "execution_count": 18,
     "metadata": {},
     "output_type": "execute_result"
    }
   ],
   "execution_count": 18
  },
  {
   "cell_type": "code",
   "metadata": {
    "ExecuteTime": {
     "end_time": "2024-08-29T13:30:30.050439Z",
     "start_time": "2024-08-29T13:30:30.045760Z"
    }
   },
   "source": [
    "# the previous is identical to familiar:\n",
    "ims.mean(axis=0).shape\n",
    "# but is so much more readable"
   ],
   "outputs": [
    {
     "data": {
      "text/plain": [
       "(96, 96, 3)"
      ]
     },
     "execution_count": 19,
     "metadata": {},
     "output_type": "execute_result"
    }
   ],
   "execution_count": 19
  },
  {
   "cell_type": "code",
   "metadata": {
    "ExecuteTime": {
     "end_time": "2024-08-29T13:30:30.077440Z",
     "start_time": "2024-08-29T13:30:30.050439Z"
    }
   },
   "source": [
    "# Example of reducing of several axes \n",
    "# besides mean, there are also min, max, sum, prod\n",
    "u.math.einreduce(ims, 'b h w c -> h w', 'min').shape"
   ],
   "outputs": [
    {
     "data": {
      "text/plain": [
       "(96, 96)"
      ]
     },
     "execution_count": 20,
     "metadata": {},
     "output_type": "execute_result"
    }
   ],
   "execution_count": 20
  },
  {
   "cell_type": "code",
   "metadata": {
    "ExecuteTime": {
     "end_time": "2024-08-29T13:30:30.132966Z",
     "start_time": "2024-08-29T13:30:30.077440Z"
    }
   },
   "source": [
    "# this is mean-pooling with 2x2 kernel\n",
    "# image is split into 2x2 patches, each patch is averaged\n",
    "u.math.einreduce(ims, 'b (h h2) (w w2) c -> h (b w) c', 'mean', h2=2, w2=2).shape"
   ],
   "outputs": [
    {
     "data": {
      "text/plain": [
       "(48, 288, 3)"
      ]
     },
     "execution_count": 21,
     "metadata": {},
     "output_type": "execute_result"
    }
   ],
   "execution_count": 21
  },
  {
   "cell_type": "code",
   "metadata": {
    "ExecuteTime": {
     "end_time": "2024-08-29T13:30:30.160168Z",
     "start_time": "2024-08-29T13:30:30.133974Z"
    }
   },
   "source": [
    "# max-pooling is similar\n",
    "# result is not as smooth as for mean-pooling\n",
    "u.math.einreduce(ims, 'b (h h2) (w w2) c -> h (b w) c', 'max', h2=2, w2=2).shape"
   ],
   "outputs": [
    {
     "data": {
      "text/plain": [
       "(48, 288, 3)"
      ]
     },
     "execution_count": 22,
     "metadata": {},
     "output_type": "execute_result"
    }
   ],
   "execution_count": 22
  },
  {
   "cell_type": "code",
   "metadata": {
    "ExecuteTime": {
     "end_time": "2024-08-29T13:30:30.199644Z",
     "start_time": "2024-08-29T13:30:30.160168Z"
    }
   },
   "source": [
    "# yet another example. Can you compute result shape?\n",
    "u.math.einreduce(ims, '(b1 b2) h w c -> (b2 h) (b1 w)', 'mean', b1=2).shape"
   ],
   "outputs": [
    {
     "data": {
      "text/plain": [
       "(288, 192)"
      ]
     },
     "execution_count": 23,
     "metadata": {},
     "output_type": "execute_result"
    }
   ],
   "execution_count": 23
  },
  {
   "cell_type": "markdown",
   "metadata": {},
   "source": [
    "## Stack and concatenate"
   ]
  },
  {
   "cell_type": "code",
   "metadata": {
    "ExecuteTime": {
     "end_time": "2024-08-29T13:30:30.206866Z",
     "start_time": "2024-08-29T13:30:30.199644Z"
    }
   },
   "source": [
    "# rearrange can also take care of lists of arrays with the same shape\n",
    "x = list(ims)\n",
    "print(type(x), 'with', len(x), 'tensors of shape', x[0].shape)\n",
    "# that's how we can stack inputs\n",
    "# \"list axis\" becomes first (\"b\" in this case), and we left it there\n",
    "res = u.math.einrearrange(x, 'b h w c -> b h w c')\n",
    "\n",
    "[r.shape for r in res]"
   ],
   "outputs": [
    {
     "name": "stdout",
     "output_type": "stream",
     "text": [
      "<class 'list'> with 6 tensors of shape (96, 96, 3)\n"
     ]
    },
    {
     "data": {
      "text/plain": [
       "[(96, 96, 3), (96, 96, 3), (96, 96, 3), (96, 96, 3), (96, 96, 3), (96, 96, 3)]"
      ]
     },
     "execution_count": 24,
     "metadata": {},
     "output_type": "execute_result"
    }
   ],
   "execution_count": 24
  },
  {
   "cell_type": "code",
   "metadata": {
    "ExecuteTime": {
     "end_time": "2024-08-29T13:30:30.227216Z",
     "start_time": "2024-08-29T13:30:30.206866Z"
    }
   },
   "source": [
    "# but new axis can appear in the other place:\n",
    "u.math.einrearrange(x, 'b h w c -> h w c b').shape"
   ],
   "outputs": [
    {
     "data": {
      "text/plain": [
       "(96, 96, 3, 6)"
      ]
     },
     "execution_count": 25,
     "metadata": {},
     "output_type": "execute_result"
    }
   ],
   "execution_count": 25
  },
  {
   "cell_type": "code",
   "metadata": {
    "ExecuteTime": {
     "end_time": "2024-08-29T13:30:30.234701Z",
     "start_time": "2024-08-29T13:30:30.227216Z"
    }
   },
   "source": [
    "# that's equivalent to numpy stacking, but written more explicitly\n",
    "numpy.array_equal(u.math.einrearrange(x, 'b h w c -> h w c b'), numpy.stack(x, axis=3))"
   ],
   "outputs": [
    {
     "data": {
      "text/plain": [
       "False"
      ]
     },
     "execution_count": 26,
     "metadata": {},
     "output_type": "execute_result"
    }
   ],
   "execution_count": 26
  },
  {
   "cell_type": "code",
   "metadata": {
    "ExecuteTime": {
     "end_time": "2024-08-29T13:30:30.242929Z",
     "start_time": "2024-08-29T13:30:30.235773Z"
    }
   },
   "source": [
    "# ... or we can concatenate along axes\n",
    "u.math.einrearrange(x, 'b h w c -> h (b w) c').shape"
   ],
   "outputs": [
    {
     "data": {
      "text/plain": [
       "(96, 576, 3)"
      ]
     },
     "execution_count": 27,
     "metadata": {},
     "output_type": "execute_result"
    }
   ],
   "execution_count": 27
  },
  {
   "cell_type": "code",
   "metadata": {
    "ExecuteTime": {
     "end_time": "2024-08-29T13:30:30.253382Z",
     "start_time": "2024-08-29T13:30:30.242929Z"
    }
   },
   "source": [
    "# which is equivalent to concatenation\n",
    "numpy.array_equal(u.math.einrearrange(x, 'b h w c -> h (b w) c'), numpy.concatenate(x, axis=1))"
   ],
   "outputs": [
    {
     "data": {
      "text/plain": [
       "False"
      ]
     },
     "execution_count": 28,
     "metadata": {},
     "output_type": "execute_result"
    }
   ],
   "execution_count": 28
  },
  {
   "cell_type": "markdown",
   "metadata": {},
   "source": [
    "## Addition or removal of axes\n",
    "\n",
    "You can write 1 to create a new axis of length 1. Similarly you can remove such axis.\n",
    "\n",
    "There is also a synonym `()` that you can use. That's a composition of zero axes and it also has a unit length."
   ]
  },
  {
   "cell_type": "code",
   "metadata": {
    "ExecuteTime": {
     "end_time": "2024-08-29T13:30:30.284572Z",
     "start_time": "2024-08-29T13:30:30.253382Z"
    }
   },
   "source": [
    "x = u.math.einrearrange(ims, 'b h w c -> b 1 h w 1 c') # functionality of numpy.expand_dims\n",
    "print(x.shape)\n",
    "print(u.math.einrearrange(x, 'b 1 h w 1 c -> b h w c').shape) # functionality of numpy.squeeze"
   ],
   "outputs": [
    {
     "name": "stdout",
     "output_type": "stream",
     "text": [
      "(6, 1, 96, 96, 1, 3)\n",
      "(6, 96, 96, 3)\n"
     ]
    }
   ],
   "execution_count": 29
  },
  {
   "cell_type": "code",
   "metadata": {
    "ExecuteTime": {
     "end_time": "2024-08-29T13:30:30.374044Z",
     "start_time": "2024-08-29T13:30:30.285193Z"
    }
   },
   "source": [
    "# compute max in each image individually, then show a difference \n",
    "x = u.math.einreduce(ims, 'b h w c -> b () () c', 'max') - ims\n",
    "u.math.einrearrange(x, 'b h w c -> h (b w) c').shape"
   ],
   "outputs": [
    {
     "data": {
      "text/plain": [
       "(96, 576, 3)"
      ]
     },
     "execution_count": 30,
     "metadata": {},
     "output_type": "execute_result"
    }
   ],
   "execution_count": 30
  },
  {
   "cell_type": "markdown",
   "metadata": {},
   "source": [
    "## Repeating elements\n",
    "\n",
    "Third operation we introduce is `repeat`"
   ]
  },
  {
   "cell_type": "code",
   "metadata": {
    "ExecuteTime": {
     "end_time": "2024-08-29T13:30:30.437990Z",
     "start_time": "2024-08-29T13:30:30.374044Z"
    }
   },
   "source": [
    "# repeat along a new axis. New axis can be placed anywhere\n",
    "u.math.einrepeat(ims[0], 'h w c -> h new_axis w c', new_axis=5).shape"
   ],
   "outputs": [
    {
     "data": {
      "text/plain": [
       "(96, 5, 96, 3)"
      ]
     },
     "execution_count": 31,
     "metadata": {},
     "output_type": "execute_result"
    }
   ],
   "execution_count": 31
  },
  {
   "cell_type": "code",
   "metadata": {
    "ExecuteTime": {
     "end_time": "2024-08-29T13:30:30.443898Z",
     "start_time": "2024-08-29T13:30:30.437990Z"
    }
   },
   "source": [
    "# shortcut\n",
    "u.math.einrepeat(ims[0], 'h w c -> h 5 w c').shape"
   ],
   "outputs": [
    {
     "data": {
      "text/plain": [
       "(96, 5, 96, 3)"
      ]
     },
     "execution_count": 32,
     "metadata": {},
     "output_type": "execute_result"
    }
   ],
   "execution_count": 32
  },
  {
   "cell_type": "code",
   "metadata": {
    "ExecuteTime": {
     "end_time": "2024-08-29T13:30:30.492132Z",
     "start_time": "2024-08-29T13:30:30.443898Z"
    }
   },
   "source": [
    "# repeat along w (existing axis)\n",
    "u.math.einrepeat(ims[0], 'h w c -> h (repeat w) c', repeat=3).shape"
   ],
   "outputs": [
    {
     "data": {
      "text/plain": [
       "(96, 288, 3)"
      ]
     },
     "execution_count": 33,
     "metadata": {},
     "output_type": "execute_result"
    }
   ],
   "execution_count": 33
  },
  {
   "cell_type": "code",
   "metadata": {
    "ExecuteTime": {
     "end_time": "2024-08-29T13:30:30.587883Z",
     "start_time": "2024-08-29T13:30:30.492132Z"
    }
   },
   "source": [
    "# repeat along two existing axes\n",
    "u.math.einrepeat(ims[0], 'h w c -> (2 h) (2 w) c').shape"
   ],
   "outputs": [
    {
     "data": {
      "text/plain": [
       "(192, 192, 3)"
      ]
     },
     "execution_count": 34,
     "metadata": {},
     "output_type": "execute_result"
    }
   ],
   "execution_count": 34
  },
  {
   "cell_type": "code",
   "metadata": {
    "ExecuteTime": {
     "end_time": "2024-08-29T13:30:30.664879Z",
     "start_time": "2024-08-29T13:30:30.587883Z"
    }
   },
   "source": [
    "# order of axes matters as usual - you can repeat each element (pixel) 3 times \n",
    "# by changing order in parenthesis\n",
    "u.math.einrepeat(ims[0], 'h w c -> h (w repeat) c', repeat=3).shape"
   ],
   "outputs": [
    {
     "data": {
      "text/plain": [
       "(96, 288, 3)"
      ]
     },
     "execution_count": 35,
     "metadata": {},
     "output_type": "execute_result"
    }
   ],
   "execution_count": 35
  },
  {
   "cell_type": "markdown",
   "metadata": {},
   "source": [
    "Note: `repeat` operation covers functionality identical to `numpy.repeat`, `numpy.tile` and actually more than that."
   ]
  },
  {
   "cell_type": "markdown",
   "metadata": {},
   "source": [
    "## Reduce ⇆ repeat\n",
    "\n",
    "reduce and repeat are like opposite of each other: first one reduces amount of elements, second one increases.\n",
    "\n",
    "In the following example each image is repeated first, then we reduce over new axis to get back original tensor. Notice that operation patterns are \"reverse\" of each other"
   ]
  },
  {
   "cell_type": "code",
   "metadata": {
    "ExecuteTime": {
     "end_time": "2024-08-29T13:30:30.837839Z",
     "start_time": "2024-08-29T13:30:30.664879Z"
    }
   },
   "source": [
    "repeated = u.math.einrepeat(ims, 'b h w c -> b h new_axis w c', new_axis=2)\n",
    "reduced = u.math.einreduce(repeated, 'b h new_axis w c -> b h w c', 'min')\n",
    "\n",
    "\n",
    "assert u.math.allclose(ims, reduced)"
   ],
   "outputs": [],
   "execution_count": 36
  },
  {
   "cell_type": "markdown",
   "metadata": {},
   "source": [
    "## Fancy examples in random order\n",
    "\n",
    "(a.k.a. mad designer gallery)"
   ]
  },
  {
   "cell_type": "code",
   "metadata": {
    "ExecuteTime": {
     "end_time": "2024-08-29T13:30:30.872323Z",
     "start_time": "2024-08-29T13:30:30.837839Z"
    }
   },
   "source": [
    "# interweaving pixels of different pictures\n",
    "# all letters are observable\n",
    "u.math.einrearrange(ims, '(b1 b2) h w c -> (h b1) (w b2) c ', b1=2).shape"
   ],
   "outputs": [
    {
     "data": {
      "text/plain": [
       "(192, 288, 3)"
      ]
     },
     "execution_count": 37,
     "metadata": {},
     "output_type": "execute_result"
    }
   ],
   "execution_count": 37
  },
  {
   "cell_type": "code",
   "metadata": {
    "ExecuteTime": {
     "end_time": "2024-08-29T13:30:30.890002Z",
     "start_time": "2024-08-29T13:30:30.873327Z"
    }
   },
   "source": [
    "# interweaving along vertical for couples of images\n",
    "u.math.einrearrange(ims, '(b1 b2) h w c -> (h b1) (b2 w) c', b1=2).shape"
   ],
   "outputs": [
    {
     "data": {
      "text/plain": [
       "(192, 288, 3)"
      ]
     },
     "execution_count": 38,
     "metadata": {},
     "output_type": "execute_result"
    }
   ],
   "execution_count": 38
  },
  {
   "cell_type": "code",
   "metadata": {
    "ExecuteTime": {
     "end_time": "2024-08-29T13:30:30.931569Z",
     "start_time": "2024-08-29T13:30:30.890002Z"
    }
   },
   "source": [
    "# interweaving lines for couples of images\n",
    "# exercise: achieve the same result without einops in your favourite framework\n",
    "u.math.einreduce(ims, '(b1 b2) h w c -> h (b2 w) c', 'max', b1=2).shape"
   ],
   "outputs": [
    {
     "data": {
      "text/plain": [
       "(96, 288, 3)"
      ]
     },
     "execution_count": 39,
     "metadata": {},
     "output_type": "execute_result"
    }
   ],
   "execution_count": 39
  },
  {
   "cell_type": "code",
   "metadata": {
    "ExecuteTime": {
     "end_time": "2024-08-29T13:30:30.985836Z",
     "start_time": "2024-08-29T13:30:30.931569Z"
    }
   },
   "source": [
    "# color can be also composed into dimension\n",
    "# ... while image is downsampled\n",
    "u.math.einreduce(ims, 'b (h 2) (w 2) c -> (c h) (b w)', 'mean').shape"
   ],
   "outputs": [
    {
     "data": {
      "text/plain": [
       "(144, 288)"
      ]
     },
     "execution_count": 40,
     "metadata": {},
     "output_type": "execute_result"
    }
   ],
   "execution_count": 40
  },
  {
   "cell_type": "code",
   "metadata": {
    "ExecuteTime": {
     "end_time": "2024-08-29T13:30:31.040303Z",
     "start_time": "2024-08-29T13:30:30.985836Z"
    }
   },
   "source": [
    "# disproportionate resize\n",
    "u.math.einreduce(ims, 'b (h 4) (w 3) c -> (h) (b w)', 'mean').shape"
   ],
   "outputs": [
    {
     "data": {
      "text/plain": [
       "(24, 192)"
      ]
     },
     "execution_count": 41,
     "metadata": {},
     "output_type": "execute_result"
    }
   ],
   "execution_count": 41
  },
  {
   "cell_type": "code",
   "metadata": {
    "ExecuteTime": {
     "end_time": "2024-08-29T13:30:31.098784Z",
     "start_time": "2024-08-29T13:30:31.040303Z"
    }
   },
   "source": [
    "# spilt each image in two halves, compute mean of the two\n",
    "u.math.einreduce(ims, 'b (h1 h2) w c -> h2 (b w)', 'mean', h1=2).shape"
   ],
   "outputs": [
    {
     "data": {
      "text/plain": [
       "(48, 576)"
      ]
     },
     "execution_count": 42,
     "metadata": {},
     "output_type": "execute_result"
    }
   ],
   "execution_count": 42
  },
  {
   "cell_type": "code",
   "metadata": {
    "ExecuteTime": {
     "end_time": "2024-08-29T13:30:31.136746Z",
     "start_time": "2024-08-29T13:30:31.099803Z"
    }
   },
   "source": [
    "# split in small patches and transpose each patch\n",
    "u.math.einrearrange(ims, 'b (h1 h2) (w1 w2) c -> (h1 w2) (b w1 h2) c', h2=8, w2=8).shape"
   ],
   "outputs": [
    {
     "data": {
      "text/plain": [
       "(96, 576, 3)"
      ]
     },
     "execution_count": 43,
     "metadata": {},
     "output_type": "execute_result"
    }
   ],
   "execution_count": 43
  },
  {
   "cell_type": "code",
   "metadata": {
    "ExecuteTime": {
     "end_time": "2024-08-29T13:30:31.178918Z",
     "start_time": "2024-08-29T13:30:31.136746Z"
    }
   },
   "source": [
    "# stop me someone!\n",
    "u.math.einrearrange(ims, 'b (h1 h2 h3) (w1 w2 w3) c -> (h1 w2 h3) (b w1 h2 w3) c', h2=2, w2=2, w3=2, h3=2).shape"
   ],
   "outputs": [
    {
     "data": {
      "text/plain": [
       "(96, 576, 3)"
      ]
     },
     "execution_count": 44,
     "metadata": {},
     "output_type": "execute_result"
    }
   ],
   "execution_count": 44
  },
  {
   "cell_type": "code",
   "metadata": {
    "ExecuteTime": {
     "end_time": "2024-08-29T13:30:31.216437Z",
     "start_time": "2024-08-29T13:30:31.178918Z"
    }
   },
   "source": "u.math.einrearrange(ims, '(b1 b2) (h1 h2) (w1 w2) c -> (h1 b1 h2) (w1 b2 w2) c', h1=3, w1=3, b2=3).shape",
   "outputs": [
    {
     "data": {
      "text/plain": [
       "(192, 288, 3)"
      ]
     },
     "execution_count": 45,
     "metadata": {},
     "output_type": "execute_result"
    }
   ],
   "execution_count": 45
  },
  {
   "cell_type": "code",
   "metadata": {
    "ExecuteTime": {
     "end_time": "2024-08-29T13:30:31.253202Z",
     "start_time": "2024-08-29T13:30:31.216437Z"
    }
   },
   "source": [
    "# patterns can be arbitrarily complicated\n",
    "u.math.einreduce(ims, '(b1 b2) (h1 h2 h3) (w1 w2 w3) c -> (h1 w1 h3) (b1 w2 h2 w3 b2) c', 'mean', \n",
    "       h2=2, w1=2, w3=2, h3=2, b2=2).shape"
   ],
   "outputs": [
    {
     "data": {
      "text/plain": [
       "(96, 576, 3)"
      ]
     },
     "execution_count": 46,
     "metadata": {},
     "output_type": "execute_result"
    }
   ],
   "execution_count": 46
  },
  {
   "cell_type": "code",
   "metadata": {
    "ExecuteTime": {
     "end_time": "2024-08-29T13:30:31.278738Z",
     "start_time": "2024-08-29T13:30:31.254210Z"
    }
   },
   "source": [
    "# subtract background in each image individually and normalize\n",
    "# pay attention to () - this is composition of 0 axis, a dummy axis with 1 element.\n",
    "im2 = u.math.einreduce(ims, 'b h w c -> b () () c', 'max') - ims\n",
    "im2 /= u.math.einreduce(im2, 'b h w c -> b () () c', 'max')\n",
    "u.math.einrearrange(im2, 'b h w c -> h (b w) c').shape"
   ],
   "outputs": [
    {
     "data": {
      "text/plain": [
       "(96, 576, 3)"
      ]
     },
     "execution_count": 47,
     "metadata": {},
     "output_type": "execute_result"
    }
   ],
   "execution_count": 47
  },
  {
   "cell_type": "code",
   "metadata": {
    "ExecuteTime": {
     "end_time": "2024-08-29T13:30:31.428181Z",
     "start_time": "2024-08-29T13:30:31.278738Z"
    }
   },
   "source": [
    "# pixelate: first downscale by averaging, then upscale back using the same pattern\n",
    "averaged = u.math.einreduce(ims, 'b (h h2) (w w2) c -> b h w c', 'mean', h2=6, w2=8)\n",
    "u.math.einrepeat(averaged, 'b h w c -> (h h2) (b w w2) c', h2=6, w2=8).shape"
   ],
   "outputs": [
    {
     "data": {
      "text/plain": [
       "(96, 576, 3)"
      ]
     },
     "execution_count": 48,
     "metadata": {},
     "output_type": "execute_result"
    }
   ],
   "execution_count": 48
  },
  {
   "cell_type": "code",
   "metadata": {
    "ExecuteTime": {
     "end_time": "2024-08-29T13:30:31.451830Z",
     "start_time": "2024-08-29T13:30:31.429189Z"
    }
   },
   "source": "u.math.einrearrange(ims, 'b h w c -> w (b h) c').shape",
   "outputs": [
    {
     "data": {
      "text/plain": [
       "(96, 576, 3)"
      ]
     },
     "execution_count": 49,
     "metadata": {},
     "output_type": "execute_result"
    }
   ],
   "execution_count": 49
  },
  {
   "cell_type": "code",
   "metadata": {
    "ExecuteTime": {
     "end_time": "2024-08-29T13:30:31.506292Z",
     "start_time": "2024-08-29T13:30:31.451830Z"
    }
   },
   "source": [
    "# let's bring color dimension as part of horizontal axis\n",
    "# at the same time horizontal axis is downsampled by 2x\n",
    "u.math.einreduce(ims, 'b (h h2) (w w2) c -> (h w2) (b w c)', 'mean', h2=3, w2=3).shape"
   ],
   "outputs": [
    {
     "data": {
      "text/plain": [
       "(96, 576)"
      ]
     },
     "execution_count": 50,
     "metadata": {},
     "output_type": "execute_result"
    }
   ],
   "execution_count": 50
  },
  {
   "cell_type": "markdown",
   "metadata": {},
   "source": [
    "## Summary\n",
    "\n",
    "- `rearrange` doesn't change number of elements and covers different numpy functions (like `transpose`, `reshape`, `stack`, `concatenate`,  `squeeze` and `expand_dims`)\n",
    "- `reduce` combines same reordering syntax with reductions (`mean`, `min`, `max`, `sum`, `prod`, and any others)\n",
    "- `repeat` additionally covers repeating and tiling\n",
    "- composition and decomposition of axes are a corner stone, they can and should be used together\n"
   ]
  }
 ],
 "metadata": {
  "kernelspec": {
   "display_name": "brainpy-dev",
   "language": "python",
   "name": "python3"
  },
  "language_info": {
   "codemirror_mode": {
    "name": "ipython",
    "version": 3
   },
   "file_extension": ".py",
   "mimetype": "text/x-python",
   "name": "python",
   "nbconvert_exporter": "python",
   "pygments_lexer": "ipython3",
   "version": "3.10.13"
  }
 },
 "nbformat": 4,
 "nbformat_minor": 2
}
