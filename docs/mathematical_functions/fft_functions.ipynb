{
 "cells": [
  {
   "cell_type": "markdown",
   "metadata": {},
   "source": [
    "# Fourier Transform Functions\n",
    "\n",
    "[![Colab](https://colab.research.google.com/assets/colab-badge.svg)](https://colab.research.google.com/github/chaobrain/brainunit/blob/master/docs/mathematical_functions/fft_functions.ipynb)\n",
    "[![Open in Kaggle](https://kaggle.com/static/images/open-in-kaggle.svg)](https://kaggle.com/kernels/welcome?src=https://github.com/chaobrain/brainunit/blob/master/docs/mathematical_functions/fft_functions.ipynb)"
   ]
  },
  {
   "cell_type": "markdown",
   "metadata": {},
   "source": [
    "In `brainunit.fft` we reimplemented Fast Fourier Transform functions compatible with both `Quantity` and arrays.\n",
    "For compatible with `Quantity`, we categorized the functions into two groups.\n",
    "\n",
    "- [FFT Changing Unit](https://brainunit.readthedocs.io/en/latest/apis/brainunit.fft.html#functions-that-changing-unit)\n",
    "- [FFT Keeping Unit](https://brainunit.readthedocs.io/en/latest/apis/brainunit.fft.html#functions-that-keeping-unit)"
   ]
  }
 ],
 "metadata": {
  "language_info": {
   "name": "python"
  }
 },
 "nbformat": 4,
 "nbformat_minor": 2
}
