{
 "cells": [
  {
   "cell_type": "markdown",
   "metadata": {},
   "source": [
    "# Functions that Checking Units\n",
    "\n",
    "[![Colab](https://colab.research.google.com/assets/colab-badge.svg)](https://colab.research.google.com/github/chaobrain/brainunit/blob/master/docs/mathematical_functions/customize_functions.ipynb)\n",
    "[![Open in Kaggle](https://kaggle.com/static/images/open-in-kaggle.svg)](https://kaggle.com/kernels/welcome?src=https://github.com/chaobrain/brainunit/blob/master/docs/mathematical_functions/customize_functions.ipynb)"
   ]
  },
  {
   "cell_type": "markdown",
   "metadata": {},
   "source": [
    "In scientific computing, it is crucial to ensure that function parameters and return values have the correct units. To streamline this process, we can use the `brainunit.check_units` decorator to validate the units of function parameters and return values."
   ]
  },
  {
   "cell_type": "markdown",
   "metadata": {},
   "source": [
    "## `check_units` Decorator"
   ]
  },
  {
   "cell_type": "markdown",
   "metadata": {},
   "source": [
    "The `check_units` decorator allows us to specify the units that function parameters and return values should have. If the provided units are incorrect, it raises a `DimensionMismatchError`."
   ]
  },
  {
   "cell_type": "markdown",
   "metadata": {},
   "source": [
    "### Example\n",
    "Let's demonstrate the usage of the `check_units` decorator through a set of test cases.\n"
   ]
  },
  {
   "cell_type": "code",
   "execution_count": 2,
   "metadata": {},
   "outputs": [],
   "source": [
    "import brainunit as u\n",
    "from brainunit import check_units\n",
    "\n",
    "@check_units(v=u.volt)\n",
    "def f(v, x):\n",
    "    '''\n",
    "    v must have units of volt, x can have any (or no) units\n",
    "    '''\n",
    "    pass"
   ]
  },
  {
   "cell_type": "code",
   "execution_count": 3,
   "metadata": {},
   "outputs": [],
   "source": [
    "# Correct units\n",
    "f(3 * u.mV, 5 * u.second)\n",
    "f(5 * u.volt, \"something\")\n",
    "f([1, 2, 3] * u.volt, None)"
   ]
  },
  {
   "cell_type": "code",
   "execution_count": 4,
   "metadata": {},
   "outputs": [],
   "source": [
    "# Lists that can be converted should also work\n",
    "f([1 * u.volt, 2 * u.volt, 3 * u.volt], None)"
   ]
  },
  {
   "cell_type": "code",
   "execution_count": 5,
   "metadata": {},
   "outputs": [],
   "source": [
    "# Strings and None are also allowed to pass\n",
    "f(\"a string\", None)\n",
    "f(None, None)"
   ]
  },
  {
   "cell_type": "code",
   "execution_count": 6,
   "metadata": {},
   "outputs": [
    {
     "name": "stdout",
     "output_type": "stream",
     "text": [
      "Function 'f' expected a array with unit volt for argument 'v' but got '5. s' (unit is s).\n",
      "Function 'f' expected a array with unit volt for argument 'v' but got '5.' (unit is 1).\n",
      "unsupported operand type(s) for /: 'object' and 'int'\n",
      "Argument 'v' is not a array, expected a array with dimensions V\n"
     ]
    }
   ],
   "source": [
    "# Incorrect units\n",
    "try:\n",
    "    f(5 * u.second, None)\n",
    "except Exception as e:\n",
    "    print(e)\n",
    "\n",
    "try:\n",
    "    f(5, None)\n",
    "except Exception as e:\n",
    "    print(e)\n",
    "\n",
    "try:\n",
    "    f(object(), None)\n",
    "except Exception as e:\n",
    "    print(e)\n",
    "\n",
    "try:\n",
    "    f([1, 2 * u.volt, 3], None)\n",
    "except Exception as e:\n",
    "    print(e)"
   ]
  },
  {
   "cell_type": "markdown",
   "metadata": {},
   "source": [
    "Through these test cases, we can ensure that our functions behave correctly when handling quantities and can handle unit mismatches."
   ]
  }
 ],
 "metadata": {
  "kernelspec": {
   "display_name": "Python 3",
   "language": "python",
   "name": "python3"
  },
  "language_info": {
   "codemirror_mode": {
    "name": "ipython",
    "version": 3
   },
   "file_extension": ".py",
   "mimetype": "text/x-python",
   "name": "python",
   "nbconvert_exporter": "python",
   "pygments_lexer": "ipython3",
   "version": "3.10.13"
  }
 },
 "nbformat": 4,
 "nbformat_minor": 2
}
