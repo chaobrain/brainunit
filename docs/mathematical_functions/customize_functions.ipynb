{
 "cells": [
  {
   "cell_type": "markdown",
   "metadata": {},
   "source": [
    "# Functions that Checking Units or Assigning Units\n",
    "\n",
    "[![Colab](https://colab.research.google.com/assets/colab-badge.svg)](https://colab.research.google.com/github/chaobrain/brainunit/blob/master/docs/mathematical_functions/customize_functions.ipynb)\n",
    "[![Open in Kaggle](https://kaggle.com/static/images/open-in-kaggle.svg)](https://kaggle.com/kernels/welcome?src=https://github.com/chaobrain/brainunit/blob/master/docs/mathematical_functions/customize_functions.ipynb)"
   ]
  },
  {
   "cell_type": "markdown",
   "metadata": {},
   "source": [
    "In scientific computing, it is crucial to ensure that function parameters and return values have the correct units. To streamline this process, we can use the `brainunit.check_units` decorator to validate the units of function parameters and return values."
   ]
  },
  {
   "cell_type": "markdown",
   "metadata": {},
   "source": [
    "## Checking Units"
   ]
  },
  {
   "cell_type": "markdown",
   "metadata": {},
   "source": [
    "### `check_dims` Decorator"
   ]
  },
  {
   "cell_type": "markdown",
   "metadata": {},
   "source": [
    "The `check_dims` decorator is used to validate the dimensions of input arguments or return values of a function. It ensures that the dimensions match the expected dimensions, helping to avoid errors caused by unit mismatches.\n",
    "\n",
    "We will demonstrate the usage of `check_dims` through several examples."
   ]
  },
  {
   "cell_type": "markdown",
   "metadata": {},
   "source": [
    "#### Basic Usage\n",
    "We can use the `check_dims` decorator to validate whether the input arguments of a function have the expected units."
   ]
  },
  {
   "cell_type": "code",
   "execution_count": 19,
   "metadata": {},
   "outputs": [],
   "source": [
    "import brainunit as u\n",
    "\n",
    "@u.check_dims(v=u.volt.dim)\n",
    "def a_function(v, x):\n",
    "    \"\"\"\n",
    "    v must have units of volt, and x can have any (or no) unit.\n",
    "    \"\"\"\n",
    "    pass"
   ]
  },
  {
   "cell_type": "markdown",
   "metadata": {},
   "source": [
    "##### Correct Dimensions\n",
    "The following calls are correct because the `v` argument has units of volt or are `strings` or `None`:"
   ]
  },
  {
   "cell_type": "code",
   "execution_count": 21,
   "metadata": {},
   "outputs": [],
   "source": [
    "a_function(3 * u.mV, 5 * u.second)\n",
    "a_function(5 * u.volt, \"something\")\n",
    "a_function([1, 2, 3] * u.volt, None)\n",
    "a_function([1 * u.volt, 2 * u.volt, 3 * u.volt], None)\n",
    "a_function(\"a string\", None)\n",
    "a_function(None, None)"
   ]
  },
  {
   "cell_type": "markdown",
   "metadata": {},
   "source": [
    "##### Incorrect Units\n",
    "The following calls will raise a `DimensionMismatchError` because the `v` argument does not have the expected units."
   ]
  },
  {
   "cell_type": "code",
   "execution_count": 25,
   "metadata": {},
   "outputs": [
    {
     "name": "stdout",
     "output_type": "stream",
     "text": [
      "Function 'a_function' expected a array with dimension metre ** 2 * kilogram * second ** -3 * amp ** -1 for argument 'v' but got '5 * second' (unit is s).\n",
      "Function 'a_function' expected a array with dimension metre ** 2 * kilogram * second ** -3 * amp ** -1 for argument 'v' but got '5 * Unit(10.0^0)' (unit is 1).\n",
      "Function 'a_function' expected a array with dimension metre ** 2 * kilogram * second ** -3 * amp ** -1 for argument 'v' but got '<object object at 0x00000193E231BCD0> * Unit(10.0^0)' (unit is 1).\n"
     ]
    }
   ],
   "source": [
    "try:\n",
    "    a_function(5 * u.second, None)\n",
    "except u.DimensionMismatchError as e:\n",
    "    print(e)\n",
    "    \n",
    "try:\n",
    "    a_function(5, None)\n",
    "except u.DimensionMismatchError as e:\n",
    "    print(e)\n",
    "    \n",
    "try:\n",
    "    a_function(object(), None)\n",
    "except u.DimensionMismatchError as e:\n",
    "    print(e)"
   ]
  },
  {
   "cell_type": "markdown",
   "metadata": {},
   "source": [
    "#### Validating Return Values\n",
    "\n",
    "The `check_dims` decorator can also be used to validate whether the return value of a function has the expected dimensions."
   ]
  },
  {
   "cell_type": "code",
   "execution_count": 30,
   "metadata": {},
   "outputs": [],
   "source": [
    "@u.check_dims(result=u.second.dim)\n",
    "def b_function(return_second):\n",
    "    \"\"\"\n",
    "    If return_second is True, return a value in seconds; otherwise, return a value in volts.\n",
    "    \"\"\"\n",
    "    if return_second:\n",
    "        return 5 * u.second\n",
    "    else:\n",
    "        return 3 * u.volt"
   ]
  },
  {
   "cell_type": "markdown",
   "metadata": {},
   "source": [
    "##### Correct Return Value\n",
    "The following call is correct because the return value has dimensions of seconds."
   ]
  },
  {
   "cell_type": "code",
   "execution_count": 31,
   "metadata": {},
   "outputs": [
    {
     "data": {
      "text/plain": [
       "5 * second"
      ]
     },
     "execution_count": 31,
     "metadata": {},
     "output_type": "execute_result"
    }
   ],
   "source": [
    "b_function(True)"
   ]
  },
  {
   "cell_type": "markdown",
   "metadata": {},
   "source": [
    "##### Incorrect Return Value\n",
    "The following call will raise a `DimensionMismatchError` because the return value has dimensions of volts instead of seconds."
   ]
  },
  {
   "cell_type": "code",
   "execution_count": 32,
   "metadata": {},
   "outputs": [
    {
     "name": "stdout",
     "output_type": "stream",
     "text": [
      "The return value of function 'b_function' was expected to have dimension s but was '3 * volt' (unit is m^2 kg s^-3 A^-1).\n"
     ]
    }
   ],
   "source": [
    "try:\n",
    "    b_function(False)\n",
    "except u.DimensionMismatchError as e:\n",
    "    print(e)"
   ]
  },
  {
   "cell_type": "code",
   "execution_count": 14,
   "metadata": {},
   "outputs": [],
   "source": [
    "# Strings and None are also allowed to pass\n",
    "f(\"a string\", None)\n",
    "f(None, None)"
   ]
  },
  {
   "cell_type": "markdown",
   "metadata": {},
   "source": [
    "#### Validating Multiple Return Values\n",
    "\n",
    "The `check_dims` decorator can also validate multiple return values to ensure they have the expected dimensions."
   ]
  },
  {
   "cell_type": "code",
   "execution_count": 33,
   "metadata": {},
   "outputs": [],
   "source": [
    "@u.check_dims(result=(u.second.dim, u.volt.dim))\n",
    "def d_function(true_result):\n",
    "    \"\"\"\n",
    "    If true_result is True, return values in seconds and volts; otherwise, return values in volts and seconds.\n",
    "    \"\"\"\n",
    "    if true_result:\n",
    "        return 5 * u.second, 3 * u.volt\n",
    "    else:\n",
    "        return 3 * u.volt, 5 * u.second"
   ]
  },
  {
   "cell_type": "markdown",
   "metadata": {},
   "source": [
    "##### Correct Return Values\n",
    "\n",
    "The following call is correct because the return values have dimensions of seconds and volts, respectively."
   ]
  },
  {
   "cell_type": "code",
   "execution_count": 34,
   "metadata": {},
   "outputs": [
    {
     "data": {
      "text/plain": [
       "(5 * second, 3 * volt)"
      ]
     },
     "execution_count": 34,
     "metadata": {},
     "output_type": "execute_result"
    }
   ],
   "source": [
    "d_function(True)"
   ]
  },
  {
   "cell_type": "markdown",
   "metadata": {},
   "source": [
    "##### Incorrect Return Values\n",
    "The following call will raise a `DimensionMismatchError` because the return values are in volts and seconds, which do not match the expected order."
   ]
  },
  {
   "cell_type": "code",
   "execution_count": 35,
   "metadata": {},
   "outputs": [
    {
     "name": "stdout",
     "output_type": "stream",
     "text": [
      "The return value of function 'd_function' was expected to have dimension s but was '3 * volt' (unit is m^2 kg s^-3 A^-1).\n"
     ]
    }
   ],
   "source": [
    "try:\n",
    "    d_function(False)\n",
    "except u.DimensionMismatchError as e:\n",
    "    print(e)"
   ]
  },
  {
   "cell_type": "markdown",
   "metadata": {},
   "source": [
    "#### Validating Dictionary Return Values\n",
    "The `check_dims` decorator can also validate dictionary return values to ensure they have the expected dimensions."
   ]
  },
  {
   "cell_type": "code",
   "execution_count": 36,
   "metadata": {},
   "outputs": [],
   "source": [
    "@u.check_dims(result={'u': u.second.dim, 'v': (u.volt.dim, u.metre.dim)})\n",
    "def d_function2(true_result):\n",
    "    \"\"\"\n",
    "    Return different dictionary results based on the value of true_result.\n",
    "    \"\"\"\n",
    "    if true_result == 0:\n",
    "        return {'u': 5 * u.second, 'v': (3 * u.volt, 2 * u.metre)}\n",
    "    elif true_result == 1:\n",
    "        return 3 * u.volt, 5 * u.second\n",
    "    else:\n",
    "        return {'u': 5 * u.second, 'v': (3 * u.volt, 2 * u.volt)}"
   ]
  },
  {
   "cell_type": "markdown",
   "metadata": {},
   "source": [
    "##### Correct Return Values\n",
    "The following call is correct because the return values match the expected units."
   ]
  },
  {
   "cell_type": "code",
   "execution_count": 37,
   "metadata": {},
   "outputs": [
    {
     "data": {
      "text/plain": [
       "{'u': 5 * second, 'v': (3 * volt, 2 * metre)}"
      ]
     },
     "execution_count": 37,
     "metadata": {},
     "output_type": "execute_result"
    }
   ],
   "source": [
    "d_function2(0)"
   ]
  },
  {
   "cell_type": "markdown",
   "metadata": {},
   "source": [
    "##### Incorrect Return Values\n",
    "The following calls will raise a `TypeError` or `DimensionMismatchError` because the return values do not match the expected dimensions."
   ]
  },
  {
   "cell_type": "code",
   "execution_count": 38,
   "metadata": {},
   "outputs": [
    {
     "name": "stdout",
     "output_type": "stream",
     "text": [
      "Expected a return value of type {'u': second, 'v': (metre ** 2 * kilogram * second ** -3 * amp ** -1, metre)} but got (3 * volt, 5 * second)\n",
      "The return value of function 'd_function2' was expected to have dimension m but was '2 * volt' (unit is m^2 kg s^-3 A^-1).\n"
     ]
    }
   ],
   "source": [
    "try:\n",
    "    d_function2(1)\n",
    "except TypeError as e:\n",
    "    print(e)\n",
    "try:\n",
    "    d_function2(2)\n",
    "except u.DimensionMismatchError as e:\n",
    "    print(e)"
   ]
  },
  {
   "cell_type": "code",
   "execution_count": 15,
   "metadata": {},
   "outputs": [
    {
     "name": "stdout",
     "output_type": "stream",
     "text": [
      "Function 'f' expected a array with dimension metre ** 2 * kilogram * second ** -3 * amp ** -1 for argument 'v' but got '5 * second' (unit is s).\n",
      "Function 'f' expected a array with dimension metre ** 2 * kilogram * second ** -3 * amp ** -1 for argument 'v' but got '5 * Unit(10.0^0)' (unit is 1).\n",
      "Function 'f' expected a array with dimension metre ** 2 * kilogram * second ** -3 * amp ** -1 for argument 'v' but got '<object object at 0x00000193E231BD90> * Unit(10.0^0)' (unit is 1).\n",
      "Argument 'v' is not a array, expected a array with dimensions m^2 kg s^-3 A^-1\n"
     ]
    }
   ],
   "source": [
    "# Incorrect units\n",
    "try:\n",
    "    f(5 * u.second, None)\n",
    "except Exception as e:\n",
    "    print(e)\n",
    "\n",
    "try:\n",
    "    f(5, None)\n",
    "except Exception as e:\n",
    "    print(e)\n",
    "\n",
    "try:\n",
    "    f(object(), None)\n",
    "except Exception as e:\n",
    "    print(e)\n",
    "\n",
    "try:\n",
    "    f([1, 2 * u.volt, 3], None)\n",
    "except Exception as e:\n",
    "    print(e)"
   ]
  },
  {
   "cell_type": "markdown",
   "metadata": {},
   "source": [
    "Through these test cases, we can ensure that our functions behave correctly when handling quantities and can handle unit mismatches."
   ]
  },
  {
   "cell_type": "markdown",
   "metadata": {},
   "source": [
    "### `check_units` Decorator\n",
    "The `check_units` decorator allows us to specify the units that function parameters and return values should have. If the provided units are incorrect, it raises a `UnitMismatchError`."
   ]
  },
  {
   "cell_type": "code",
   "execution_count": 16,
   "metadata": {},
   "outputs": [],
   "source": [
    "import brainunit as u\n",
    "\n",
    "@u.check_units(v=u.volt.dim)\n",
    "def f(v, x):\n",
    "    '''\n",
    "    v must have units of volt, x can have any (or no) units\n",
    "    '''\n",
    "    pass"
   ]
  },
  {
   "cell_type": "code",
   "execution_count": null,
   "metadata": {},
   "outputs": [],
   "source": []
  }
 ],
 "metadata": {
  "kernelspec": {
   "display_name": "brainunit",
   "language": "python",
   "name": "python3"
  },
  "language_info": {
   "codemirror_mode": {
    "name": "ipython",
    "version": 3
   },
   "file_extension": ".py",
   "mimetype": "text/x-python",
   "name": "python",
   "nbconvert_exporter": "python",
   "pygments_lexer": "ipython3",
   "version": "3.10.15"
  }
 },
 "nbformat": 4,
 "nbformat_minor": 2
}
