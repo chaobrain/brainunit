{
 "cells": [
  {
   "cell_type": "markdown",
   "metadata": {},
   "source": [
    "# Array Creation\n",
    "\n",
    "[![Colab](https://colab.research.google.com/assets/colab-badge.svg)](https://colab.research.google.com/github/chaoming0625/brainunit/blob/master/docs/mathematical_functions/array_creation.ipynb)\n",
    "[![Open in Kaggle](https://kaggle.com/static/images/open-in-kaggle.svg)](https://kaggle.com/kernels/welcome?src=https://github.com/chaoming0625/brainunit/blob/master/docs/mathematical_functions/array_creation.ipynb)"
   ]
  },
  {
   "cell_type": "markdown",
   "metadata": {},
   "source": [
    "The functions listed below are designed to create `array` or `Quantity` with specific properties, such as filled with a certain value, identity matrices, or arrays with ones on the diagonal. These functions are part of the `brainunit.math` module and are tailored to handle both numerical `array` and `Quantity` with units."
   ]
  },
  {
   "cell_type": "code",
   "metadata": {
    "ExecuteTime": {
     "end_time": "2024-08-29T13:29:17.717947Z",
     "start_time": "2024-08-29T13:29:17.004108Z"
    }
   },
   "source": [
    "import brainunit as u\n",
    "import jax.numpy as jnp"
   ],
   "outputs": [],
   "execution_count": 1
  },
  {
   "cell_type": "markdown",
   "metadata": {},
   "source": [
    "## `brainunit.math.array` & `brainunit.math.asarray`\n",
    "\n",
    "Convert the input to a quantity or array.\n",
    "\n",
    "  If unit is provided, the input will be checked whether it has the same unit as the provided unit.\n",
    "  (If they have same dimension but different magnitude, the input will be converted to the provided unit.)\n",
    "  If unit is not provided, the input will be converted to an array."
   ]
  },
  {
   "cell_type": "code",
   "metadata": {
    "ExecuteTime": {
     "end_time": "2024-08-29T13:29:17.866662Z",
     "start_time": "2024-08-29T13:29:17.717947Z"
    }
   },
   "source": "u.math.asarray([1, 2, 3])                       # return a jax.Array",
   "outputs": [
    {
     "data": {
      "text/plain": [
       "Array([1, 2, 3], dtype=int32)"
      ]
     },
     "execution_count": 2,
     "metadata": {},
     "output_type": "execute_result"
    }
   ],
   "execution_count": 2
  },
  {
   "cell_type": "code",
   "metadata": {
    "ExecuteTime": {
     "end_time": "2024-08-29T13:29:18.234773Z",
     "start_time": "2024-08-29T13:29:17.867678Z"
    }
   },
   "source": "u.math.asarray([1, 2, 3], unit=u.second)    # return a Quantity",
   "outputs": [
    {
     "ename": "UnitMismatchError",
     "evalue": "Cannot convert to a unit with different dimensions. (units are Unit(10.0^0) and s).",
     "output_type": "error",
     "traceback": [
      "\u001B[1;31m---------------------------------------------------------------------------\u001B[0m",
      "\u001B[1;31mUnitMismatchError\u001B[0m                         Traceback (most recent call last)",
      "Cell \u001B[1;32mIn[3], line 1\u001B[0m\n\u001B[1;32m----> 1\u001B[0m \u001B[43mu\u001B[49m\u001B[38;5;241;43m.\u001B[39;49m\u001B[43mmath\u001B[49m\u001B[38;5;241;43m.\u001B[39;49m\u001B[43masarray\u001B[49m\u001B[43m(\u001B[49m\u001B[43m[\u001B[49m\u001B[38;5;241;43m1\u001B[39;49m\u001B[43m,\u001B[49m\u001B[43m \u001B[49m\u001B[38;5;241;43m2\u001B[39;49m\u001B[43m,\u001B[49m\u001B[43m \u001B[49m\u001B[38;5;241;43m3\u001B[39;49m\u001B[43m]\u001B[49m\u001B[43m,\u001B[49m\u001B[43m \u001B[49m\u001B[43munit\u001B[49m\u001B[38;5;241;43m=\u001B[39;49m\u001B[43mu\u001B[49m\u001B[38;5;241;43m.\u001B[39;49m\u001B[43msecond\u001B[49m\u001B[43m)\u001B[49m    \u001B[38;5;66;03m# return a Quantity\u001B[39;00m\n",
      "File \u001B[1;32mD:\\codes\\projects\\brainunit\\brainunit\\math\\_fun_array_creation.py:609\u001B[0m, in \u001B[0;36masarray\u001B[1;34m(a, dtype, order, unit)\u001B[0m\n\u001B[0;32m    607\u001B[0m \u001B[38;5;28;01mif\u001B[39;00m unit \u001B[38;5;129;01mis\u001B[39;00m \u001B[38;5;129;01mnot\u001B[39;00m \u001B[38;5;28;01mNone\u001B[39;00m:\n\u001B[0;32m    608\u001B[0m   \u001B[38;5;28;01massert\u001B[39;00m \u001B[38;5;28misinstance\u001B[39m(unit, Unit), \u001B[38;5;124mf\u001B[39m\u001B[38;5;124m'\u001B[39m\u001B[38;5;124munit must be an instance of Unit, got \u001B[39m\u001B[38;5;132;01m{\u001B[39;00m\u001B[38;5;28mtype\u001B[39m(unit)\u001B[38;5;132;01m}\u001B[39;00m\u001B[38;5;124m'\u001B[39m\n\u001B[1;32m--> 609\u001B[0m   leaves \u001B[38;5;241m=\u001B[39m \u001B[43m[\u001B[49m\u001B[43mleaf\u001B[49m\u001B[38;5;241;43m.\u001B[39;49m\u001B[43min_unit\u001B[49m\u001B[43m(\u001B[49m\u001B[43munit\u001B[49m\u001B[43m)\u001B[49m\u001B[43m \u001B[49m\u001B[38;5;28;43;01mfor\u001B[39;49;00m\u001B[43m \u001B[49m\u001B[43mleaf\u001B[49m\u001B[43m \u001B[49m\u001B[38;5;129;43;01min\u001B[39;49;00m\u001B[43m \u001B[49m\u001B[43mleaves\u001B[49m\u001B[43m]\u001B[49m\n\u001B[0;32m    610\u001B[0m \u001B[38;5;28;01melse\u001B[39;00m:\n\u001B[0;32m    611\u001B[0m   unit \u001B[38;5;241m=\u001B[39m leaf_unit\n",
      "File \u001B[1;32mD:\\codes\\projects\\brainunit\\brainunit\\math\\_fun_array_creation.py:609\u001B[0m, in \u001B[0;36m<listcomp>\u001B[1;34m(.0)\u001B[0m\n\u001B[0;32m    607\u001B[0m \u001B[38;5;28;01mif\u001B[39;00m unit \u001B[38;5;129;01mis\u001B[39;00m \u001B[38;5;129;01mnot\u001B[39;00m \u001B[38;5;28;01mNone\u001B[39;00m:\n\u001B[0;32m    608\u001B[0m   \u001B[38;5;28;01massert\u001B[39;00m \u001B[38;5;28misinstance\u001B[39m(unit, Unit), \u001B[38;5;124mf\u001B[39m\u001B[38;5;124m'\u001B[39m\u001B[38;5;124munit must be an instance of Unit, got \u001B[39m\u001B[38;5;132;01m{\u001B[39;00m\u001B[38;5;28mtype\u001B[39m(unit)\u001B[38;5;132;01m}\u001B[39;00m\u001B[38;5;124m'\u001B[39m\n\u001B[1;32m--> 609\u001B[0m   leaves \u001B[38;5;241m=\u001B[39m [\u001B[43mleaf\u001B[49m\u001B[38;5;241;43m.\u001B[39;49m\u001B[43min_unit\u001B[49m\u001B[43m(\u001B[49m\u001B[43munit\u001B[49m\u001B[43m)\u001B[49m \u001B[38;5;28;01mfor\u001B[39;00m leaf \u001B[38;5;129;01min\u001B[39;00m leaves]\n\u001B[0;32m    610\u001B[0m \u001B[38;5;28;01melse\u001B[39;00m:\n\u001B[0;32m    611\u001B[0m   unit \u001B[38;5;241m=\u001B[39m leaf_unit\n",
      "File \u001B[1;32mD:\\codes\\projects\\brainunit\\brainunit\\_base.py:2081\u001B[0m, in \u001B[0;36mQuantity.in_unit\u001B[1;34m(self, unit)\u001B[0m\n\u001B[0;32m   2079\u001B[0m \u001B[38;5;28;01massert\u001B[39;00m \u001B[38;5;28misinstance\u001B[39m(unit, Unit), \u001B[38;5;124mf\u001B[39m\u001B[38;5;124m\"\u001B[39m\u001B[38;5;124mExpected a Unit, but got \u001B[39m\u001B[38;5;132;01m{\u001B[39;00munit\u001B[38;5;132;01m}\u001B[39;00m\u001B[38;5;124m.\u001B[39m\u001B[38;5;124m\"\u001B[39m\n\u001B[0;32m   2080\u001B[0m \u001B[38;5;28;01mif\u001B[39;00m \u001B[38;5;129;01mnot\u001B[39;00m unit\u001B[38;5;241m.\u001B[39mhas_same_dim(\u001B[38;5;28mself\u001B[39m\u001B[38;5;241m.\u001B[39munit):\n\u001B[1;32m-> 2081\u001B[0m   \u001B[38;5;28;01mraise\u001B[39;00m UnitMismatchError(\u001B[38;5;124mf\u001B[39m\u001B[38;5;124m\"\u001B[39m\u001B[38;5;124mCannot convert to a unit with different dimensions.\u001B[39m\u001B[38;5;124m\"\u001B[39m, \u001B[38;5;28mself\u001B[39m\u001B[38;5;241m.\u001B[39munit, unit)\n\u001B[0;32m   2082\u001B[0m \u001B[38;5;28;01mif\u001B[39;00m unit\u001B[38;5;241m.\u001B[39mhas_same_scale(\u001B[38;5;28mself\u001B[39m\u001B[38;5;241m.\u001B[39munit):\n\u001B[0;32m   2083\u001B[0m   u \u001B[38;5;241m=\u001B[39m Quantity(\u001B[38;5;28mself\u001B[39m\u001B[38;5;241m.\u001B[39m_mantissa, unit\u001B[38;5;241m=\u001B[39munit)\n",
      "\u001B[1;31mUnitMismatchError\u001B[0m: Cannot convert to a unit with different dimensions. (units are Unit(10.0^0) and s)."
     ]
    }
   ],
   "execution_count": 3
  },
  {
   "cell_type": "code",
   "metadata": {
    "ExecuteTime": {
     "end_time": "2024-08-29T13:29:18.234773Z",
     "start_time": "2024-08-29T13:29:18.234773Z"
    }
   },
   "source": [
    "# check if the input has the same unit as the provided unit\n",
    "u.math.asarray([1 * u.second, 2 * u.second], unit=u.second)"
   ],
   "outputs": [],
   "execution_count": null
  },
  {
   "cell_type": "code",
   "metadata": {
    "ExecuteTime": {
     "end_time": "2024-08-29T13:29:18.234773Z",
     "start_time": "2024-08-29T13:29:18.234773Z"
    }
   },
   "source": [
    "# fails because the input has a different unit\n",
    "try:\n",
    "    u.math.asarray([1 * u.second, 2 * u.second], unit=u.ampere)\n",
    "except Exception as e:\n",
    "    print(e)"
   ],
   "outputs": [],
   "execution_count": null
  },
  {
   "cell_type": "markdown",
   "metadata": {},
   "source": [
    "## `brainunit.math.arange`\n",
    "Return evenly spaced values within a given interval."
   ]
  },
  {
   "cell_type": "code",
   "metadata": {},
   "source": "u.math.arange(5)                                    # return a jax.Array",
   "outputs": [],
   "execution_count": null
  },
  {
   "cell_type": "code",
   "metadata": {},
   "source": "u.math.arange(5 * u.second, step=1 * u.second) # return a Quantity",
   "outputs": [],
   "execution_count": null
  },
  {
   "cell_type": "code",
   "metadata": {},
   "source": "u.math.arange(3, 9, 1)                                          # return a jax.Array",
   "outputs": [],
   "execution_count": null
  },
  {
   "cell_type": "code",
   "metadata": {},
   "source": "u.math.arange(3 * u.second, 9 * u.second, 1 * u.second)   # return a Quantity",
   "outputs": [],
   "execution_count": null
  },
  {
   "cell_type": "markdown",
   "metadata": {},
   "source": [
    "## `brainunit.math.array_split`\n",
    "Split an array into multiple sub-arrays."
   ]
  },
  {
   "cell_type": "code",
   "metadata": {},
   "source": [
    "a = jnp.arange(9)\n",
    "\n",
    "u.math.array_split(a, 3)      # return a jax.Array"
   ],
   "outputs": [],
   "execution_count": null
  },
  {
   "cell_type": "code",
   "metadata": {},
   "source": [
    "q = jnp.arange(9) * u.second\n",
    "\n",
    "u.math.array_split(q, 3)   # return a Quantity"
   ],
   "outputs": [],
   "execution_count": null
  },
  {
   "cell_type": "markdown",
   "metadata": {},
   "source": [
    "## `brainunit.math.linspace`\n",
    "Return evenly spaced numbers over a specified interval."
   ]
  },
  {
   "cell_type": "code",
   "metadata": {},
   "source": "u.math.linspace(0, 10, 5)                               # return a jax.Array",
   "outputs": [],
   "execution_count": null
  },
  {
   "cell_type": "code",
   "metadata": {},
   "source": "u.math.linspace(0 * u.second, 10 * u.second, 5)    # return a Quantity",
   "outputs": [],
   "execution_count": null
  },
  {
   "cell_type": "markdown",
   "metadata": {},
   "source": [
    "## `brainunit.math.logspace`\n",
    "Return numbers spaced evenly on a log scale."
   ]
  },
  {
   "cell_type": "code",
   "metadata": {},
   "source": "u.math.logspace(0, 10, 5)                               # return a jax.Array",
   "outputs": [],
   "execution_count": null
  },
  {
   "cell_type": "code",
   "metadata": {},
   "source": "u.math.logspace(0 * u.second, 10 * u.second, 5)    # return a Quantity",
   "outputs": [],
   "execution_count": null
  },
  {
   "cell_type": "markdown",
   "metadata": {},
   "source": [
    "## `brainunit.math.meshgrid`\n",
    "Return coordinate matrices from coordinate vectors."
   ]
  },
  {
   "cell_type": "code",
   "metadata": {},
   "source": [
    "x = jnp.array([1, 2, 3])\n",
    "y = jnp.array([4, 5])\n",
    "\n",
    "u.math.meshgrid(x, y)           # return a jax.Array"
   ],
   "outputs": [],
   "execution_count": null
  },
  {
   "cell_type": "code",
   "metadata": {},
   "source": [
    "x_q = jnp.array([1, 2, 3]) * u.second\n",
    "y_q = jnp.array([4, 5]) * u.second\n",
    "\n",
    "u.math.meshgrid(x_q, y_q)    # return a Quantity"
   ],
   "outputs": [],
   "execution_count": null
  },
  {
   "cell_type": "markdown",
   "metadata": {},
   "source": [
    "## `brainunit.math.vander`\n",
    "Generate a Vandermonde matrix.\n",
    "\n",
    "The Vandermonde matrix is a matrix with the terms of a geometric progression in each row.\n",
    "  The geometric progression is defined by the vector `x` and the number of columns `N`.\n"
   ]
  },
  {
   "cell_type": "code",
   "metadata": {},
   "source": [
    "a = jnp.array([1, 2, 3])\n",
    "\n",
    "u.math.vander(a)                       # return a jax.Array"
   ],
   "outputs": [],
   "execution_count": null
  },
  {
   "cell_type": "code",
   "metadata": {},
   "source": [
    "q = jnp.array([1, 2, 3]) * u.second\n",
    "\n",
    "u.math.vander(q)    # return a Quantity"
   ],
   "outputs": [],
   "execution_count": null
  },
  {
   "cell_type": "markdown",
   "metadata": {},
   "source": [
    "## Can use with `Quantity`\n",
    "\n",
    "The functions below can be used with `Quantity` with units."
   ]
  },
  {
   "cell_type": "markdown",
   "metadata": {},
   "source": [
    "### `brainunit.math.full`\n",
    "Returns a quantity or array filled with a specific value."
   ]
  },
  {
   "cell_type": "code",
   "metadata": {},
   "source": "u.math.full(3, 4)                   # return a jax.Array",
   "outputs": [],
   "execution_count": null
  },
  {
   "cell_type": "code",
   "metadata": {},
   "source": "u.math.full(3, 4 * u.second)    # return a Quantity",
   "outputs": [],
   "execution_count": null
  },
  {
   "cell_type": "markdown",
   "metadata": {},
   "source": [
    "### `brainunit.math.empty`\n",
    "Return a new quantity or array of given shape and type, without initializing entries."
   ]
  },
  {
   "cell_type": "code",
   "metadata": {},
   "source": "u.math.empty((2, 2))                    # return a jax.Array",
   "outputs": [],
   "execution_count": null
  },
  {
   "cell_type": "code",
   "metadata": {},
   "source": "u.math.empty((2, 2), unit=u.second) # return a Quantity",
   "outputs": [],
   "execution_count": null
  },
  {
   "cell_type": "markdown",
   "metadata": {},
   "source": [
    "### `brainunit.math.ones`\n",
    "Returns a new quantity or array of given shape and type, filled with ones."
   ]
  },
  {
   "cell_type": "code",
   "metadata": {},
   "source": "u.math.ones((2, 2))                     # return a jax.Array",
   "outputs": [],
   "execution_count": null
  },
  {
   "cell_type": "code",
   "metadata": {},
   "source": "u.math.ones((2, 2), unit=u.second)  # return a Quantity",
   "outputs": [],
   "execution_count": null
  },
  {
   "cell_type": "markdown",
   "metadata": {},
   "source": [
    "### `brainunit.math.zeros`\n",
    "Returns a new quantity or array of given shape and type, filled with ones."
   ]
  },
  {
   "cell_type": "code",
   "metadata": {},
   "source": "u.math.zeros((2, 2))                    # return a jax.Array",
   "outputs": [],
   "execution_count": null
  },
  {
   "cell_type": "code",
   "metadata": {},
   "source": "u.math.zeros((2, 2), unit=u.second) # return a Quantity",
   "outputs": [],
   "execution_count": null
  },
  {
   "cell_type": "markdown",
   "metadata": {},
   "source": [
    "### `brainunit.math.full_like`\n",
    "Return a new quantity or array with the same shape and type as a given array or quantity, filled with `fill_value`.\n"
   ]
  },
  {
   "cell_type": "code",
   "metadata": {},
   "source": [
    "a = jnp.array([1, 2, 3])\n",
    "\n",
    "u.math.full_like(a, 4)                       # return a jax.Array"
   ],
   "outputs": [],
   "execution_count": null
  },
  {
   "cell_type": "code",
   "metadata": {},
   "source": "u.math.full_like(a, 4 * u.second)         # return a Quantity",
   "outputs": [],
   "execution_count": null
  },
  {
   "cell_type": "markdown",
   "metadata": {},
   "source": [
    "### `brainunit.math.empty_like`\n",
    "Return a new quantity or array with the same shape and type as a given array.\n"
   ]
  },
  {
   "cell_type": "code",
   "metadata": {},
   "source": [
    "a = jnp.array([1, 2, 3])\n",
    "\n",
    "u.math.empty_like(a)       # return a jax.Array"
   ],
   "outputs": [],
   "execution_count": null
  },
  {
   "cell_type": "code",
   "metadata": {},
   "source": [
    "q = jnp.array([1, 2, 3]) * u.second\n",
    "\n",
    "u.math.empty_like(q)    # return a Quantity"
   ],
   "outputs": [],
   "execution_count": null
  },
  {
   "cell_type": "markdown",
   "metadata": {},
   "source": [
    "### `brainunit.math.ones_like`\n",
    "Return a new quantity or array with the same shape and type as a given array, filled with ones."
   ]
  },
  {
   "cell_type": "code",
   "metadata": {},
   "source": [
    "a = jnp.array([1, 2, 3])\n",
    "\n",
    "u.math.ones_like(a)       # return a jax.Array"
   ],
   "outputs": [],
   "execution_count": null
  },
  {
   "cell_type": "code",
   "metadata": {},
   "source": [
    "q = jnp.array([1, 2, 3]) * u.second\n",
    "\n",
    "u.math.ones_like(q)    # return a Quantity"
   ],
   "outputs": [],
   "execution_count": null
  },
  {
   "cell_type": "markdown",
   "metadata": {},
   "source": [
    "### `brainunit.math.zeros_like`\n",
    "Return a new quantity or array with the same shape and type as a given array, filled with zeros."
   ]
  },
  {
   "cell_type": "code",
   "metadata": {},
   "source": [
    "a = jnp.array([1, 2, 3])\n",
    "\n",
    "u.math.zeros_like(a)       # return a jax.Array"
   ],
   "outputs": [],
   "execution_count": null
  },
  {
   "cell_type": "code",
   "metadata": {},
   "source": [
    "q = jnp.array([1, 2, 3]) * u.second\n",
    "\n",
    "u.math.zeros_like(q)    # return a Quantity"
   ],
   "outputs": [],
   "execution_count": null
  },
  {
   "cell_type": "markdown",
   "metadata": {},
   "source": [
    "### `brainunit.math.fill_diagonal`\n",
    "Fill the main diagonal of the given array of any dimensionality."
   ]
  },
  {
   "cell_type": "code",
   "metadata": {},
   "source": [
    "a = jnp.zeros((3, 3))\n",
    "\n",
    "u.math.fill_diagonal(a, 4)      # return a jax.Array"
   ],
   "outputs": [],
   "execution_count": null
  },
  {
   "cell_type": "code",
   "metadata": {},
   "source": [
    "q = jnp.zeros((3, 3)) * u.second\n",
    "\n",
    "u.math.fill_diagonal(q, 4 * u.second)   # return a Quantity"
   ],
   "outputs": [],
   "execution_count": null
  },
  {
   "cell_type": "markdown",
   "metadata": {},
   "source": [
    "## Can use with `unit` keyword\n",
    "\n",
    "The functions below can be used with the `unit` keyword."
   ]
  },
  {
   "cell_type": "markdown",
   "metadata": {},
   "source": [
    "### `brainunit.math.eye`\n",
    "Returns a 2-D quantity or array with ones on the diagonal and zeros elsewhere."
   ]
  },
  {
   "cell_type": "code",
   "metadata": {},
   "source": "u.math.eye(3)                       # return a jax.Array",
   "outputs": [],
   "execution_count": null
  },
  {
   "cell_type": "code",
   "metadata": {},
   "source": "u.math.eye(3, unit=u.second)    # return a Quantity",
   "outputs": [],
   "execution_count": null
  },
  {
   "cell_type": "markdown",
   "metadata": {},
   "source": [
    "### `brainunit.math.identity`\n",
    "Return the identity Quantity or array."
   ]
  },
  {
   "cell_type": "code",
   "metadata": {},
   "source": "u.math.identity(3)                  # return a jax.Array",
   "outputs": [],
   "execution_count": null
  },
  {
   "cell_type": "code",
   "metadata": {},
   "source": "u.math.identity(3, unit=u.second)    # return a Quantity",
   "outputs": [],
   "execution_count": null
  },
  {
   "cell_type": "markdown",
   "metadata": {},
   "source": [
    "### `brainunit.math.tri`\n",
    "Returns A quantity or an array with ones at and below the given diagonal and zeros elsewhere.\n"
   ]
  },
  {
   "cell_type": "code",
   "metadata": {},
   "source": "u.math.tri(3)                       # return a jax.Array",
   "outputs": [],
   "execution_count": null
  },
  {
   "cell_type": "code",
   "metadata": {},
   "source": "u.math.tri(3, unit=u.second)    # return a Quantity",
   "outputs": [],
   "execution_count": null
  },
  {
   "cell_type": "markdown",
   "metadata": {},
   "source": [
    "### `brainunit.math.diag`\n",
    "Extract a diagonal or construct a diagonal array."
   ]
  },
  {
   "cell_type": "code",
   "metadata": {},
   "source": [
    "a = jnp.array([1, 2, 3])\n",
    "\n",
    "u.math.diag(a)                       # return a jax.Array"
   ],
   "outputs": [],
   "execution_count": null
  },
  {
   "cell_type": "code",
   "metadata": {},
   "source": "u.math.diag(a, unit=u.second)    # return a Quantity",
   "outputs": [],
   "execution_count": null
  },
  {
   "cell_type": "markdown",
   "metadata": {},
   "source": [
    "### `brainunit.math.tril`\n",
    "Lower triangle of an array.\n",
    "\n",
    "  Return a copy of a matrix with the elements above the `k`-th diagonal zeroed.\n",
    "  For quantities or arrays with ``ndim`` exceeding 2, `tril` will apply to the final two axes.\n"
   ]
  },
  {
   "cell_type": "code",
   "metadata": {},
   "source": [
    "a = jnp.ones((3, 3))\n",
    "\n",
    "u.math.diag(a)                       # return a jax.Array"
   ],
   "outputs": [],
   "execution_count": null
  },
  {
   "cell_type": "code",
   "metadata": {},
   "source": "u.math.diag(a, unit=u.second)    # return a Quantity",
   "outputs": [],
   "execution_count": null
  },
  {
   "cell_type": "markdown",
   "metadata": {},
   "source": [
    "### `brainunit.math.triu`\n",
    "Upper triangle of an array.\n",
    "\n",
    "  Return a copy of a matrix with the elements below the `k`-th diagonal zeroed.\n",
    "  For quantities or arrays with ``ndim`` exceeding 2, `triu` will apply to the final two axes."
   ]
  },
  {
   "cell_type": "code",
   "metadata": {},
   "source": [
    "a = jnp.ones((3, 3))\n",
    "\n",
    "u.math.tril(a)                       # return a jax.Array"
   ],
   "outputs": [],
   "execution_count": null
  },
  {
   "cell_type": "code",
   "metadata": {},
   "source": "u.math.tril(a, unit=u.second)    # return a Quantity",
   "outputs": [],
   "execution_count": null
  }
 ],
 "metadata": {
  "kernelspec": {
   "display_name": "Python 3",
   "language": "python",
   "name": "python3"
  },
  "language_info": {
   "codemirror_mode": {
    "name": "ipython",
    "version": 3
   },
   "file_extension": ".py",
   "mimetype": "text/x-python",
   "name": "python",
   "nbconvert_exporter": "python",
   "pygments_lexer": "ipython3",
   "version": "3.10.13"
  }
 },
 "nbformat": 4,
 "nbformat_minor": 2
}
