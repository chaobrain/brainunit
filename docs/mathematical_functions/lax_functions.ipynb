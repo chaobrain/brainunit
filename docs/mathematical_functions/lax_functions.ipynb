{
 "cells": [
  {
   "cell_type": "markdown",
   "metadata": {},
   "source": [
    "# Jax Lax Functions\n",
    "\n",
    "[![Colab](https://colab.research.google.com/assets/colab-badge.svg)](https://colab.research.google.com/github/chaobrain/brainunit/blob/master/docs/mathematical_functions/lax_functions.ipynb)\n",
    "[![Open in Kaggle](https://kaggle.com/static/images/open-in-kaggle.svg)](https://kaggle.com/kernels/welcome?src=https://github.com/chaobrain/brainunit/blob/master/docs/mathematical_functions/lax_functions.ipynb)"
   ]
  },
  {
   "cell_type": "markdown",
   "metadata": {},
   "source": [
    "In `brainunit.lax` we reimplemented almost all important Jax Lax functions compatible with both `Quantity` and arrays.\n",
    "For compatible with `Quantity`, we categorized the functions into serveral groups.\n",
    "\n",
    "- [Lax Array Creation](https://brainunit.readthedocs.io/en/latest/apis/brainunit.lax.html#array-creation-functions)\n",
    "- [Lax Accept Unitless](https://brainunit.readthedocs.io/en/latest/apis/brainunit.lax.html#functions-that-accepting-unitless)\n",
    "- [Lax Changing Unit](https://brainunit.readthedocs.io/en/latest/apis/brainunit.lax.html#functions-that-changing-unit)\n",
    "- [Lax Keeping Unit](https://brainunit.readthedocs.io/en/latest/apis/brainunit.lax.html#functions-that-keeping-unit)\n",
    "- [Lax Removing Unit](https://brainunit.readthedocs.io/en/latest/apis/brainunit.lax.html#functions-that-removing-unit)\n",
    "- [Lax Linear Algebra Functions](https://brainunit.readthedocs.io/en/latest/apis/brainunit.lax.html#linalg-functions)\n",
    "- [More Functions](https://brainunit.readthedocs.io/en/latest/apis/brainunit.lax.html#other-functions)"
   ]
  }
 ],
 "metadata": {
  "language_info": {
   "name": "python"
  }
 },
 "nbformat": 4,
 "nbformat_minor": 2
}
