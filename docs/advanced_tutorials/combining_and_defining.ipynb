{
 "cells": [
  {
   "cell_type": "markdown",
   "metadata": {},
   "source": [
    "# Combining and Defining Unit\n",
    "\n",
    "[![Colab](https://colab.research.google.com/assets/colab-badge.svg)](https://colab.research.google.com/github/chaobrain/brainunit/blob/master/docs/advanced_tutorials/combining_and_defining.ipynb)\n",
    "[![Open in Kaggle](https://kaggle.com/static/images/open-in-kaggle.svg)](https://kaggle.com/kernels/welcome?src=https://github.com/chaobrain/brainunit/blob/master/docs/advanced_tutorials/combining_and_defining.ipynb)"
   ]
  },
  {
   "cell_type": "markdown",
   "metadata": {},
   "source": [
    "## Combining Example\n",
    "\n",
    "Units and quantities can be combined together using the regular Python numeric operators:"
   ]
  },
  {
   "cell_type": "code",
   "execution_count": 6,
   "metadata": {
    "ExecuteTime": {
     "end_time": "2024-08-29T13:15:34.806884Z",
     "start_time": "2024-08-29T13:15:34.801707Z"
    }
   },
   "outputs": [
    {
     "data": {
      "text/plain": [
       "True"
      ]
     },
     "execution_count": 6,
     "metadata": {},
     "output_type": "execute_result"
    }
   ],
   "source": [
    "import brainunit as u\n",
    "volt = u.meter2 * u.kilogram / (u.second3 * u.ampere)\n",
    "volt == u.volt"
   ]
  },
  {
   "cell_type": "markdown",
   "metadata": {},
   "source": [
    "## Defining Units\n",
    "\n",
    "Users are free to define new units, either fundamental or compound, using the `Unit.create` and  `Unit.create_scaled_unit` function:"
   ]
  },
  {
   "cell_type": "markdown",
   "metadata": {},
   "source": [
    "### Creating Basic Units\n",
    "\n",
    "First, we create some basic units, such as meters (metre) and seconds (second):"
   ]
  },
  {
   "cell_type": "code",
   "execution_count": 7,
   "metadata": {
    "ExecuteTime": {
     "end_time": "2024-08-29T13:15:34.825950Z",
     "start_time": "2024-08-29T13:15:34.814939Z"
    }
   },
   "outputs": [
    {
     "data": {
      "text/plain": [
       "(metre, second)"
      ]
     },
     "execution_count": 7,
     "metadata": {},
     "output_type": "execute_result"
    }
   ],
   "source": [
    "# Creating a basic unit: metre\n",
    "metre = u.Unit.create(u.get_or_create_dimension(m=1), \"metre\", \"m\", base=10.)\n",
    "\n",
    "# Creating a basic unit: second\n",
    "second = u.Unit.create(u.get_or_create_dimension(s=1), \"second\", \"s\", base=10.)\n",
    "\n",
    "metre, second"
   ]
  },
  {
   "cell_type": "markdown",
   "metadata": {},
   "source": [
    "### Creating Compound Units\n",
    "\n",
    "Next, we create a compound unit, such as volt(metre ^ 2 * kilogram / (second ^ 3 * ampere)):"
   ]
  },
  {
   "cell_type": "code",
   "execution_count": 8,
   "metadata": {
    "ExecuteTime": {
     "end_time": "2024-08-29T13:15:34.854992Z",
     "start_time": "2024-08-29T13:15:34.846905Z"
    }
   },
   "outputs": [
    {
     "data": {
      "text/plain": [
       "volt"
      ]
     },
     "execution_count": 8,
     "metadata": {},
     "output_type": "execute_result"
    }
   ],
   "source": [
    "volt = u.Unit.create(u.get_or_create_dimension(m=2, kg=1, s=-3, A=-1), \"volt\", \"V\")\n",
    "\n",
    "volt"
   ]
  },
  {
   "cell_type": "markdown",
   "metadata": {},
   "source": [
    "In this example, we define the dimensions for the compound unit and create a new unit named \"volt\" with the specified dimensions."
   ]
  },
  {
   "cell_type": "markdown",
   "metadata": {},
   "source": [
    "### Creating Scaled Units\n",
    "\n",
    "Finally, we create a scaled version of a basic unit, such as kilometers (kilometre):"
   ]
  },
  {
   "cell_type": "code",
   "execution_count": 9,
   "metadata": {
    "ExecuteTime": {
     "end_time": "2024-08-29T13:15:34.860745Z",
     "start_time": "2024-08-29T13:15:34.854992Z"
    }
   },
   "outputs": [
    {
     "data": {
      "text/plain": [
       "kmetre"
      ]
     },
     "execution_count": 9,
     "metadata": {},
     "output_type": "execute_result"
    }
   ],
   "source": [
    "kilometre = u.Unit.create_scaled_unit(metre, \"k\")\n",
    "\n",
    "kilometre"
   ]
  },
  {
   "cell_type": "code",
   "execution_count": 10,
   "metadata": {
    "ExecuteTime": {
     "end_time": "2024-08-29T13:15:34.868272Z",
     "start_time": "2024-08-29T13:15:34.860745Z"
    }
   },
   "outputs": [
    {
     "data": {
      "text/plain": [
       "1. * Unit(10.0^3)"
      ]
     },
     "execution_count": 10,
     "metadata": {},
     "output_type": "execute_result"
    }
   ],
   "source": [
    "1 * kilometre / (1 * metre)"
   ]
  },
  {
   "cell_type": "markdown",
   "metadata": {},
   "source": [
    "Here, `create_scaled_unit` creates a new unit named \"kilometre\" by scaling the base unit \"metre\" with a scale factor of \"k\" (kilo).\n",
    "\n",
    "The scale factor determines the prefix used for the unit, allowing for easy conversion between different scales of the same unit."
   ]
  }
 ],
 "metadata": {
  "kernelspec": {
   "display_name": "brainpy-dev",
   "language": "python",
   "name": "python3"
  },
  "language_info": {
   "codemirror_mode": {
    "name": "ipython",
    "version": 3
   },
   "file_extension": ".py",
   "mimetype": "text/x-python",
   "name": "python",
   "nbconvert_exporter": "python",
   "pygments_lexer": "ipython3",
   "version": "3.10.13"
  }
 },
 "nbformat": 4,
 "nbformat_minor": 2
}
